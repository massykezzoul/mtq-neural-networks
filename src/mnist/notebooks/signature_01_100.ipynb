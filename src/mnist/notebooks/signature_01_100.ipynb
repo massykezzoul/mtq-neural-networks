{
 "cells": [
  {
   "cell_type": "code",
   "execution_count": 6,
   "id": "alternate-officer",
   "metadata": {},
   "outputs": [],
   "source": [
    "import sys\n",
    "sys.path.append(\"../\") \n",
    "\n",
    "import numpy as np\n",
    "#from tensorflow import keras\n",
    "from tools import signature as sig\n",
    "#from sklearn.preprocessing import StandardScaler\n",
    "\n",
    "from ipywidgets import interact, fixed\n",
    "import ipywidgets as widgets\n",
    "from plotly.subplots import make_subplots\n",
    "import plotly.graph_objects as go\n",
    "\n",
    "from ipywidgets import Image, Layout\n",
    "import PIL.Image\n",
    "import io"
   ]
  },
  {
   "cell_type": "code",
   "execution_count": 9,
   "id": "compatible-burlington",
   "metadata": {},
   "outputs": [],
   "source": [
    "jsonfilename = '../json/signature_01_100.json'"
   ]
  },
  {
   "cell_type": "code",
   "execution_count": 10,
   "id": "absent-poetry",
   "metadata": {},
   "outputs": [],
   "source": [
    "# Build colorscale\n",
    "dict_data = sig.loadJson(jsonfilename)\n",
    "\n",
    "x = np.array(dict_data['x'])\n",
    "labels = dict_data['labels']\n",
    "predictions = dict_data['predictions']\n",
    "hidden_layers = [np.array(e) for e in dict_data['hidden_layers']]\n",
    "clusters = dict_data['clusters']\n",
    "\n",
    "keep = dict_data['keep']\n",
    "best_k = dict_data['best_k']\n",
    "\n",
    "colorscale = {\n",
    "    'color': np.zeros(len(x), dtype='uint8'),\n",
    "    'colorscale': ['grey', '#ee1717', '#7201a8', '#17a60d', '#291ae0', '#f418ff', '#e3ae04', \n",
    "                    '#fb5e09', 'black', '#0ed6e1', '#d35400'],\n",
    "    'cmin': 0,\n",
    "    'cmax': 10\n",
    "}\n",
    "\n",
    "traces = sig.umap_plot(x, labels, predictions, hidden_layers, clusters, colorscale)\n",
    "\n",
    "parcats = sig.parcats(labels, keep, best_k, clusters, predictions, colorscale)\n",
    "\n",
    "traces.append(parcats)"
   ]
  },
  {
   "cell_type": "code",
   "execution_count": 11,
   "id": "pressed-still",
   "metadata": {},
   "outputs": [],
   "source": [
    "def image_to_byte_array(image):\n",
    "    imgByteArr = io.BytesIO()\n",
    "    image.save(imgByteArr, format='png')\n",
    "    imgByteArr = imgByteArr.getvalue()\n",
    "    return imgByteArr\n",
    "\n",
    "def to_image(x):\n",
    "    return  image_to_byte_array(\n",
    "                PIL.Image.fromarray(\n",
    "                    (x.reshape(28 , 28) * 255).astype(np.uint8)\n",
    "                ))\n",
    "\n",
    "# Update color callback\n",
    "def update_color(trace, points, state):\n",
    "    # Compute new color array\n",
    "    new_color = np.array(trace.marker.color)\n",
    "    new_color[points.point_inds] = color_toggle.index\n",
    "    with fig.batch_update():\n",
    "        # Update scatter color\n",
    "        for i in range(len(fig.data)-1):\n",
    "            fig.data[i].marker.color = new_color\n",
    "\n",
    "        # Update parcats colors\n",
    "        fig.data[len(fig.data)-1].line.color = new_color\n",
    "        \n",
    "# Update color callback\n",
    "def update_parcats_color(trace, points, state):\n",
    "    # Compute new color array\n",
    "    new_color = np.array(trace.line.color)\n",
    "    new_color[points.point_inds] = color_toggle.index\n",
    "    with fig.batch_update():\n",
    "        # Update scatter color\n",
    "        for i in range(len(fig.data)-1):\n",
    "            fig.data[i].marker.color = new_color\n",
    "\n",
    "        # Update parcats colors\n",
    "        fig.data[len(fig.data)-1].line.color = new_color\n",
    "        \n",
    "def print_image(trace, points, state):     \n",
    "    # Image update\n",
    "    if (points.point_inds != []):\n",
    "        image_widget.value = to_image(x[points.point_inds[0]])"
   ]
  },
  {
   "cell_type": "code",
   "execution_count": 12,
   "id": "julian-chicken",
   "metadata": {},
   "outputs": [
    {
     "data": {
      "application/vnd.jupyter.widget-view+json": {
       "model_id": "68f53bdd1c0d4bfebbb3fcaad85b9e49",
       "version_major": 2,
       "version_minor": 0
      },
      "text/plain": [
       "VBox(children=(ToggleButtons(description='Color:', index=1, options=('None', 'Red', 'Purple', 'Green', 'Blue',…"
      ]
     },
     "metadata": {},
     "output_type": "display_data"
    }
   ],
   "source": [
    "fig = make_subplots(rows=3, figure=go.FigureWidget(), specs=[[{'type': 'xy'}],\n",
    "                                                             [{'type': 'xy'}],\n",
    "                                                            [{'type': 'parcats'}]])\n",
    "\n",
    "fig.add_traces(traces, rows=[1, 2, 3], cols=[1, 1, 1])\n",
    "\n",
    "fig.update_layout(height=800,\n",
    "                    dragmode='lasso', hovermode='closest')\n",
    "\n",
    "# Build color selection widget\n",
    "color_toggle = widgets.ToggleButtons(\n",
    "    options=['None', 'Red', 'Purple', 'Green', 'Blue', 'Pink', \n",
    "                 'Yellow', 'Orange','Black' ,'Aqua', 'Brown'],\n",
    "    index=1, description='Color:', disabled=False)\n",
    "    \n",
    "image_widget = Image(\n",
    "    value=to_image(x[0]),\n",
    "    layout=Layout(height='100px', width='100px')\n",
    ")\n",
    "\n",
    "# Register callback on scatter selection...\n",
    "fig.data[0].on_selection(update_color)\n",
    "fig.data[1].on_selection(update_color)\n",
    "\n",
    "fig.data[0].on_hover(print_image)\n",
    "fig.data[1].on_hover(print_image)\n",
    "\n",
    "# and parcats click\n",
    "fig.data[2].on_click(update_parcats_color)\n",
    "\n",
    "# Display figure\n",
    "widgets.VBox([color_toggle, image_widget, fig])"
   ]
  },
  {
   "cell_type": "code",
   "execution_count": null,
   "id": "relative-concert",
   "metadata": {},
   "outputs": [],
   "source": []
  }
 ],
 "metadata": {
  "kernelspec": {
   "display_name": "Python 3",
   "language": "python",
   "name": "python3"
  },
  "language_info": {
   "codemirror_mode": {
    "name": "ipython",
    "version": 3
   },
   "file_extension": ".py",
   "mimetype": "text/x-python",
   "name": "python",
   "nbconvert_exporter": "python",
   "pygments_lexer": "ipython3",
   "version": "3.8.6"
  }
 },
 "nbformat": 4,
 "nbformat_minor": 5
}
