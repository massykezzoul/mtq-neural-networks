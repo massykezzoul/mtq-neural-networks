{
 "cells": [
  {
   "cell_type": "markdown",
   "id": "lightweight-contest",
   "metadata": {},
   "source": [
    "# Première classification\n",
    "\n",
    "Dans ce notebook, on essaie d'identifier quelques clusters sur les données par les couches cachées du réseau de neurones."
   ]
  },
  {
   "cell_type": "code",
   "execution_count": 1,
   "id": "presidential-fault",
   "metadata": {},
   "outputs": [],
   "source": [
    "import numpy as np\n",
    "import pandas as pd\n",
    "import sys\n",
    "from tensorflow import keras\n",
    "from sklearn.metrics import accuracy_score,adjusted_rand_score,adjusted_mutual_info_score\n",
    "import matplotlib.pyplot as plt\n",
    "\n",
    "# our functions\n",
    "from tools import buildmodel as mtq\n",
    "from tools import mnist\n",
    "\n",
    "# Clustering\n",
    "from sklearn.cluster import KMeans"
   ]
  },
  {
   "cell_type": "markdown",
   "id": "ceramic-projector",
   "metadata": {},
   "source": [
    "## Prétraitement\n",
    "\n",
    "On commence d'abord par télecharger les données de [MNIST](https://fr.wikipedia.org/wiki/Base_de_donn%C3%A9es_MNIST).\n",
    "Cette base regroupe 60000 images d'apprentissage et 10000 images de test, issues d'une base de données antérieure, appelée simplement NIST. Ce sont des images en noir et blanc, normalisées centrées de 28 pixels de côté, contenant des chiffres écrits à la main de `0` à `9`.\n",
    "\n",
    "On ne garde que les `n` images représentant chaqu'un chiffres inclus dans `keep`."
   ]
  },
  {
   "cell_type": "code",
   "execution_count": 2,
   "id": "fifty-absence",
   "metadata": {},
   "outputs": [],
   "source": [
    "keep=[5,6]\n",
    "keep.sort()\n",
    "n=100\n",
    "\n",
    "(x_train_origin , y_train_origin) , (x_test_origin, y_test_origin) = keras.datasets.mnist.load_data(path='all_mnist.npz')"
   ]
  },
  {
   "cell_type": "markdown",
   "id": "encouraging-james",
   "metadata": {},
   "source": [
    "Puis on procèdent à la normalisation de ces données afin d'optimiser le processus d'entraînement."
   ]
  },
  {
   "cell_type": "code",
   "execution_count": 3,
   "id": "naval-syndicate",
   "metadata": {},
   "outputs": [
    {
     "name": "stdout",
     "output_type": "stream",
     "text": [
      "size of the train dataset :  200\n",
      "size of the test dataset :  1850\n"
     ]
    }
   ],
   "source": [
    "x_train, y_train = mnist.cut_data(x_train_origin, y_train_origin, keep=keep,n=n)\n",
    "x_test, y_test = mnist.cut_data(x_test_origin, y_test_origin, keep=keep, n=None)\n",
    "\n",
    "x_train, y_train = mnist.normalize_dataset(x_train, y_train)\n",
    "x_test, y_test = mnist.normalize_dataset(x_test, y_test)\n",
    "\n",
    "print(\"size of the train dataset : \", len(x_train))\n",
    "print(\"size of the test dataset : \", len(x_test))"
   ]
  },
  {
   "cell_type": "markdown",
   "id": "champion-reasoning",
   "metadata": {},
   "source": [
    "## Construction du modèle\n",
    "\n",
    "Une fois le prétraitement fait, on procède à la construction du modèle.\n",
    "On donne au modèle un nom `model_name` pour qu'on puisse le réutiliser plus tard si besoin.\n",
    "\n",
    "[MTQModel](./tools/buildmodel.py) est une classe définie par nous-même afin de faciliter la construction et le paramétrage des modèles."
   ]
  },
  {
   "cell_type": "code",
   "execution_count": 4,
   "id": "thermal-marriage",
   "metadata": {},
   "outputs": [],
   "source": [
    "model_name = \"./models/trained_model_2_16\"\n",
    "model = mtq.MTQModel(model_name)"
   ]
  },
  {
   "cell_type": "markdown",
   "id": "operating-motivation",
   "metadata": {},
   "source": [
    "`MTQModel.build_dense()` est la méthode qui construit un modèle avec des couches Denses.\n",
    "\n",
    "Liste des paramètres:\n",
    "\n",
    "- `input_shape`: Nombre de neurones de la couche d'entrée, dans notre cas : 28 * 28 = 784\n",
    "- `n_neurons`: Le nombre de neurones pour chaque couche. Le dernier élément de la liste correspond à la couche de sortie qui doit correspondre au nombre de Label dans `y_train`\n",
    "- `load`: Si `True` alors charge le modèle. `model_name` doit être spécifié. sinon construit le modèle."
   ]
  },
  {
   "cell_type": "code",
   "execution_count": 5,
   "id": "celtic-republican",
   "metadata": {},
   "outputs": [
    {
     "name": "stdout",
     "output_type": "stream",
     "text": [
      "- input_shape:  (784,)\n",
      "- n_neurons:  [32, 64, 2]\n",
      "- load:  False\n",
      "Model: \"sequential\"\n",
      "_________________________________________________________________\n",
      "Layer (type)                 Output Shape              Param #   \n",
      "=================================================================\n",
      "dense (Dense)                (None, 32)                25120     \n",
      "_________________________________________________________________\n",
      "dense_1 (Dense)              (None, 64)                2112      \n",
      "_________________________________________________________________\n",
      "dense_2 (Dense)              (None, 2)                 130       \n",
      "=================================================================\n",
      "Total params: 27,362\n",
      "Trainable params: 27,362\n",
      "Non-trainable params: 0\n",
      "_________________________________________________________________\n"
     ]
    }
   ],
   "source": [
    "input_shape = x_train[0].shape\n",
    "n_neurons=[32, 64, len(y_train[0])]\n",
    "load=False # Construit le modèle\n",
    "\n",
    "print('- input_shape: ', input_shape)\n",
    "print('- n_neurons: ', n_neurons)\n",
    "print('- load: ', load)\n",
    "\n",
    "model.build_dense(input_shape=x_train[0].shape, n_neurons=[32,64, len(y_train[0])], load=load, summary=True)"
   ]
  },
  {
   "cell_type": "markdown",
   "id": "another-specialist",
   "metadata": {},
   "source": [
    "Une fois le modèle construit, on procède à son entaînement. Pour cela on appelle la méthode `fit(x,y)`"
   ]
  },
  {
   "cell_type": "code",
   "execution_count": 6,
   "id": "precious-petroleum",
   "metadata": {
    "scrolled": true
   },
   "outputs": [
    {
     "name": "stdout",
     "output_type": "stream",
     "text": [
      "Epoch 1/5\n",
      "17/17 - 0s - loss: 0.2553 - accuracy: 0.5200\n",
      "Epoch 2/5\n",
      "17/17 - 0s - loss: 0.2345 - accuracy: 0.6400\n",
      "Epoch 3/5\n",
      "17/17 - 0s - loss: 0.2145 - accuracy: 0.7350\n",
      "Epoch 4/5\n",
      "17/17 - 0s - loss: 0.1947 - accuracy: 0.7850\n",
      "Epoch 5/5\n",
      "17/17 - 0s - loss: 0.1741 - accuracy: 0.8600\n",
      "INFO:tensorflow:Assets written to: ./models/trained_model_2_16/assets\n"
     ]
    }
   ],
   "source": [
    "if not load:\n",
    "    model.fit(x_train,y_train,epochs=5)"
   ]
  },
  {
   "cell_type": "markdown",
   "id": "ethical-squad",
   "metadata": {},
   "source": [
    "On procédé à son évaluation grâce à la méthode `evaluate(x,y)`"
   ]
  },
  {
   "cell_type": "code",
   "execution_count": 7,
   "id": "alike-price",
   "metadata": {},
   "outputs": [
    {
     "name": "stdout",
     "output_type": "stream",
     "text": [
      "loss = 0.16142378747463226 , accuracy = 0.8929729461669922\n"
     ]
    }
   ],
   "source": [
    "loss, acc = model.evaluate(x_test, y_test)\n",
    "print(\"loss =\", loss, \", accuracy =\",acc)"
   ]
  },
  {
   "cell_type": "code",
   "execution_count": 8,
   "id": "peaceful-passing",
   "metadata": {},
   "outputs": [
    {
     "data": {
      "text/plain": [
       "array([5, 6])"
      ]
     },
     "execution_count": 8,
     "metadata": {},
     "output_type": "execute_result"
    }
   ],
   "source": [
    "result = model.predict(x_train)\n",
    "predictions = []\n",
    "\n",
    "for r in result:\n",
    "    predictions.append(keep[np.argmax(r)])\n",
    "\n",
    "predictions = np.array(predictions)\n",
    "np.unique(predictions)"
   ]
  },
  {
   "cell_type": "markdown",
   "id": "superb-looking",
   "metadata": {},
   "source": [
    "## Extraction des fonctions d’activations\n",
    "\n",
    "Pour cela on fait appelle à la méthode `get_hidden_layers_outputs(x)` qui prend en paramètre un `x`qui représente une liste de données (dans notre cas une liste d'images normalisées). Cette méthode retourne une liste d'éléments tels que chaqu'un représente une liste des sorties d'une couche de neurones.\n",
    "\n",
    "Soit `hd` la sortie retourner par la méthode, alors `hd[i][j][k]` correspond à la sortie donnée par le `k-ième` neurones de la `i-ème` couches étant donné la `j-ème` image de `x`."
   ]
  },
  {
   "cell_type": "code",
   "execution_count": 9,
   "id": "abstract-watershed",
   "metadata": {},
   "outputs": [
    {
     "name": "stdout",
     "output_type": "stream",
     "text": [
      "La taille de `hidden_layers` correspond au nombre de couches cachées: 2\n",
      "\n",
      "La taille de `une_couche` correspond au nombre d'élément dans `x_train`: 200\n",
      "\n",
      "La taille de `une_couche_un_x` correspond donc bien au nombre de neurones dans cette couches: 32\n"
     ]
    }
   ],
   "source": [
    "hidden_layers = model.get_hidden_layers_outputs(x_train)\n",
    "print(\"La taille de `hidden_layers` correspond au nombre de couches cachées:\", len(hidden_layers))\n",
    "\n",
    "une_couche = hidden_layers[0]\n",
    "print(\"\\nLa taille de `une_couche` correspond au nombre d'élément dans `x_train`:\", len(une_couche))\n",
    "\n",
    "une_couche_un_x = une_couche[0]\n",
    "print(\"\\nLa taille de `une_couche_un_x` correspond donc bien au nombre de neurones dans cette couches:\", len(une_couche_un_x))"
   ]
  },
  {
   "cell_type": "code",
   "execution_count": 10,
   "id": "annoying-sensitivity",
   "metadata": {},
   "outputs": [],
   "source": [
    "def describe(arr):\n",
    "    print(\"+ Measures of Central Tendency\") \n",
    "    print(\"Mean =\", np.mean(arr)) \n",
    "    print(\"Median =\", np.median(arr)) \n",
    "    print(\"+ Measures of Dispersion\") \n",
    "    print(\"Minimum =\", np.amin(arr)) \n",
    "    print(\"Maximum =\", np.amax(arr))\n",
    "    print(\"Varience =\", np.var(arr)) \n",
    "    print(\"Standard Deviation =\", np.std(arr)) \n",
    "    print(\"\\n\")"
   ]
  },
  {
   "cell_type": "markdown",
   "id": "instrumental-orange",
   "metadata": {},
   "source": [
    "## Standardisation des valeurs de chaque neurone"
   ]
  },
  {
   "cell_type": "code",
   "execution_count": 11,
   "id": "ambient-equipment",
   "metadata": {},
   "outputs": [],
   "source": [
    "from sklearn.preprocessing import StandardScaler\n",
    "# Standardization \n",
    "for i in range(len(hidden_layers)):\n",
    "    hidden_layers[i] = StandardScaler().fit_transform(hidden_layers[i])"
   ]
  },
  {
   "cell_type": "markdown",
   "id": "psychological-wheat",
   "metadata": {},
   "source": [
    "## Calcul des meilleurs valeurs pour K"
   ]
  },
  {
   "cell_type": "code",
   "execution_count": 12,
   "id": "unlimited-quest",
   "metadata": {},
   "outputs": [
    {
     "data": {
      "image/png": "[encoded data removed]",
      "text/plain": [
       "<Figure size 1080x648 with 4 Axes>"
      ]
     },
     "metadata": {
      "needs_background": "light"
     },
     "output_type": "display_data"
    }
   ],
   "source": [
    "from sklearn.metrics import silhouette_score\n",
    "# calculate the silhouette\n",
    "best_k = []\n",
    "\n",
    "fig, axes = plt.subplots(nrows=len(hidden_layers), ncols=2, sharex=True)\n",
    "fig.set_size_inches(15, 9)\n",
    "\n",
    "for hd, ax in zip(hidden_layers,axes):\n",
    "    sil = []\n",
    "    sse = []\n",
    "    kmax = 7\n",
    "\n",
    "    x = hd\n",
    "    for k in range(1, kmax+1):\n",
    "        kmeans = KMeans(n_clusters = k, random_state=24).fit(x)\n",
    "        labels = kmeans.labels_\n",
    "        if k == 1:\n",
    "            sil.append(0)\n",
    "        else:\n",
    "            sil.append(silhouette_score(x, labels, metric = 'euclidean'))\n",
    "\n",
    "        centroids = kmeans.cluster_centers_\n",
    "        pred_clusters = kmeans.predict(x)\n",
    "        curr_sse = 0\n",
    "        # calculate square of Euclidean distance of each point from its cluster center and add to current WSS\n",
    "        for i in range(len(x)):\n",
    "            curr_center = centroids[pred_clusters[i]]\n",
    "            curr_sse += np.sqrt(np.sum((x[i] - curr_center) ** 2, axis=0))\n",
    "        sse.append(curr_sse)\n",
    "    \n",
    "    best_k.append(np.array(sil).argmax()+1)\n",
    "    \n",
    "    # ploting\n",
    "    ax[0].plot(range(1,kmax+1),sil,color='r')\n",
    "    ax[0].set_xlabel('K values')\n",
    "    ax[0].set_ylabel('Silhouette score')\n",
    "    ax[1].plot(range(1,kmax+1),sse, color='g')\n",
    "    ax[1].set_xlabel('K values')\n",
    "    ax[1].set_ylabel('Elbow')\n",
    "    \n",
    "    ax[0].grid(True)\n",
    "    ax[1].grid(True)\n",
    "    \n",
    "if True: #Verbose\n",
    "    plt.show()\n",
    "else:\n",
    "    plt.close(fig)"
   ]
  },
  {
   "cell_type": "code",
   "execution_count": 13,
   "id": "republican-perception",
   "metadata": {},
   "outputs": [],
   "source": [
    "# Clustering with KMeans\n",
    "y_kmeans = []\n",
    "for hd, k in zip(hidden_layers,best_k):\n",
    "    y_kmeans.append(KMeans(k,n_init=100,random_state=24).fit_predict(hd))"
   ]
  },
  {
   "cell_type": "code",
   "execution_count": 14,
   "id": "cordless-albuquerque",
   "metadata": {},
   "outputs": [
    {
     "data": {
      "text/html": [
       "\n",
       "    <div class=\"bk-root\">\n",
       "        <a href=\"https://bokeh.org\" target=\"_blank\" class=\"bk-logo bk-logo-small bk-logo-notebook\"></a>\n",
       "        <span id=\"1002\">Loading BokehJS ...</span>\n",
       "    </div>"
      ]
     },
     "metadata": {},
     "output_type": "display_data"
    },
    {
     "data": {
      "application/javascript": [
       "\n",
       "(function(root) {\n",
       "  function now() {\n",
       "    return new Date();\n",
       "  }\n",
       "\n",
       "  var force = true;\n",
       "\n",
       "  if (typeof root._bokeh_onload_callbacks === \"undefined\" || force === true) {\n",
       "    root._bokeh_onload_callbacks = [];\n",
       "    root._bokeh_is_loading = undefined;\n",
       "  }\n",
       "\n",
       "  var JS_MIME_TYPE = 'application/javascript';\n",
       "  var HTML_MIME_TYPE = 'text/html';\n",
       "  var EXEC_MIME_TYPE = 'application/vnd.bokehjs_exec.v0+json';\n",
       "  var CLASS_NAME = 'output_bokeh rendered_html';\n",
       "\n",
       "  /**\n",
       "   * Render data to the DOM node\n",
       "   */\n",
       "  function render(props, node) {\n",
       "    var script = document.createElement(\"script\");\n",
       "    node.appendChild(script);\n",
       "  }\n",
       "\n",
       "  /**\n",
       "   * Handle when an output is cleared or removed\n",
       "   */\n",
       "  function handleClearOutput(event, handle) {\n",
       "    var cell = handle.cell;\n",
       "\n",
       "    var id = cell.output_area._bokeh_element_id;\n",
       "    var server_id = cell.output_area._bokeh_server_id;\n",
       "    // Clean up Bokeh references\n",
       "    if (id != null && id in Bokeh.index) {\n",
       "      Bokeh.index[id].model.document.clear();\n",
       "      delete Bokeh.index[id];\n",
       "    }\n",
       "\n",
       "    if (server_id !== undefined) {\n",
       "      // Clean up Bokeh references\n",
       "      var cmd = \"from bokeh.io.state import curstate; print(curstate().uuid_to_server['\" + server_id + \"'].get_sessions()[0].document.roots[0]._id)\";\n",
       "      cell.notebook.kernel.execute(cmd, {\n",
       "        iopub: {\n",
       "          output: function(msg) {\n",
       "            var id = msg.content.text.trim();\n",
       "            if (id in Bokeh.index) {\n",
       "              Bokeh.index[id].model.document.clear();\n",
       "              delete Bokeh.index[id];\n",
       "            }\n",
       "          }\n",
       "        }\n",
       "      });\n",
       "      // Destroy server and session\n",
       "      var cmd = \"import bokeh.io.notebook as ion; ion.destroy_server('\" + server_id + \"')\";\n",
       "      cell.notebook.kernel.execute(cmd);\n",
       "    }\n",
       "  }\n",
       "\n",
       "  /**\n",
       "   * Handle when a new output is added\n",
       "   */\n",
       "  function handleAddOutput(event, handle) {\n",
       "    var output_area = handle.output_area;\n",
       "    var output = handle.output;\n",
       "\n",
       "    // limit handleAddOutput to display_data with EXEC_MIME_TYPE content only\n",
       "    if ((output.output_type != \"display_data\") || (!Object.prototype.hasOwnProperty.call(output.data, EXEC_MIME_TYPE))) {\n",
       "      return\n",
       "    }\n",
       "\n",
       "    var toinsert = output_area.element.find(\".\" + CLASS_NAME.split(' ')[0]);\n",
       "\n",
       "    if (output.metadata[EXEC_MIME_TYPE][\"id\"] !== undefined) {\n",
       "      toinsert[toinsert.length - 1].firstChild.textContent = output.data[JS_MIME_TYPE];\n",
       "      // store reference to embed id on output_area\n",
       "      output_area._bokeh_element_id = output.metadata[EXEC_MIME_TYPE][\"id\"];\n",
       "    }\n",
       "    if (output.metadata[EXEC_MIME_TYPE][\"server_id\"] !== undefined) {\n",
       "      var bk_div = document.createElement(\"div\");\n",
       "      bk_div.innerHTML = output.data[HTML_MIME_TYPE];\n",
       "      var script_attrs = bk_div.children[0].attributes;\n",
       "      for (var i = 0; i < script_attrs.length; i++) {\n",
       "        toinsert[toinsert.length - 1].firstChild.setAttribute(script_attrs[i].name, script_attrs[i].value);\n",
       "        toinsert[toinsert.length - 1].firstChild.textContent = bk_div.children[0].textContent\n",
       "      }\n",
       "      // store reference to server id on output_area\n",
       "      output_area._bokeh_server_id = output.metadata[EXEC_MIME_TYPE][\"server_id\"];\n",
       "    }\n",
       "  }\n",
       "\n",
       "  function register_renderer(events, OutputArea) {\n",
       "\n",
       "    function append_mime(data, metadata, element) {\n",
       "      // create a DOM node to render to\n",
       "      var toinsert = this.create_output_subarea(\n",
       "        metadata,\n",
       "        CLASS_NAME,\n",
       "        EXEC_MIME_TYPE\n",
       "      );\n",
       "      this.keyboard_manager.register_events(toinsert);\n",
       "      // Render to node\n",
       "      var props = {data: data, metadata: metadata[EXEC_MIME_TYPE]};\n",
       "      render(props, toinsert[toinsert.length - 1]);\n",
       "      element.append(toinsert);\n",
       "      return toinsert\n",
       "    }\n",
       "\n",
       "    /* Handle when an output is cleared or removed */\n",
       "    events.on('clear_output.CodeCell', handleClearOutput);\n",
       "    events.on('delete.Cell', handleClearOutput);\n",
       "\n",
       "    /* Handle when a new output is added */\n",
       "    events.on('output_added.OutputArea', handleAddOutput);\n",
       "\n",
       "    /**\n",
       "     * Register the mime type and append_mime function with output_area\n",
       "     */\n",
       "    OutputArea.prototype.register_mime_type(EXEC_MIME_TYPE, append_mime, {\n",
       "      /* Is output safe? */\n",
       "      safe: true,\n",
       "      /* Index of renderer in `output_area.display_order` */\n",
       "      index: 0\n",
       "    });\n",
       "  }\n",
       "\n",
       "  // register the mime type if in Jupyter Notebook environment and previously unregistered\n",
       "  if (root.Jupyter !== undefined) {\n",
       "    var events = require('base/js/events');\n",
       "    var OutputArea = require('notebook/js/outputarea').OutputArea;\n",
       "\n",
       "    if (OutputArea.prototype.mime_types().indexOf(EXEC_MIME_TYPE) == -1) {\n",
       "      register_renderer(events, OutputArea);\n",
       "    }\n",
       "  }\n",
       "\n",
       "  \n",
       "  if (typeof (root._bokeh_timeout) === \"undefined\" || force === true) {\n",
       "    root._bokeh_timeout = Date.now() + 5000;\n",
       "    root._bokeh_failed_load = false;\n",
       "  }\n",
       "\n",
       "  var NB_LOAD_WARNING = {'data': {'text/html':\n",
       "     \"<div style='background-color: #fdd'>\\n\"+\n",
       "     \"<p>\\n\"+\n",
       "     \"BokehJS does not appear to have successfully loaded. If loading BokehJS from CDN, this \\n\"+\n",
       "     \"may be due to a slow or bad network connection. Possible fixes:\\n\"+\n",
       "     \"</p>\\n\"+\n",
       "     \"<ul>\\n\"+\n",
       "     \"<li>re-rerun `output_notebook()` to attempt to load from CDN again, or</li>\\n\"+\n",
       "     \"<li>use INLINE resources instead, as so:</li>\\n\"+\n",
       "     \"</ul>\\n\"+\n",
       "     \"<code>\\n\"+\n",
       "     \"from bokeh.resources import INLINE\\n\"+\n",
       "     \"output_notebook(resources=INLINE)\\n\"+\n",
       "     \"</code>\\n\"+\n",
       "     \"</div>\"}};\n",
       "\n",
       "  function display_loaded() {\n",
       "    var el = document.getElementById(\"1002\");\n",
       "    if (el != null) {\n",
       "      el.textContent = \"BokehJS is loading...\";\n",
       "    }\n",
       "    if (root.Bokeh !== undefined) {\n",
       "      if (el != null) {\n",
       "        el.textContent = \"BokehJS \" + root.Bokeh.version + \" successfully loaded.\";\n",
       "      }\n",
       "    } else if (Date.now() < root._bokeh_timeout) {\n",
       "      setTimeout(display_loaded, 100)\n",
       "    }\n",
       "  }\n",
       "\n",
       "\n",
       "  function run_callbacks() {\n",
       "    try {\n",
       "      root._bokeh_onload_callbacks.forEach(function(callback) {\n",
       "        if (callback != null)\n",
       "          callback();\n",
       "      });\n",
       "    } finally {\n",
       "      delete root._bokeh_onload_callbacks\n",
       "    }\n",
       "    console.debug(\"Bokeh: all callbacks have finished\");\n",
       "  }\n",
       "\n",
       "  function load_libs(css_urls, js_urls, callback) {\n",
       "    if (css_urls == null) css_urls = [];\n",
       "    if (js_urls == null) js_urls = [];\n",
       "\n",
       "    root._bokeh_onload_callbacks.push(callback);\n",
       "    if (root._bokeh_is_loading > 0) {\n",
       "      console.debug(\"Bokeh: BokehJS is being loaded, scheduling callback at\", now());\n",
       "      return null;\n",
       "    }\n",
       "    if (js_urls == null || js_urls.length === 0) {\n",
       "      run_callbacks();\n",
       "      return null;\n",
       "    }\n",
       "    console.debug(\"Bokeh: BokehJS not loaded, scheduling load and callback at\", now());\n",
       "    root._bokeh_is_loading = css_urls.length + js_urls.length;\n",
       "\n",
       "    function on_load() {\n",
       "      root._bokeh_is_loading--;\n",
       "      if (root._bokeh_is_loading === 0) {\n",
       "        console.debug(\"Bokeh: all BokehJS libraries/stylesheets loaded\");\n",
       "        run_callbacks()\n",
       "      }\n",
       "    }\n",
       "\n",
       "    function on_error(url) {\n",
       "      console.error(\"failed to load \" + url);\n",
       "    }\n",
       "\n",
       "    for (let i = 0; i < css_urls.length; i++) {\n",
       "      const url = css_urls[i];\n",
       "      const element = document.createElement(\"link\");\n",
       "      element.onload = on_load;\n",
       "      element.onerror = on_error.bind(null, url);\n",
       "      element.rel = \"stylesheet\";\n",
       "      element.type = \"text/css\";\n",
       "      element.href = url;\n",
       "      console.debug(\"Bokeh: injecting link tag for BokehJS stylesheet: \", url);\n",
       "      document.body.appendChild(element);\n",
       "    }\n",
       "\n",
       "    const hashes = {\"https://cdn.bokeh.org/bokeh/release/bokeh-2.3.0.min.js\": \"HjagQp6T0/7bxYTAXbLotF1MLAGWmhkY5siA1Gc/pcEgvgRPtMsRn0gQtMwGKiw1\", \"https://cdn.bokeh.org/bokeh/release/bokeh-widgets-2.3.0.min.js\": \"ZEPPTjL+mdyqgIq+/pl9KTwzji8Kow2NnI3zWY8+sFinWP/SYJ80BnfeJsa45iYj\", \"https://cdn.bokeh.org/bokeh/release/bokeh-tables-2.3.0.min.js\": \"exLqv2ACDRIaV7ZK1iL8aGzGYQvKVuT3U2CT7FsQREBxRah6JrkVCoFy0koY1YqV\"};\n",
       "\n",
       "    for (let i = 0; i < js_urls.length; i++) {\n",
       "      const url = js_urls[i];\n",
       "      const element = document.createElement('script');\n",
       "      element.onload = on_load;\n",
       "      element.onerror = on_error.bind(null, url);\n",
       "      element.async = false;\n",
       "      element.src = url;\n",
       "      if (url in hashes) {\n",
       "        element.crossOrigin = \"anonymous\";\n",
       "        element.integrity = \"sha384-\" + hashes[url];\n",
       "      }\n",
       "      console.debug(\"Bokeh: injecting script tag for BokehJS library: \", url);\n",
       "      document.head.appendChild(element);\n",
       "    }\n",
       "  };\n",
       "\n",
       "  function inject_raw_css(css) {\n",
       "    const element = document.createElement(\"style\");\n",
       "    element.appendChild(document.createTextNode(css));\n",
       "    document.body.appendChild(element);\n",
       "  }\n",
       "\n",
       "  \n",
       "  var js_urls = [\"https://cdn.bokeh.org/bokeh/release/bokeh-2.3.0.min.js\", \"https://cdn.bokeh.org/bokeh/release/bokeh-widgets-2.3.0.min.js\", \"https://cdn.bokeh.org/bokeh/release/bokeh-tables-2.3.0.min.js\", \"https://unpkg.com/@holoviz/panel@^0.10.3/dist/panel.min.js\"];\n",
       "  var css_urls = [\"http://localhost:5006/static/extensions/panel/css/widgets.css\", \"http://localhost:5006/static/extensions/panel/css/dataframe.css\", \"http://localhost:5006/static/extensions/panel/css/card.css\", \"http://localhost:5006/static/extensions/panel/css/json.css\", \"http://localhost:5006/static/extensions/panel/css/alerts.css\", \"http://localhost:5006/static/extensions/panel/css/markdown.css\"];\n",
       "  \n",
       "\n",
       "  var inline_js = [\n",
       "    function(Bokeh) {\n",
       "      Bokeh.set_log_level(\"info\");\n",
       "    },\n",
       "    function(Bokeh) {\n",
       "    \n",
       "    \n",
       "    }\n",
       "  ];\n",
       "\n",
       "  function run_inline_js() {\n",
       "    \n",
       "    if (root.Bokeh !== undefined || force === true) {\n",
       "      \n",
       "    for (var i = 0; i < inline_js.length; i++) {\n",
       "      inline_js[i].call(root, root.Bokeh);\n",
       "    }\n",
       "    if (force === true) {\n",
       "        display_loaded();\n",
       "      }} else if (Date.now() < root._bokeh_timeout) {\n",
       "      setTimeout(run_inline_js, 100);\n",
       "    } else if (!root._bokeh_failed_load) {\n",
       "      console.log(\"Bokeh: BokehJS failed to load within specified timeout.\");\n",
       "      root._bokeh_failed_load = true;\n",
       "    } else if (force !== true) {\n",
       "      var cell = $(document.getElementById(\"1002\")).parents('.cell').data().cell;\n",
       "      cell.output_area.append_execute_result(NB_LOAD_WARNING)\n",
       "    }\n",
       "\n",
       "  }\n",
       "\n",
       "  if (root._bokeh_is_loading === 0) {\n",
       "    console.debug(\"Bokeh: BokehJS loaded, going straight to plotting\");\n",
       "    run_inline_js();\n",
       "  } else {\n",
       "    load_libs(css_urls, js_urls, function() {\n",
       "      console.debug(\"Bokeh: BokehJS plotting callback run at\", now());\n",
       "      run_inline_js();\n",
       "    });\n",
       "  }\n",
       "}(window));"
      ],
      "application/vnd.bokehjs_load.v0+json": "\n(function(root) {\n  function now() {\n    return new Date();\n  }\n\n  var force = true;\n\n  if (typeof root._bokeh_onload_callbacks === \"undefined\" || force === true) {\n    root._bokeh_onload_callbacks = [];\n    root._bokeh_is_loading = undefined;\n  }\n\n  \n\n  \n  if (typeof (root._bokeh_timeout) === \"undefined\" || force === true) {\n    root._bokeh_timeout = Date.now() + 5000;\n    root._bokeh_failed_load = false;\n  }\n\n  var NB_LOAD_WARNING = {'data': {'text/html':\n     \"<div style='background-color: #fdd'>\\n\"+\n     \"<p>\\n\"+\n     \"BokehJS does not appear to have successfully loaded. If loading BokehJS from CDN, this \\n\"+\n     \"may be due to a slow or bad network connection. Possible fixes:\\n\"+\n     \"</p>\\n\"+\n     \"<ul>\\n\"+\n     \"<li>re-rerun `output_notebook()` to attempt to load from CDN again, or</li>\\n\"+\n     \"<li>use INLINE resources instead, as so:</li>\\n\"+\n     \"</ul>\\n\"+\n     \"<code>\\n\"+\n     \"from bokeh.resources import INLINE\\n\"+\n     \"output_notebook(resources=INLINE)\\n\"+\n     \"</code>\\n\"+\n     \"</div>\"}};\n\n  function display_loaded() {\n    var el = document.getElementById(\"1002\");\n    if (el != null) {\n      el.textContent = \"BokehJS is loading...\";\n    }\n    if (root.Bokeh !== undefined) {\n      if (el != null) {\n        el.textContent = \"BokehJS \" + root.Bokeh.version + \" successfully loaded.\";\n      }\n    } else if (Date.now() < root._bokeh_timeout) {\n      setTimeout(display_loaded, 100)\n    }\n  }\n\n\n  function run_callbacks() {\n    try {\n      root._bokeh_onload_callbacks.forEach(function(callback) {\n        if (callback != null)\n          callback();\n      });\n    } finally {\n      delete root._bokeh_onload_callbacks\n    }\n    console.debug(\"Bokeh: all callbacks have finished\");\n  }\n\n  function load_libs(css_urls, js_urls, callback) {\n    if (css_urls == null) css_urls = [];\n    if (js_urls == null) js_urls = [];\n\n    root._bokeh_onload_callbacks.push(callback);\n    if (root._bokeh_is_loading > 0) {\n      console.debug(\"Bokeh: BokehJS is being loaded, scheduling callback at\", now());\n      return null;\n    }\n    if (js_urls == null || js_urls.length === 0) {\n      run_callbacks();\n      return null;\n    }\n    console.debug(\"Bokeh: BokehJS not loaded, scheduling load and callback at\", now());\n    root._bokeh_is_loading = css_urls.length + js_urls.length;\n\n    function on_load() {\n      root._bokeh_is_loading--;\n      if (root._bokeh_is_loading === 0) {\n        console.debug(\"Bokeh: all BokehJS libraries/stylesheets loaded\");\n        run_callbacks()\n      }\n    }\n\n    function on_error(url) {\n      console.error(\"failed to load \" + url);\n    }\n\n    for (let i = 0; i < css_urls.length; i++) {\n      const url = css_urls[i];\n      const element = document.createElement(\"link\");\n      element.onload = on_load;\n      element.onerror = on_error.bind(null, url);\n      element.rel = \"stylesheet\";\n      element.type = \"text/css\";\n      element.href = url;\n      console.debug(\"Bokeh: injecting link tag for BokehJS stylesheet: \", url);\n      document.body.appendChild(element);\n    }\n\n    const hashes = {\"https://cdn.bokeh.org/bokeh/release/bokeh-2.3.0.min.js\": \"HjagQp6T0/7bxYTAXbLotF1MLAGWmhkY5siA1Gc/pcEgvgRPtMsRn0gQtMwGKiw1\", \"https://cdn.bokeh.org/bokeh/release/bokeh-widgets-2.3.0.min.js\": \"ZEPPTjL+mdyqgIq+/pl9KTwzji8Kow2NnI3zWY8+sFinWP/SYJ80BnfeJsa45iYj\", \"https://cdn.bokeh.org/bokeh/release/bokeh-tables-2.3.0.min.js\": \"exLqv2ACDRIaV7ZK1iL8aGzGYQvKVuT3U2CT7FsQREBxRah6JrkVCoFy0koY1YqV\"};\n\n    for (let i = 0; i < js_urls.length; i++) {\n      const url = js_urls[i];\n      const element = document.createElement('script');\n      element.onload = on_load;\n      element.onerror = on_error.bind(null, url);\n      element.async = false;\n      element.src = url;\n      if (url in hashes) {\n        element.crossOrigin = \"anonymous\";\n        element.integrity = \"sha384-\" + hashes[url];\n      }\n      console.debug(\"Bokeh: injecting script tag for BokehJS library: \", url);\n      document.head.appendChild(element);\n    }\n  };\n\n  function inject_raw_css(css) {\n    const element = document.createElement(\"style\");\n    element.appendChild(document.createTextNode(css));\n    document.body.appendChild(element);\n  }\n\n  \n  var js_urls = [\"https://cdn.bokeh.org/bokeh/release/bokeh-2.3.0.min.js\", \"https://cdn.bokeh.org/bokeh/release/bokeh-widgets-2.3.0.min.js\", \"https://cdn.bokeh.org/bokeh/release/bokeh-tables-2.3.0.min.js\", \"https://unpkg.com/@holoviz/panel@^0.10.3/dist/panel.min.js\"];\n  var css_urls = [\"http://localhost:5006/static/extensions/panel/css/widgets.css\", \"http://localhost:5006/static/extensions/panel/css/dataframe.css\", \"http://localhost:5006/static/extensions/panel/css/card.css\", \"http://localhost:5006/static/extensions/panel/css/json.css\", \"http://localhost:5006/static/extensions/panel/css/alerts.css\", \"http://localhost:5006/static/extensions/panel/css/markdown.css\"];\n  \n\n  var inline_js = [\n    function(Bokeh) {\n      Bokeh.set_log_level(\"info\");\n    },\n    function(Bokeh) {\n    \n    \n    }\n  ];\n\n  function run_inline_js() {\n    \n    if (root.Bokeh !== undefined || force === true) {\n      \n    for (var i = 0; i < inline_js.length; i++) {\n      inline_js[i].call(root, root.Bokeh);\n    }\n    if (force === true) {\n        display_loaded();\n      }} else if (Date.now() < root._bokeh_timeout) {\n      setTimeout(run_inline_js, 100);\n    } else if (!root._bokeh_failed_load) {\n      console.log(\"Bokeh: BokehJS failed to load within specified timeout.\");\n      root._bokeh_failed_load = true;\n    } else if (force !== true) {\n      var cell = $(document.getElementById(\"1002\")).parents('.cell').data().cell;\n      cell.output_area.append_execute_result(NB_LOAD_WARNING)\n    }\n\n  }\n\n  if (root._bokeh_is_loading === 0) {\n    console.debug(\"Bokeh: BokehJS loaded, going straight to plotting\");\n    run_inline_js();\n  } else {\n    load_libs(css_urls, js_urls, function() {\n      console.debug(\"Bokeh: BokehJS plotting callback run at\", now());\n      run_inline_js();\n    });\n  }\n}(window));"
     },
     "metadata": {},
     "output_type": "display_data"
    },
    {
     "ename": "NameError",
     "evalue": "name 'new_r' is not defined",
     "output_type": "error",
     "traceback": [
      "\u001b[0;31m---------------------------------------------------------------------------\u001b[0m",
      "\u001b[0;31mNameError\u001b[0m                                 Traceback (most recent call last)",
      "\u001b[0;32m<ipython-input-14-6b98bab28a34>\u001b[0m in \u001b[0;36m<module>\u001b[0;34m\u001b[0m\n\u001b[1;32m      8\u001b[0m hover_data = pd.DataFrame({'index':np.arange(len(x_train)),\n\u001b[1;32m      9\u001b[0m                            \u001b[0;34m'label'\u001b[0m\u001b[0;34m:\u001b[0m\u001b[0mlabel\u001b[0m\u001b[0;34m,\u001b[0m\u001b[0;34m\u001b[0m\u001b[0;34m\u001b[0m\u001b[0m\n\u001b[0;32m---> 10\u001b[0;31m                            'prediction': new_r}\n\u001b[0m\u001b[1;32m     11\u001b[0m                          )\n\u001b[1;32m     12\u001b[0m \u001b[0;34m\u001b[0m\u001b[0m\n",
      "\u001b[0;31mNameError\u001b[0m: name 'new_r' is not defined"
     ]
    }
   ],
   "source": [
    "# UMAP\n",
    "import umap.umap_\n",
    "import umap.plot\n",
    "\n",
    "label = [keep[np.argmax(y)] for y in y_train]\n",
    "\n",
    "umap.plot.output_notebook()\n",
    "hover_data = pd.DataFrame({'index':np.arange(len(x_train)),\n",
    "                           'label':label,\n",
    "                           'prediction': new_r}\n",
    "                         )\n",
    "\n",
    "for hd,y_kmean in zip(hidden_layers,y_kmeans):    \n",
    "    plt.figure(figsize=(15, 5))\n",
    "    mapper = umap.umap_.UMAP().fit(hd)\n",
    "    hover_data['kmeans'] = y_kmean\n",
    "    #t_mapper = mapper.transform(hd)\n",
    "    #plt.scatter(t_mapper[:,0],t_mapper[:,1], c=y_kmeans, s=50, cmap='viridis')\n",
    "    #plt.show()\n",
    "    #p = umap.plot.points(mapper, labels=y_test_origin)\n",
    "    p = umap.plot.interactive(mapper, labels=y_kmean, hover_data=hover_data,width=750,height=300)\n",
    "    umap.plot.show(p)\n",
    "\n"
   ]
  },
  {
   "cell_type": "code",
   "execution_count": null,
   "id": "joined-share",
   "metadata": {},
   "outputs": [],
   "source": [
    "import plotly.graph_objects as go\n",
    "\n",
    "index = 0\n",
    "clusters = []\n",
    "\n",
    "list_dict_c = [{value:i for i, value in enumerate(keep)}]\n",
    "\n",
    "index = len(keep)\n",
    "\n",
    "for k in best_k:\n",
    "    clusters += [\"C\"+str(j) for j in range(k)]\n",
    "    list_dict_c.append({value:value+index for value in range(k)})\n",
    "    index += k\n",
    "    \n",
    "list_dict_c.append({value:i+index for i, value in enumerate(keep)})\n",
    "\n",
    "label = keep + clusters + keep \n",
    "list_y = [y_train_origin] + [y for y in y_kmeans] + [new_r]\n",
    "\n",
    "source, target, value = [], [], []\n",
    "for i in range(len(list_y)-1):\n",
    "    for s, t, v in zip(list_y[i], list_y[i+1], list_y[0]):\n",
    "        source.append(list_dict_c[i][s])\n",
    "        target.append(list_dict_c[i+1][t])\n",
    "        value.append(v)"
   ]
  },
  {
   "cell_type": "code",
   "execution_count": null,
   "id": "handed-advice",
   "metadata": {
    "scrolled": true
   },
   "outputs": [],
   "source": [
    "node = dict(\n",
    "      pad = 15,\n",
    "      thickness = 15,\n",
    "      line = dict(color = \"black\", width = 0.25),\n",
    "      label = label,\n",
    "      color = \"blue\"\n",
    "    )\n",
    "link = dict(\n",
    "      source = source, # indices correspond to labels\n",
    "      target = target,\n",
    "      value = [1 for t in target],\n",
    "      label = value\n",
    "  )\n",
    "\n",
    "data=[go.Sankey(node=node, link=link)]\n",
    "\n",
    "\n",
    "fig = go.Figure(data=data)\n",
    "\n",
    "fig.update_layout(title_text=\"Basic Sankey Diagram\", font_size=15)\n",
    "fig.show()"
   ]
  }
 ],
 "metadata": {
  "kernelspec": {
   "display_name": "Python 3",
   "language": "python",
   "name": "python3"
  },
  "language_info": {
   "codemirror_mode": {
    "name": "ipython",
    "version": 3
   },
   "file_extension": ".py",
   "mimetype": "text/x-python",
   "name": "python",
   "nbconvert_exporter": "python",
   "pygments_lexer": "ipython3",
   "version": "3.8.6"
  }
 },
 "nbformat": 4,
 "nbformat_minor": 5
}
