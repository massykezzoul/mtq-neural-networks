{
 "cells": [
  {
   "cell_type": "markdown",
   "id": "lightweight-contest",
   "metadata": {},
   "source": [
    "# Première classification\n",
    "\n",
    "Dans ce notebook, on essaie d'identifier quelques clusters sur les données par les couches cachées du réseau de neurones."
   ]
  },
  {
   "cell_type": "code",
   "execution_count": 1,
   "id": "presidential-fault",
   "metadata": {},
   "outputs": [
    {
     "name": "stderr",
     "output_type": "stream",
     "text": [
      "Matplotlib is building the font cache; this may take a moment.\n"
     ]
    }
   ],
   "source": [
    "import numpy as np\n",
    "import sys\n",
    "from tensorflow import keras\n",
    "from sklearn.metrics import accuracy_score\n",
    "\n",
    "# our functions\n",
    "from tools import buildmodel as mtq\n",
    "import mnist\n",
    "\n",
    "# Clustering\n",
    "import pandas as pd\n",
    "import matplotlib.pyplot as plt\n",
    "from sklearn.cluster import KMeans"
   ]
  },
  {
   "cell_type": "markdown",
   "id": "ceramic-projector",
   "metadata": {},
   "source": [
    "## Prétraitement\n",
    "\n",
    "On commence d'abord par télecharger les données de [MNIST](https://fr.wikipedia.org/wiki/Base_de_donn%C3%A9es_MNIST).\n",
    "Cette base regroupe 60000 images d'apprentissage et 10000 images de test, issues d'une base de données antérieure, appelée simplement NIST. Ce sont des images en noir et blanc, normalisées centrées de 28 pixels de côté, contenant des chiffres écrits à la main de `0` à `9`.\n",
    "\n",
    "On ne garde que les `n` images représentant les chiffres inclus dans `keep`."
   ]
  },
  {
   "cell_type": "code",
   "execution_count": 3,
   "id": "fifty-absence",
   "metadata": {},
   "outputs": [],
   "source": [
    "keep=[1,7]\n",
    "n=100"
   ]
  },
  {
   "cell_type": "markdown",
   "id": "encouraging-james",
   "metadata": {},
   "source": [
    "Puis on procèdent à la normalisation de ces données afin d'optimiser le processus d'entraînement."
   ]
  },
  {
   "cell_type": "code",
   "execution_count": 4,
   "id": "naval-syndicate",
   "metadata": {},
   "outputs": [
    {
     "name": "stdout",
     "output_type": "stream",
     "text": [
      "size of the train dataset :  200\n",
      "size of the test dataset :  200\n"
     ]
    }
   ],
   "source": [
    "(x_train , y_train) , (x_test, y_test) = keras.datasets.mnist.load_data(path='all_mnist.npz')\n",
    "\n",
    "x_train, y_train = mnist.cut_data(x_train, y_train, keep=keep,n=n)\n",
    "x_test, y_test = mnist.cut_data(x_test,y_test, keep=keep, n=n)\n",
    "\n",
    "y_train_origin = y_train\n",
    "y_test_origin = y_test\n",
    "\n",
    "x_train, y_train = mnist.normalize_dataset(x_train, y_train)\n",
    "x_test, y_test = mnist.normalize_dataset(x_test, y_test)\n",
    "\n",
    "print(\"size of the train dataset : \", len(x_train))\n",
    "print(\"size of the test dataset : \", len(x_test))"
   ]
  },
  {
   "cell_type": "markdown",
   "id": "champion-reasoning",
   "metadata": {},
   "source": [
    "## Construction du modèle\n",
    "\n",
    "Une fois le prétraitement fait, on procède à la construction du modèle.\n",
    "On donne au modèle un nom `model_name` pour qu'on puisse le réutiliser plus tard si besoin.\n",
    "\n",
    "[MTQModel](./tools/buildmodel.py) est une classe définie par nous-même afin de faciliter la construction et le paramétrage des modèles."
   ]
  },
  {
   "cell_type": "code",
   "execution_count": 5,
   "id": "thermal-marriage",
   "metadata": {},
   "outputs": [],
   "source": [
    "model_name = \"./trained_model_2_16\"\n",
    "model = mtq.MTQModel(model_name)"
   ]
  },
  {
   "cell_type": "markdown",
   "id": "operating-motivation",
   "metadata": {},
   "source": [
    "`MTQModel.build_dense()` est la méthode qui construit un modèle avec des couches Denses.\n",
    "\n",
    "Liste des paramètres:\n",
    "\n",
    "- `input_shape`: Nombre de neurones de la couche d'entrée, dans notre cas : 28 * 28 = 784\n",
    "- `n_neurons`: Le nombre de neurones pour chaque couche. Le dernier élément de la liste correspond à la couche de sortie qui doit correspondre au nombre de Label dans `y_train`\n",
    "- `load`: Si `True` alors charge le modèle. `model_name` doit être spécifié. sinon construit le modèle."
   ]
  },
  {
   "cell_type": "code",
   "execution_count": 6,
   "id": "celtic-republican",
   "metadata": {},
   "outputs": [
    {
     "name": "stdout",
     "output_type": "stream",
     "text": [
      "- input_shape:  (784,)\n",
      "- n_neurons:  [32, 64, 8]\n",
      "- load:  True\n"
     ]
    }
   ],
   "source": [
    "input_shape = x_train[0].shape\n",
    "n_neurons=[32, 64, len(y_train[0])]\n",
    "load=True # Construit le modèle\n",
    "\n",
    "print('- input_shape: ', input_shape)\n",
    "print('- n_neurons: ', n_neurons)\n",
    "print('- load: ', load)\n",
    "\n",
    "model.build_dense(input_shape=x_train[0].shape, n_neurons=[32,64, len(y_train[0])], load=load, summary=True)"
   ]
  },
  {
   "cell_type": "markdown",
   "id": "another-specialist",
   "metadata": {},
   "source": [
    "Une fois le modèle construit, on procède à son entaînement. Pour cela on appelle la méthode `fit(x,y)`"
   ]
  },
  {
   "cell_type": "code",
   "execution_count": 7,
   "id": "precious-petroleum",
   "metadata": {
    "scrolled": true
   },
   "outputs": [],
   "source": [
    "if not load:\n",
    "    model.fit(x_train,y_train,epochs=5)"
   ]
  },
  {
   "cell_type": "markdown",
   "id": "ethical-squad",
   "metadata": {},
   "source": [
    "On procédé à son évaluation grâce à la méthode `evaluate(x,y)`"
   ]
  },
  {
   "cell_type": "code",
   "execution_count": 11,
   "id": "alike-price",
   "metadata": {},
   "outputs": [
    {
     "name": "stdout",
     "output_type": "stream",
     "text": [
      "loss = 0.07778045535087585 , accuracy = 0.9300000071525574\n"
     ]
    }
   ],
   "source": [
    "loss, acc = model.evaluate(x_test, y_test)\n",
    "print(\"loss =\", loss, \", accuracy =\",acc)"
   ]
  },
  {
   "cell_type": "markdown",
   "id": "superb-looking",
   "metadata": {},
   "source": [
    "## Extraction des fonctions d’activations\n",
    "\n",
    "Pour cela on fait appelle à la méthode `get_hidden_layers_outputs(x)` qui prend en paramètre un `x`qui représente une liste de données (dans notre cas une liste d'images normalisées). Cette méthode retourne une liste d'éléments tels que chaqu'un représente une liste des sorties d'une couche de neurones.\n",
    "\n",
    "Soit `hd` la sortie retourner par la méthode, alors `hd[i][j][k]` correspond à la sortie donnée par le `k-ième` neurones de la `i-ème` couches étant donné la `j-ème` image de `x`."
   ]
  },
  {
   "cell_type": "code",
   "execution_count": 63,
   "id": "abstract-watershed",
   "metadata": {},
   "outputs": [
    {
     "name": "stdout",
     "output_type": "stream",
     "text": [
      "La taille de `hidden_layers` correspond au nombre de couches cachées: 2\n",
      "\n",
      "La taille de `une_couche` correspond au nombre d'élément dans `x_test`: 200\n",
      "\n",
      "La taille de `une_couche_un_x` correspond donc bien au nombre de neurones dans cette couches: 32\n"
     ]
    }
   ],
   "source": [
    "hidden_layers = model.get_hidden_layers_outputs(x_test)\n",
    "print(\"La taille de `hidden_layers` correspond au nombre de couches cachées:\", len(hidden_layers))\n",
    "\n",
    "une_couche = hidden_layers[0]\n",
    "print(\"\\nLa taille de `une_couche` correspond au nombre d'élément dans `x_test`:\", len(une_couche))\n",
    "\n",
    "une_couche_un_x = une_couche[0]\n",
    "print(\"\\nLa taille de `une_couche_un_x` correspond donc bien au nombre de neurones dans cette couches:\", len(une_couche_un_x))"
   ]
  },
  {
   "cell_type": "code",
   "execution_count": 64,
   "id": "annoying-sensitivity",
   "metadata": {},
   "outputs": [
    {
     "name": "stdout",
     "output_type": "stream",
     "text": [
      "+ Descriptive analysis for the layer:  1\n",
      "+ Measures of Central Tendency\n",
      "Mean = 0.21852256\n",
      "Median = 0.02446067\n",
      "+ Measures of Dispersion\n",
      "Minimum = 0.0\n",
      "Maximum = 1.9040908\n",
      "Varience = 0.094100714\n",
      "Standard Deviation = 0.3067584\n",
      "\n",
      "\n",
      "+ Descriptive analysis for the layer:  2\n",
      "+ Measures of Central Tendency\n",
      "Mean = 0.12963307\n",
      "Median = 0.0\n",
      "+ Measures of Dispersion\n",
      "Minimum = 0.0\n",
      "Maximum = 1.4415239\n",
      "Varience = 0.043623433\n",
      "Standard Deviation = 0.20886223\n",
      "\n",
      "\n"
     ]
    }
   ],
   "source": [
    "def describe(arr):\n",
    "    print(\"+ Measures of Central Tendency\") \n",
    "    print(\"Mean =\", np.mean(arr)) \n",
    "    print(\"Median =\", np.median(arr)) \n",
    "    print(\"+ Measures of Dispersion\") \n",
    "    print(\"Minimum =\", np.amin(arr)) \n",
    "    print(\"Maximum =\", np.amax(arr))\n",
    "    print(\"Varience =\", np.var(arr)) \n",
    "    print(\"Standard Deviation =\", np.std(arr)) \n",
    "    print(\"\\n\")\n",
    "\n",
    "for idx,arr in enumerate(hidden_layers):\n",
    "    print(\"+ Descriptive analysis for the layer: \", idx+1) \n",
    "    describe(arr)"
   ]
  },
  {
   "cell_type": "code",
   "execution_count": 71,
   "id": "ambient-equipment",
   "metadata": {},
   "outputs": [
    {
     "name": "stdout",
     "output_type": "stream",
     "text": [
      "+ Descriptive analysis for the layer:  1\n",
      "+ Measures of Central Tendency\n",
      "Mean = 1.7763568394002505e-17\n",
      "Median = -0.2837979125653109\n",
      "+ Measures of Dispersion\n",
      "Minimum = -0.2837979125653109\n",
      "Maximum = 5.630967777648555\n",
      "Varience = 1.0000000000000013\n",
      "Standard Deviation = 1.0000000000000007\n",
      "\n",
      "\n",
      "+ Descriptive analysis for the layer:  2\n",
      "+ Measures of Central Tendency\n",
      "Mean = 1.7763568394002505e-17\n",
      "Median = -0.4421182771342522\n",
      "+ Measures of Dispersion\n",
      "Minimum = -0.4421182771342522\n",
      "Maximum = 5.205420165798247\n",
      "Varience = 0.9999999999999997\n",
      "Standard Deviation = 0.9999999999999998\n",
      "\n",
      "\n"
     ]
    }
   ],
   "source": [
    "from sklearn.preprocessing import StandardScaler\n",
    "# Standardization \n",
    "scale_hd = []\n",
    "for i in range(len(hidden_layers)):\n",
    "    scale_hd.append(StandardScaler().fit_transform(hidden_layers[i]))\n",
    "\n",
    "for idx,arr in enumerate(scale_hd):\n",
    "    print(\"+ Descriptive analysis for the layer: \", idx+1) \n",
    "    describe(arr[:,31]) \n",
    "    "
   ]
  },
  {
   "cell_type": "code",
   "execution_count": 52,
   "id": "republican-perception",
   "metadata": {},
   "outputs": [],
   "source": [
    "# Clustering with KMeans\n",
    "first_hidden_layers = hidden_layers[0]\n",
    "cluster = KMeans(2).fit(first_hidden_layers)\n",
    "y_kmeans = cluster.predict(first_hidden_layers)"
   ]
  },
  {
   "cell_type": "code",
   "execution_count": 53,
   "id": "expanded-sandwich",
   "metadata": {},
   "outputs": [
    {
     "data": {
      "text/plain": [
       "array([0, 1], dtype=int32)"
      ]
     },
     "execution_count": 53,
     "metadata": {},
     "output_type": "execute_result"
    }
   ],
   "source": [
    "np.unique(y_kmeans)"
   ]
  },
  {
   "cell_type": "code",
   "execution_count": 54,
   "id": "grand-insulation",
   "metadata": {
    "scrolled": true
   },
   "outputs": [
    {
     "data": {
      "image/png": "[encoded data removed]",
      "text/plain": [
       "<Figure size 432x288 with 1 Axes>"
      ]
     },
     "metadata": {
      "needs_background": "light"
     },
     "output_type": "display_data"
    }
   ],
   "source": [
    "plt.scatter(first_hidden_layers[:, 0], first_hidden_layers[:, 1], c=y_kmeans, s=50, cmap='viridis')\n",
    "\n",
    "centers = cluster.cluster_centers_\n",
    "plt.scatter(centers[:, 0], centers[:, 1], c='black', s=200, alpha=0.5)\n",
    "\n",
    "plt.show()"
   ]
  },
  {
   "cell_type": "code",
   "execution_count": 55,
   "id": "cordless-albuquerque",
   "metadata": {},
   "outputs": [
    {
     "data": {
      "text/html": [
       "\n",
       "    <div class=\"bk-root\">\n",
       "        <a href=\"https://bokeh.org\" target=\"_blank\" class=\"bk-logo bk-logo-small bk-logo-notebook\"></a>\n",
       "        <span id=\"2555\">Loading BokehJS ...</span>\n",
       "    </div>"
      ]
     },
     "metadata": {},
     "output_type": "display_data"
    },
    {
     "data": {
      "application/javascript": [
       "\n",
       "(function(root) {\n",
       "  function now() {\n",
       "    return new Date();\n",
       "  }\n",
       "\n",
       "  var force = true;\n",
       "\n",
       "  if (typeof root._bokeh_onload_callbacks === \"undefined\" || force === true) {\n",
       "    root._bokeh_onload_callbacks = [];\n",
       "    root._bokeh_is_loading = undefined;\n",
       "  }\n",
       "\n",
       "  var JS_MIME_TYPE = 'application/javascript';\n",
       "  var HTML_MIME_TYPE = 'text/html';\n",
       "  var EXEC_MIME_TYPE = 'application/vnd.bokehjs_exec.v0+json';\n",
       "  var CLASS_NAME = 'output_bokeh rendered_html';\n",
       "\n",
       "  /**\n",
       "   * Render data to the DOM node\n",
       "   */\n",
       "  function render(props, node) {\n",
       "    var script = document.createElement(\"script\");\n",
       "    node.appendChild(script);\n",
       "  }\n",
       "\n",
       "  /**\n",
       "   * Handle when an output is cleared or removed\n",
       "   */\n",
       "  function handleClearOutput(event, handle) {\n",
       "    var cell = handle.cell;\n",
       "\n",
       "    var id = cell.output_area._bokeh_element_id;\n",
       "    var server_id = cell.output_area._bokeh_server_id;\n",
       "    // Clean up Bokeh references\n",
       "    if (id != null && id in Bokeh.index) {\n",
       "      Bokeh.index[id].model.document.clear();\n",
       "      delete Bokeh.index[id];\n",
       "    }\n",
       "\n",
       "    if (server_id !== undefined) {\n",
       "      // Clean up Bokeh references\n",
       "      var cmd = \"from bokeh.io.state import curstate; print(curstate().uuid_to_server['\" + server_id + \"'].get_sessions()[0].document.roots[0]._id)\";\n",
       "      cell.notebook.kernel.execute(cmd, {\n",
       "        iopub: {\n",
       "          output: function(msg) {\n",
       "            var id = msg.content.text.trim();\n",
       "            if (id in Bokeh.index) {\n",
       "              Bokeh.index[id].model.document.clear();\n",
       "              delete Bokeh.index[id];\n",
       "            }\n",
       "          }\n",
       "        }\n",
       "      });\n",
       "      // Destroy server and session\n",
       "      var cmd = \"import bokeh.io.notebook as ion; ion.destroy_server('\" + server_id + \"')\";\n",
       "      cell.notebook.kernel.execute(cmd);\n",
       "    }\n",
       "  }\n",
       "\n",
       "  /**\n",
       "   * Handle when a new output is added\n",
       "   */\n",
       "  function handleAddOutput(event, handle) {\n",
       "    var output_area = handle.output_area;\n",
       "    var output = handle.output;\n",
       "\n",
       "    // limit handleAddOutput to display_data with EXEC_MIME_TYPE content only\n",
       "    if ((output.output_type != \"display_data\") || (!Object.prototype.hasOwnProperty.call(output.data, EXEC_MIME_TYPE))) {\n",
       "      return\n",
       "    }\n",
       "\n",
       "    var toinsert = output_area.element.find(\".\" + CLASS_NAME.split(' ')[0]);\n",
       "\n",
       "    if (output.metadata[EXEC_MIME_TYPE][\"id\"] !== undefined) {\n",
       "      toinsert[toinsert.length - 1].firstChild.textContent = output.data[JS_MIME_TYPE];\n",
       "      // store reference to embed id on output_area\n",
       "      output_area._bokeh_element_id = output.metadata[EXEC_MIME_TYPE][\"id\"];\n",
       "    }\n",
       "    if (output.metadata[EXEC_MIME_TYPE][\"server_id\"] !== undefined) {\n",
       "      var bk_div = document.createElement(\"div\");\n",
       "      bk_div.innerHTML = output.data[HTML_MIME_TYPE];\n",
       "      var script_attrs = bk_div.children[0].attributes;\n",
       "      for (var i = 0; i < script_attrs.length; i++) {\n",
       "        toinsert[toinsert.length - 1].firstChild.setAttribute(script_attrs[i].name, script_attrs[i].value);\n",
       "        toinsert[toinsert.length - 1].firstChild.textContent = bk_div.children[0].textContent\n",
       "      }\n",
       "      // store reference to server id on output_area\n",
       "      output_area._bokeh_server_id = output.metadata[EXEC_MIME_TYPE][\"server_id\"];\n",
       "    }\n",
       "  }\n",
       "\n",
       "  function register_renderer(events, OutputArea) {\n",
       "\n",
       "    function append_mime(data, metadata, element) {\n",
       "      // create a DOM node to render to\n",
       "      var toinsert = this.create_output_subarea(\n",
       "        metadata,\n",
       "        CLASS_NAME,\n",
       "        EXEC_MIME_TYPE\n",
       "      );\n",
       "      this.keyboard_manager.register_events(toinsert);\n",
       "      // Render to node\n",
       "      var props = {data: data, metadata: metadata[EXEC_MIME_TYPE]};\n",
       "      render(props, toinsert[toinsert.length - 1]);\n",
       "      element.append(toinsert);\n",
       "      return toinsert\n",
       "    }\n",
       "\n",
       "    /* Handle when an output is cleared or removed */\n",
       "    events.on('clear_output.CodeCell', handleClearOutput);\n",
       "    events.on('delete.Cell', handleClearOutput);\n",
       "\n",
       "    /* Handle when a new output is added */\n",
       "    events.on('output_added.OutputArea', handleAddOutput);\n",
       "\n",
       "    /**\n",
       "     * Register the mime type and append_mime function with output_area\n",
       "     */\n",
       "    OutputArea.prototype.register_mime_type(EXEC_MIME_TYPE, append_mime, {\n",
       "      /* Is output safe? */\n",
       "      safe: true,\n",
       "      /* Index of renderer in `output_area.display_order` */\n",
       "      index: 0\n",
       "    });\n",
       "  }\n",
       "\n",
       "  // register the mime type if in Jupyter Notebook environment and previously unregistered\n",
       "  if (root.Jupyter !== undefined) {\n",
       "    var events = require('base/js/events');\n",
       "    var OutputArea = require('notebook/js/outputarea').OutputArea;\n",
       "\n",
       "    if (OutputArea.prototype.mime_types().indexOf(EXEC_MIME_TYPE) == -1) {\n",
       "      register_renderer(events, OutputArea);\n",
       "    }\n",
       "  }\n",
       "\n",
       "  \n",
       "  if (typeof (root._bokeh_timeout) === \"undefined\" || force === true) {\n",
       "    root._bokeh_timeout = Date.now() + 5000;\n",
       "    root._bokeh_failed_load = false;\n",
       "  }\n",
       "\n",
       "  var NB_LOAD_WARNING = {'data': {'text/html':\n",
       "     \"<div style='background-color: #fdd'>\\n\"+\n",
       "     \"<p>\\n\"+\n",
       "     \"BokehJS does not appear to have successfully loaded. If loading BokehJS from CDN, this \\n\"+\n",
       "     \"may be due to a slow or bad network connection. Possible fixes:\\n\"+\n",
       "     \"</p>\\n\"+\n",
       "     \"<ul>\\n\"+\n",
       "     \"<li>re-rerun `output_notebook()` to attempt to load from CDN again, or</li>\\n\"+\n",
       "     \"<li>use INLINE resources instead, as so:</li>\\n\"+\n",
       "     \"</ul>\\n\"+\n",
       "     \"<code>\\n\"+\n",
       "     \"from bokeh.resources import INLINE\\n\"+\n",
       "     \"output_notebook(resources=INLINE)\\n\"+\n",
       "     \"</code>\\n\"+\n",
       "     \"</div>\"}};\n",
       "\n",
       "  function display_loaded() {\n",
       "    var el = document.getElementById(\"2555\");\n",
       "    if (el != null) {\n",
       "      el.textContent = \"BokehJS is loading...\";\n",
       "    }\n",
       "    if (root.Bokeh !== undefined) {\n",
       "      if (el != null) {\n",
       "        el.textContent = \"BokehJS \" + root.Bokeh.version + \" successfully loaded.\";\n",
       "      }\n",
       "    } else if (Date.now() < root._bokeh_timeout) {\n",
       "      setTimeout(display_loaded, 100)\n",
       "    }\n",
       "  }\n",
       "\n",
       "\n",
       "  function run_callbacks() {\n",
       "    try {\n",
       "      root._bokeh_onload_callbacks.forEach(function(callback) {\n",
       "        if (callback != null)\n",
       "          callback();\n",
       "      });\n",
       "    } finally {\n",
       "      delete root._bokeh_onload_callbacks\n",
       "    }\n",
       "    console.debug(\"Bokeh: all callbacks have finished\");\n",
       "  }\n",
       "\n",
       "  function load_libs(css_urls, js_urls, callback) {\n",
       "    if (css_urls == null) css_urls = [];\n",
       "    if (js_urls == null) js_urls = [];\n",
       "\n",
       "    root._bokeh_onload_callbacks.push(callback);\n",
       "    if (root._bokeh_is_loading > 0) {\n",
       "      console.debug(\"Bokeh: BokehJS is being loaded, scheduling callback at\", now());\n",
       "      return null;\n",
       "    }\n",
       "    if (js_urls == null || js_urls.length === 0) {\n",
       "      run_callbacks();\n",
       "      return null;\n",
       "    }\n",
       "    console.debug(\"Bokeh: BokehJS not loaded, scheduling load and callback at\", now());\n",
       "    root._bokeh_is_loading = css_urls.length + js_urls.length;\n",
       "\n",
       "    function on_load() {\n",
       "      root._bokeh_is_loading--;\n",
       "      if (root._bokeh_is_loading === 0) {\n",
       "        console.debug(\"Bokeh: all BokehJS libraries/stylesheets loaded\");\n",
       "        run_callbacks()\n",
       "      }\n",
       "    }\n",
       "\n",
       "    function on_error(url) {\n",
       "      console.error(\"failed to load \" + url);\n",
       "    }\n",
       "\n",
       "    for (let i = 0; i < css_urls.length; i++) {\n",
       "      const url = css_urls[i];\n",
       "      const element = document.createElement(\"link\");\n",
       "      element.onload = on_load;\n",
       "      element.onerror = on_error.bind(null, url);\n",
       "      element.rel = \"stylesheet\";\n",
       "      element.type = \"text/css\";\n",
       "      element.href = url;\n",
       "      console.debug(\"Bokeh: injecting link tag for BokehJS stylesheet: \", url);\n",
       "      document.body.appendChild(element);\n",
       "    }\n",
       "\n",
       "    const hashes = {\"https://cdn.bokeh.org/bokeh/release/bokeh-2.3.0.min.js\": \"HjagQp6T0/7bxYTAXbLotF1MLAGWmhkY5siA1Gc/pcEgvgRPtMsRn0gQtMwGKiw1\", \"https://cdn.bokeh.org/bokeh/release/bokeh-widgets-2.3.0.min.js\": \"ZEPPTjL+mdyqgIq+/pl9KTwzji8Kow2NnI3zWY8+sFinWP/SYJ80BnfeJsa45iYj\", \"https://cdn.bokeh.org/bokeh/release/bokeh-tables-2.3.0.min.js\": \"exLqv2ACDRIaV7ZK1iL8aGzGYQvKVuT3U2CT7FsQREBxRah6JrkVCoFy0koY1YqV\"};\n",
       "\n",
       "    for (let i = 0; i < js_urls.length; i++) {\n",
       "      const url = js_urls[i];\n",
       "      const element = document.createElement('script');\n",
       "      element.onload = on_load;\n",
       "      element.onerror = on_error.bind(null, url);\n",
       "      element.async = false;\n",
       "      element.src = url;\n",
       "      if (url in hashes) {\n",
       "        element.crossOrigin = \"anonymous\";\n",
       "        element.integrity = \"sha384-\" + hashes[url];\n",
       "      }\n",
       "      console.debug(\"Bokeh: injecting script tag for BokehJS library: \", url);\n",
       "      document.head.appendChild(element);\n",
       "    }\n",
       "  };\n",
       "\n",
       "  function inject_raw_css(css) {\n",
       "    const element = document.createElement(\"style\");\n",
       "    element.appendChild(document.createTextNode(css));\n",
       "    document.body.appendChild(element);\n",
       "  }\n",
       "\n",
       "  \n",
       "  var js_urls = [\"https://cdn.bokeh.org/bokeh/release/bokeh-2.3.0.min.js\", \"https://cdn.bokeh.org/bokeh/release/bokeh-widgets-2.3.0.min.js\", \"https://cdn.bokeh.org/bokeh/release/bokeh-tables-2.3.0.min.js\", \"https://unpkg.com/@holoviz/panel@^0.10.3/dist/panel.min.js\"];\n",
       "  var css_urls = [\"http://localhost:5006/static/extensions/panel/css/widgets.css\", \"http://localhost:5006/static/extensions/panel/css/dataframe.css\", \"http://localhost:5006/static/extensions/panel/css/card.css\", \"http://localhost:5006/static/extensions/panel/css/json.css\", \"http://localhost:5006/static/extensions/panel/css/alerts.css\", \"http://localhost:5006/static/extensions/panel/css/markdown.css\"];\n",
       "  \n",
       "\n",
       "  var inline_js = [\n",
       "    function(Bokeh) {\n",
       "      Bokeh.set_log_level(\"info\");\n",
       "    },\n",
       "    function(Bokeh) {\n",
       "    \n",
       "    \n",
       "    }\n",
       "  ];\n",
       "\n",
       "  function run_inline_js() {\n",
       "    \n",
       "    if (root.Bokeh !== undefined || force === true) {\n",
       "      \n",
       "    for (var i = 0; i < inline_js.length; i++) {\n",
       "      inline_js[i].call(root, root.Bokeh);\n",
       "    }\n",
       "    if (force === true) {\n",
       "        display_loaded();\n",
       "      }} else if (Date.now() < root._bokeh_timeout) {\n",
       "      setTimeout(run_inline_js, 100);\n",
       "    } else if (!root._bokeh_failed_load) {\n",
       "      console.log(\"Bokeh: BokehJS failed to load within specified timeout.\");\n",
       "      root._bokeh_failed_load = true;\n",
       "    } else if (force !== true) {\n",
       "      var cell = $(document.getElementById(\"2555\")).parents('.cell').data().cell;\n",
       "      cell.output_area.append_execute_result(NB_LOAD_WARNING)\n",
       "    }\n",
       "\n",
       "  }\n",
       "\n",
       "  if (root._bokeh_is_loading === 0) {\n",
       "    console.debug(\"Bokeh: BokehJS loaded, going straight to plotting\");\n",
       "    run_inline_js();\n",
       "  } else {\n",
       "    load_libs(css_urls, js_urls, function() {\n",
       "      console.debug(\"Bokeh: BokehJS plotting callback run at\", now());\n",
       "      run_inline_js();\n",
       "    });\n",
       "  }\n",
       "}(window));"
      ],
      "application/vnd.bokehjs_load.v0+json": "\n(function(root) {\n  function now() {\n    return new Date();\n  }\n\n  var force = true;\n\n  if (typeof root._bokeh_onload_callbacks === \"undefined\" || force === true) {\n    root._bokeh_onload_callbacks = [];\n    root._bokeh_is_loading = undefined;\n  }\n\n  \n\n  \n  if (typeof (root._bokeh_timeout) === \"undefined\" || force === true) {\n    root._bokeh_timeout = Date.now() + 5000;\n    root._bokeh_failed_load = false;\n  }\n\n  var NB_LOAD_WARNING = {'data': {'text/html':\n     \"<div style='background-color: #fdd'>\\n\"+\n     \"<p>\\n\"+\n     \"BokehJS does not appear to have successfully loaded. If loading BokehJS from CDN, this \\n\"+\n     \"may be due to a slow or bad network connection. Possible fixes:\\n\"+\n     \"</p>\\n\"+\n     \"<ul>\\n\"+\n     \"<li>re-rerun `output_notebook()` to attempt to load from CDN again, or</li>\\n\"+\n     \"<li>use INLINE resources instead, as so:</li>\\n\"+\n     \"</ul>\\n\"+\n     \"<code>\\n\"+\n     \"from bokeh.resources import INLINE\\n\"+\n     \"output_notebook(resources=INLINE)\\n\"+\n     \"</code>\\n\"+\n     \"</div>\"}};\n\n  function display_loaded() {\n    var el = document.getElementById(\"2555\");\n    if (el != null) {\n      el.textContent = \"BokehJS is loading...\";\n    }\n    if (root.Bokeh !== undefined) {\n      if (el != null) {\n        el.textContent = \"BokehJS \" + root.Bokeh.version + \" successfully loaded.\";\n      }\n    } else if (Date.now() < root._bokeh_timeout) {\n      setTimeout(display_loaded, 100)\n    }\n  }\n\n\n  function run_callbacks() {\n    try {\n      root._bokeh_onload_callbacks.forEach(function(callback) {\n        if (callback != null)\n          callback();\n      });\n    } finally {\n      delete root._bokeh_onload_callbacks\n    }\n    console.debug(\"Bokeh: all callbacks have finished\");\n  }\n\n  function load_libs(css_urls, js_urls, callback) {\n    if (css_urls == null) css_urls = [];\n    if (js_urls == null) js_urls = [];\n\n    root._bokeh_onload_callbacks.push(callback);\n    if (root._bokeh_is_loading > 0) {\n      console.debug(\"Bokeh: BokehJS is being loaded, scheduling callback at\", now());\n      return null;\n    }\n    if (js_urls == null || js_urls.length === 0) {\n      run_callbacks();\n      return null;\n    }\n    console.debug(\"Bokeh: BokehJS not loaded, scheduling load and callback at\", now());\n    root._bokeh_is_loading = css_urls.length + js_urls.length;\n\n    function on_load() {\n      root._bokeh_is_loading--;\n      if (root._bokeh_is_loading === 0) {\n        console.debug(\"Bokeh: all BokehJS libraries/stylesheets loaded\");\n        run_callbacks()\n      }\n    }\n\n    function on_error(url) {\n      console.error(\"failed to load \" + url);\n    }\n\n    for (let i = 0; i < css_urls.length; i++) {\n      const url = css_urls[i];\n      const element = document.createElement(\"link\");\n      element.onload = on_load;\n      element.onerror = on_error.bind(null, url);\n      element.rel = \"stylesheet\";\n      element.type = \"text/css\";\n      element.href = url;\n      console.debug(\"Bokeh: injecting link tag for BokehJS stylesheet: \", url);\n      document.body.appendChild(element);\n    }\n\n    const hashes = {\"https://cdn.bokeh.org/bokeh/release/bokeh-2.3.0.min.js\": \"HjagQp6T0/7bxYTAXbLotF1MLAGWmhkY5siA1Gc/pcEgvgRPtMsRn0gQtMwGKiw1\", \"https://cdn.bokeh.org/bokeh/release/bokeh-widgets-2.3.0.min.js\": \"ZEPPTjL+mdyqgIq+/pl9KTwzji8Kow2NnI3zWY8+sFinWP/SYJ80BnfeJsa45iYj\", \"https://cdn.bokeh.org/bokeh/release/bokeh-tables-2.3.0.min.js\": \"exLqv2ACDRIaV7ZK1iL8aGzGYQvKVuT3U2CT7FsQREBxRah6JrkVCoFy0koY1YqV\"};\n\n    for (let i = 0; i < js_urls.length; i++) {\n      const url = js_urls[i];\n      const element = document.createElement('script');\n      element.onload = on_load;\n      element.onerror = on_error.bind(null, url);\n      element.async = false;\n      element.src = url;\n      if (url in hashes) {\n        element.crossOrigin = \"anonymous\";\n        element.integrity = \"sha384-\" + hashes[url];\n      }\n      console.debug(\"Bokeh: injecting script tag for BokehJS library: \", url);\n      document.head.appendChild(element);\n    }\n  };\n\n  function inject_raw_css(css) {\n    const element = document.createElement(\"style\");\n    element.appendChild(document.createTextNode(css));\n    document.body.appendChild(element);\n  }\n\n  \n  var js_urls = [\"https://cdn.bokeh.org/bokeh/release/bokeh-2.3.0.min.js\", \"https://cdn.bokeh.org/bokeh/release/bokeh-widgets-2.3.0.min.js\", \"https://cdn.bokeh.org/bokeh/release/bokeh-tables-2.3.0.min.js\", \"https://unpkg.com/@holoviz/panel@^0.10.3/dist/panel.min.js\"];\n  var css_urls = [\"http://localhost:5006/static/extensions/panel/css/widgets.css\", \"http://localhost:5006/static/extensions/panel/css/dataframe.css\", \"http://localhost:5006/static/extensions/panel/css/card.css\", \"http://localhost:5006/static/extensions/panel/css/json.css\", \"http://localhost:5006/static/extensions/panel/css/alerts.css\", \"http://localhost:5006/static/extensions/panel/css/markdown.css\"];\n  \n\n  var inline_js = [\n    function(Bokeh) {\n      Bokeh.set_log_level(\"info\");\n    },\n    function(Bokeh) {\n    \n    \n    }\n  ];\n\n  function run_inline_js() {\n    \n    if (root.Bokeh !== undefined || force === true) {\n      \n    for (var i = 0; i < inline_js.length; i++) {\n      inline_js[i].call(root, root.Bokeh);\n    }\n    if (force === true) {\n        display_loaded();\n      }} else if (Date.now() < root._bokeh_timeout) {\n      setTimeout(run_inline_js, 100);\n    } else if (!root._bokeh_failed_load) {\n      console.log(\"Bokeh: BokehJS failed to load within specified timeout.\");\n      root._bokeh_failed_load = true;\n    } else if (force !== true) {\n      var cell = $(document.getElementById(\"2555\")).parents('.cell').data().cell;\n      cell.output_area.append_execute_result(NB_LOAD_WARNING)\n    }\n\n  }\n\n  if (root._bokeh_is_loading === 0) {\n    console.debug(\"Bokeh: BokehJS loaded, going straight to plotting\");\n    run_inline_js();\n  } else {\n    load_libs(css_urls, js_urls, function() {\n      console.debug(\"Bokeh: BokehJS plotting callback run at\", now());\n      run_inline_js();\n    });\n  }\n}(window));"
     },
     "metadata": {},
     "output_type": "display_data"
    },
    {
     "data": {
      "text/html": [
       "\n",
       "\n",
       "\n",
       "\n",
       "\n",
       "\n",
       "  <div class=\"bk-root\" id=\"209424e3-b82b-47df-8f8c-aef87ec44b38\" data-root-id=\"2557\"></div>\n"
      ]
     },
     "metadata": {},
     "output_type": "display_data"
    },
    {
     "data": {
      "application/javascript": [
       "(function(root) {\n",
       "  function embed_document(root) {\n",
       "    \n",
       "  var docs_json = {\"97137083-5959-4ed1-bfff-878a55beda14\":{\"defs\":[{\"extends\":null,\"module\":null,\"name\":\"DataModel\",\"overrides\":[],\"properties\":[]}],\"roots\":{\"references\":[{\"attributes\":{\"background_fill_color\":\"white\",\"below\":[{\"id\":\"2566\"}],\"center\":[{\"id\":\"2569\"},{\"id\":\"2573\"}],\"height\":800,\"left\":[{\"id\":\"2570\"}],\"renderers\":[{\"id\":\"2593\"}],\"title\":{\"id\":\"2705\"},\"toolbar\":{\"id\":\"2582\"},\"width\":800,\"x_range\":{\"id\":\"2558\"},\"x_scale\":{\"id\":\"2562\"},\"y_range\":{\"id\":\"2560\"},\"y_scale\":{\"id\":\"2564\"}},\"id\":\"2557\",\"subtype\":\"Figure\",\"type\":\"Plot\"},{\"attributes\":{},\"id\":\"2564\",\"type\":\"LinearScale\"},{\"attributes\":{\"data_source\":{\"id\":\"2556\"},\"glyph\":{\"id\":\"2591\"},\"hover_glyph\":null,\"muted_glyph\":null,\"nonselection_glyph\":{\"id\":\"2592\"},\"view\":{\"id\":\"2594\"}},\"id\":\"2593\",\"type\":\"GlyphRenderer\"},{\"attributes\":{},\"id\":\"2575\",\"type\":\"WheelZoomTool\"},{\"attributes\":{\"axis\":{\"id\":\"2570\"},\"dimension\":1,\"ticker\":null,\"visible\":false},\"id\":\"2573\",\"type\":\"Grid\"},{\"attributes\":{},\"id\":\"2578\",\"type\":\"ResetTool\"},{\"attributes\":{\"active_multi\":null,\"tools\":[{\"id\":\"2574\"},{\"id\":\"2575\"},{\"id\":\"2576\"},{\"id\":\"2577\"},{\"id\":\"2578\"},{\"id\":\"2579\"},{\"id\":\"2581\"}]},\"id\":\"2582\",\"type\":\"Toolbar\"},{\"attributes\":{},\"id\":\"2560\",\"type\":\"DataRange1d\"},{\"attributes\":{},\"id\":\"2709\",\"type\":\"AllLabels\"},{\"attributes\":{\"fill_alpha\":{\"field\":\"alpha\"},\"fill_color\":{\"field\":\"color\"},\"line_alpha\":{\"field\":\"alpha\"},\"line_color\":{\"field\":\"color\"},\"size\":{\"value\":14.14213562373095},\"x\":{\"field\":\"x\"},\"y\":{\"field\":\"y\"}},\"id\":\"2591\",\"type\":\"Circle\"},{\"attributes\":{\"formatter\":{\"id\":\"2711\"},\"major_label_policy\":{\"id\":\"2712\"},\"ticker\":{\"id\":\"2571\"},\"visible\":false},\"id\":\"2570\",\"type\":\"LinearAxis\"},{\"attributes\":{},\"id\":\"2705\",\"type\":\"Title\"},{\"attributes\":{},\"id\":\"2571\",\"type\":\"BasicTicker\"},{\"attributes\":{},\"id\":\"2708\",\"type\":\"BasicTickFormatter\"},{\"attributes\":{\"source\":{\"id\":\"2556\"}},\"id\":\"2594\",\"type\":\"CDSView\"},{\"attributes\":{},\"id\":\"2712\",\"type\":\"AllLabels\"},{\"attributes\":{},\"id\":\"2577\",\"type\":\"SaveTool\"},{\"attributes\":{},\"id\":\"2579\",\"type\":\"HelpTool\"},{\"attributes\":{\"fill_alpha\":{\"value\":0.1},\"fill_color\":{\"field\":\"color\"},\"line_alpha\":{\"value\":0.1},\"line_color\":{\"field\":\"color\"},\"size\":{\"value\":14.14213562373095},\"x\":{\"field\":\"x\"},\"y\":{\"field\":\"y\"}},\"id\":\"2592\",\"type\":\"Circle\"},{\"attributes\":{},\"id\":\"2715\",\"type\":\"UnionRenderers\"},{\"attributes\":{},\"id\":\"2567\",\"type\":\"BasicTicker\"},{\"attributes\":{\"overlay\":{\"id\":\"2580\"}},\"id\":\"2576\",\"type\":\"BoxZoomTool\"},{\"attributes\":{},\"id\":\"2714\",\"type\":\"Selection\"},{\"attributes\":{\"bottom_units\":\"screen\",\"fill_alpha\":0.5,\"fill_color\":\"lightgrey\",\"left_units\":\"screen\",\"level\":\"overlay\",\"line_alpha\":1.0,\"line_color\":\"black\",\"line_dash\":[4,4],\"line_width\":2,\"right_units\":\"screen\",\"syncable\":false,\"top_units\":\"screen\"},\"id\":\"2580\",\"type\":\"BoxAnnotation\"},{\"attributes\":{\"axis\":{\"id\":\"2566\"},\"ticker\":null,\"visible\":false},\"id\":\"2569\",\"type\":\"Grid\"},{\"attributes\":{\"formatter\":{\"id\":\"2708\"},\"major_label_policy\":{\"id\":\"2709\"},\"ticker\":{\"id\":\"2567\"},\"visible\":false},\"id\":\"2566\",\"type\":\"LinearAxis\"},{\"attributes\":{\"data\":{\"alpha\":[1,1,1,1,1,1,1,1,1,1,1,1,1,1,1,1,1,1,1,1,1,1,1,1,1,1,1,1,1,1,1,1,1,1,1,1,1,1,1,1,1,1,1,1,1,1,1,1,1,1],\"color\":[\"#9e0142\",\"#9e0142\",\"#9e0142\",\"#9e0142\",\"#9e0142\",\"#9e0142\",\"#9e0142\",\"#9e0142\",\"#9e0142\",\"#9e0142\",\"#9e0142\",\"#9e0142\",\"#9e0142\",\"#9e0142\",\"#9e0142\",\"#9e0142\",\"#9e0142\",\"#9e0142\",\"#9e0142\",\"#9e0142\",\"#9e0142\",\"#9e0142\",\"#9e0142\",\"#9e0142\",\"#9e0142\",\"#5e4fa2\",\"#5e4fa2\",\"#5e4fa2\",\"#5e4fa2\",\"#5e4fa2\",\"#5e4fa2\",\"#5e4fa2\",\"#5e4fa2\",\"#5e4fa2\",\"#9e0142\",\"#5e4fa2\",\"#5e4fa2\",\"#5e4fa2\",\"#5e4fa2\",\"#5e4fa2\",\"#5e4fa2\",\"#5e4fa2\",\"#9e0142\",\"#5e4fa2\",\"#5e4fa2\",\"#5e4fa2\",\"#5e4fa2\",\"#5e4fa2\",\"#9e0142\",\"#5e4fa2\"],\"index\":[0,1,2,3,4,5,6,7,8,9,10,11,12,13,14,15,16,17,18,19,20,21,22,23,24,25,26,27,28,29,30,31,32,33,34,35,36,37,38,39,40,41,42,43,44,45,46,47,48,49],\"kmeans\":{\"__ndarray__\":\"AAAAAAAAAAAAAAAAAAAAAAAAAAAAAAAAAAAAAAAAAAAAAAAAAAAAAAAAAAAAAAAAAAAAAAAAAAAAAAAAAAAAAAAAAAAAAAAAAAAAAAAAAAAAAAAAAAAAAAAAAAAAAAAAAAAAAAEAAAABAAAAAQAAAAEAAAABAAAAAQAAAAEAAAABAAAAAQAAAAAAAAABAAAAAQAAAAEAAAABAAAAAQAAAAEAAAABAAAAAAAAAAEAAAABAAAAAQAAAAEAAAABAAAAAAAAAAEAAAA=\",\"dtype\":\"int32\",\"order\":\"little\",\"shape\":[50]},\"label\":{\"__ndarray__\":\"AQEBAQEBAQEBAQEBAQEBAQEBAQEBAQEBAQcHBwcHBwcHBwcHBwcHBwcHBwcHBwcHBwc=\",\"dtype\":\"uint8\",\"order\":\"little\",\"shape\":[50]},\"level_0\":[0,1,2,3,4,5,6,7,8,9,10,11,12,13,14,15,16,17,18,19,20,21,22,23,24,25,26,27,28,29,30,31,32,33,34,35,36,37,38,39,40,41,42,43,44,45,46,47,48,49],\"prediction\":[1,1,1,1,1,1,1,7,7,1,1,1,1,7,1,1,1,1,1,1,1,7,1,1,7,7,7,7,7,7,7,7,7,7,1,7,7,7,7,7,7,7,7,7,7,7,7,7,7,7],\"x\":{\"__ndarray__\":\"ows+QZ0DSUGFejVBkCkrQUg1IkFT0jlBG+xEQbtuJUFeQRlBY3k2Qc84PEG6l0FBt09JQVcNHEFnQ0ZBH7tBQensRUGzzDtBXbspQVLIMkHuiD5BpWUpQdryPkFvkjhBfKwhQX1TGkEWRhxBe4AWQcnNN0E00RVBYDcTQXEAEkEoYzNBwLkYQWjcOUHnwTlB3vIKQXwjEkGoYDJBX1M5QTerOkGAqTFB70EUQYhTI0HGGDNBpMoMQY6jMEGDDjZB6OgkQfQUHUE=\",\"dtype\":\"float32\",\"order\":\"little\",\"shape\":[50]},\"y\":{\"__ndarray__\":\"W5Wbv69TkL0i+Rk+URvcv+oo0b/I9+K+mnglP3hnKr8yuqC/VqmDv0yvuz2oEYI/cSp3P5TnwL/k/zW/g7viPh3IkD8dKmS/Ngu8vyQLDr+59BC/IOFtv+qb4L2VyQW+2jGlvxhgqT8dEtA/gGF9P+rbUUDCRMo/w3OfPzCh7z9QwU5ADJYOQCriaj8+CV5AvJMvPwp1RT/D4FVAWJMPQL76xz9RewlAzyaxO7Z27D8/pHJAaLWNP0zbPkDlwmVA0T1ov9/j7T8=\",\"dtype\":\"float32\",\"order\":\"little\",\"shape\":[50]}},\"selected\":{\"id\":\"2714\"},\"selection_policy\":{\"id\":\"2715\"}},\"id\":\"2556\",\"type\":\"ColumnDataSource\"},{\"attributes\":{},\"id\":\"2562\",\"type\":\"LinearScale\"},{\"attributes\":{},\"id\":\"2574\",\"type\":\"PanTool\"},{\"attributes\":{},\"id\":\"2558\",\"type\":\"DataRange1d\"},{\"attributes\":{\"callback\":null,\"tooltips\":[[\"index\",\"@{index}\"],[\"label\",\"@{label}\"],[\"kmeans\",\"@{kmeans}\"],[\"prediction\",\"@{prediction}\"]]},\"id\":\"2581\",\"type\":\"HoverTool\"},{\"attributes\":{},\"id\":\"2711\",\"type\":\"BasicTickFormatter\"}],\"root_ids\":[\"2557\"]},\"title\":\"Bokeh Application\",\"version\":\"2.3.0\"}};\n",
       "  var render_items = [{\"docid\":\"97137083-5959-4ed1-bfff-878a55beda14\",\"root_ids\":[\"2557\"],\"roots\":{\"2557\":\"209424e3-b82b-47df-8f8c-aef87ec44b38\"}}];\n",
       "  root.Bokeh.embed.embed_items_notebook(docs_json, render_items);\n",
       "\n",
       "  }\n",
       "  if (root.Bokeh !== undefined) {\n",
       "    embed_document(root);\n",
       "  } else {\n",
       "    var attempts = 0;\n",
       "    var timer = setInterval(function(root) {\n",
       "      if (root.Bokeh !== undefined) {\n",
       "        clearInterval(timer);\n",
       "        embed_document(root);\n",
       "      } else {\n",
       "        attempts++;\n",
       "        if (attempts > 100) {\n",
       "          clearInterval(timer);\n",
       "          console.log(\"Bokeh: ERROR: Unable to run BokehJS code because BokehJS library is missing\");\n",
       "        }\n",
       "      }\n",
       "    }, 10, root)\n",
       "  }\n",
       "})(window);"
      ],
      "application/vnd.bokehjs_exec.v0+json": ""
     },
     "metadata": {
      "application/vnd.bokehjs_exec.v0+json": {
       "id": "2557"
      }
     },
     "output_type": "display_data"
    },
    {
     "data": {
      "text/html": [
       "\n",
       "\n",
       "\n",
       "\n",
       "\n",
       "\n",
       "  <div class=\"bk-root\" id=\"ac172b80-1823-4c16-9880-49be44ad7d35\" data-root-id=\"2772\"></div>\n"
      ]
     },
     "metadata": {},
     "output_type": "display_data"
    },
    {
     "data": {
      "application/javascript": [
       "(function(root) {\n",
       "  function embed_document(root) {\n",
       "    \n",
       "  var docs_json = {\"7226455b-44d2-471a-81d1-aa91de5c321a\":{\"defs\":[{\"extends\":null,\"module\":null,\"name\":\"DataModel\",\"overrides\":[],\"properties\":[]}],\"roots\":{\"references\":[{\"attributes\":{\"background_fill_color\":\"white\",\"below\":[{\"id\":\"2781\"}],\"center\":[{\"id\":\"2784\"},{\"id\":\"2788\"}],\"height\":800,\"left\":[{\"id\":\"2785\"}],\"renderers\":[{\"id\":\"2808\"}],\"title\":{\"id\":\"2931\"},\"toolbar\":{\"id\":\"2797\"},\"width\":800,\"x_range\":{\"id\":\"2773\"},\"x_scale\":{\"id\":\"2777\"},\"y_range\":{\"id\":\"2775\"},\"y_scale\":{\"id\":\"2779\"}},\"id\":\"2772\",\"subtype\":\"Figure\",\"type\":\"Plot\"},{\"attributes\":{\"data\":{\"alpha\":[1,1,1,1,1,1,1,1,1,1,1,1,1,1,1,1,1,1,1,1,1,1,1,1,1,1,1,1,1,1,1,1,1,1,1,1,1,1,1,1,1,1,1,1,1,1,1,1,1,1],\"color\":[\"#9e0142\",\"#9e0142\",\"#9e0142\",\"#9e0142\",\"#9e0142\",\"#9e0142\",\"#9e0142\",\"#9e0142\",\"#9e0142\",\"#9e0142\",\"#9e0142\",\"#9e0142\",\"#9e0142\",\"#9e0142\",\"#9e0142\",\"#9e0142\",\"#9e0142\",\"#9e0142\",\"#9e0142\",\"#9e0142\",\"#9e0142\",\"#9e0142\",\"#9e0142\",\"#9e0142\",\"#9e0142\",\"#5e4fa2\",\"#5e4fa2\",\"#5e4fa2\",\"#5e4fa2\",\"#5e4fa2\",\"#5e4fa2\",\"#5e4fa2\",\"#5e4fa2\",\"#5e4fa2\",\"#9e0142\",\"#5e4fa2\",\"#5e4fa2\",\"#5e4fa2\",\"#5e4fa2\",\"#5e4fa2\",\"#5e4fa2\",\"#5e4fa2\",\"#9e0142\",\"#5e4fa2\",\"#5e4fa2\",\"#5e4fa2\",\"#5e4fa2\",\"#5e4fa2\",\"#9e0142\",\"#5e4fa2\"],\"index\":[0,1,2,3,4,5,6,7,8,9,10,11,12,13,14,15,16,17,18,19,20,21,22,23,24,25,26,27,28,29,30,31,32,33,34,35,36,37,38,39,40,41,42,43,44,45,46,47,48,49],\"kmeans\":{\"__ndarray__\":\"AAAAAAAAAAAAAAAAAAAAAAAAAAAAAAAAAAAAAAAAAAAAAAAAAAAAAAAAAAAAAAAAAAAAAAAAAAAAAAAAAAAAAAAAAAAAAAAAAAAAAAAAAAAAAAAAAAAAAAAAAAAAAAAAAAAAAAEAAAABAAAAAQAAAAEAAAABAAAAAQAAAAEAAAABAAAAAQAAAAAAAAABAAAAAQAAAAEAAAABAAAAAQAAAAEAAAABAAAAAAAAAAEAAAABAAAAAQAAAAEAAAABAAAAAAAAAAEAAAA=\",\"dtype\":\"int32\",\"order\":\"little\",\"shape\":[50]},\"label\":{\"__ndarray__\":\"AQEBAQEBAQEBAQEBAQEBAQEBAQEBAQEBAQcHBwcHBwcHBwcHBwcHBwcHBwcHBwcHBwc=\",\"dtype\":\"uint8\",\"order\":\"little\",\"shape\":[50]},\"level_0\":[0,1,2,3,4,5,6,7,8,9,10,11,12,13,14,15,16,17,18,19,20,21,22,23,24,25,26,27,28,29,30,31,32,33,34,35,36,37,38,39,40,41,42,43,44,45,46,47,48,49],\"prediction\":[1,1,1,1,1,1,1,7,7,1,1,1,1,7,1,1,1,1,1,1,1,7,1,1,7,7,7,7,7,7,7,7,7,7,1,7,7,7,7,7,7,7,7,7,7,7,7,7,7,7],\"x\":{\"__ndarray__\":\"Jk2LQVSBhUFBS4tBycSVQfQrnEFyUJBBJ5iDQRcwmEEgsphBsBuQQammjEGIcoBBBQ2AQUghmkHaJ41BMkqGQe0YfkErNo9BUg2cQQ2djkFEZJJBr9uWQePdi0HrlopBSZeaQWcObUHUwWlBh21wQYo8VUH4uGdBGFtvQZv6ZEHxdVNBUStkQfLXckEFllBBSqhpQefSbEH6eFJBJV9fQd8ickHZb2lB9ByXQdyeZUHlSVFBigVnQVWzVEFQVVpBYJeVQRCgYEE=\",\"dtype\":\"float32\",\"order\":\"little\",\"shape\":[50]},\"y\":{\"__ndarray__\":\"iMkiQfU8K0G6EyxBlV0lQWN0IEGPZDNBI4IyQeM4E0G2cStBaB8qQRNRLkGPjStBC7gvQe7/JEEInyFBWdAyQWjnMkHiaydBC5QYQU8mN0Exzy5BHrwXQdfFNEHq0zdBZtcbQTlJDUGKuhZBXAcKQV4FRkG0ehlBtX8SQZ+NEEH1t0pBMbgdQXm8JkFZK0lBuTwFQWdjB0Fhpz5BeYU/QVZqL0HE0DNBZ8wcQefXH0HCZEVBWVwMQc6dQEGuqklBVYYVQZfLGEE=\",\"dtype\":\"float32\",\"order\":\"little\",\"shape\":[50]}},\"selected\":{\"id\":\"2940\"},\"selection_policy\":{\"id\":\"2941\"}},\"id\":\"2771\",\"type\":\"ColumnDataSource\"},{\"attributes\":{\"data_source\":{\"id\":\"2771\"},\"glyph\":{\"id\":\"2806\"},\"hover_glyph\":null,\"muted_glyph\":null,\"nonselection_glyph\":{\"id\":\"2807\"},\"view\":{\"id\":\"2809\"}},\"id\":\"2808\",\"type\":\"GlyphRenderer\"},{\"attributes\":{},\"id\":\"2786\",\"type\":\"BasicTicker\"},{\"attributes\":{},\"id\":\"2793\",\"type\":\"ResetTool\"},{\"attributes\":{\"active_multi\":null,\"tools\":[{\"id\":\"2789\"},{\"id\":\"2790\"},{\"id\":\"2791\"},{\"id\":\"2792\"},{\"id\":\"2793\"},{\"id\":\"2794\"},{\"id\":\"2796\"}]},\"id\":\"2797\",\"type\":\"Toolbar\"},{\"attributes\":{\"overlay\":{\"id\":\"2795\"}},\"id\":\"2791\",\"type\":\"BoxZoomTool\"},{\"attributes\":{\"axis\":{\"id\":\"2785\"},\"dimension\":1,\"ticker\":null,\"visible\":false},\"id\":\"2788\",\"type\":\"Grid\"},{\"attributes\":{},\"id\":\"2792\",\"type\":\"SaveTool\"},{\"attributes\":{},\"id\":\"2777\",\"type\":\"LinearScale\"},{\"attributes\":{\"fill_alpha\":{\"field\":\"alpha\"},\"fill_color\":{\"field\":\"color\"},\"line_alpha\":{\"field\":\"alpha\"},\"line_color\":{\"field\":\"color\"},\"size\":{\"value\":14.14213562373095},\"x\":{\"field\":\"x\"},\"y\":{\"field\":\"y\"}},\"id\":\"2806\",\"type\":\"Circle\"},{\"attributes\":{\"formatter\":{\"id\":\"2937\"},\"major_label_policy\":{\"id\":\"2938\"},\"ticker\":{\"id\":\"2786\"},\"visible\":false},\"id\":\"2785\",\"type\":\"LinearAxis\"},{\"attributes\":{},\"id\":\"2790\",\"type\":\"WheelZoomTool\"},{\"attributes\":{},\"id\":\"2779\",\"type\":\"LinearScale\"},{\"attributes\":{},\"id\":\"2937\",\"type\":\"BasicTickFormatter\"},{\"attributes\":{},\"id\":\"2934\",\"type\":\"BasicTickFormatter\"},{\"attributes\":{\"source\":{\"id\":\"2771\"}},\"id\":\"2809\",\"type\":\"CDSView\"},{\"attributes\":{\"axis\":{\"id\":\"2781\"},\"ticker\":null,\"visible\":false},\"id\":\"2784\",\"type\":\"Grid\"},{\"attributes\":{},\"id\":\"2940\",\"type\":\"Selection\"},{\"attributes\":{},\"id\":\"2931\",\"type\":\"Title\"},{\"attributes\":{},\"id\":\"2935\",\"type\":\"AllLabels\"},{\"attributes\":{\"fill_alpha\":{\"value\":0.1},\"fill_color\":{\"field\":\"color\"},\"line_alpha\":{\"value\":0.1},\"line_color\":{\"field\":\"color\"},\"size\":{\"value\":14.14213562373095},\"x\":{\"field\":\"x\"},\"y\":{\"field\":\"y\"}},\"id\":\"2807\",\"type\":\"Circle\"},{\"attributes\":{},\"id\":\"2789\",\"type\":\"PanTool\"},{\"attributes\":{\"bottom_units\":\"screen\",\"fill_alpha\":0.5,\"fill_color\":\"lightgrey\",\"left_units\":\"screen\",\"level\":\"overlay\",\"line_alpha\":1.0,\"line_color\":\"black\",\"line_dash\":[4,4],\"line_width\":2,\"right_units\":\"screen\",\"syncable\":false,\"top_units\":\"screen\"},\"id\":\"2795\",\"type\":\"BoxAnnotation\"},{\"attributes\":{},\"id\":\"2794\",\"type\":\"HelpTool\"},{\"attributes\":{},\"id\":\"2775\",\"type\":\"DataRange1d\"},{\"attributes\":{},\"id\":\"2938\",\"type\":\"AllLabels\"},{\"attributes\":{},\"id\":\"2941\",\"type\":\"UnionRenderers\"},{\"attributes\":{},\"id\":\"2782\",\"type\":\"BasicTicker\"},{\"attributes\":{\"formatter\":{\"id\":\"2934\"},\"major_label_policy\":{\"id\":\"2935\"},\"ticker\":{\"id\":\"2782\"},\"visible\":false},\"id\":\"2781\",\"type\":\"LinearAxis\"},{\"attributes\":{\"callback\":null,\"tooltips\":[[\"index\",\"@{index}\"],[\"label\",\"@{label}\"],[\"kmeans\",\"@{kmeans}\"],[\"prediction\",\"@{prediction}\"]]},\"id\":\"2796\",\"type\":\"HoverTool\"},{\"attributes\":{},\"id\":\"2773\",\"type\":\"DataRange1d\"}],\"root_ids\":[\"2772\"]},\"title\":\"Bokeh Application\",\"version\":\"2.3.0\"}};\n",
       "  var render_items = [{\"docid\":\"7226455b-44d2-471a-81d1-aa91de5c321a\",\"root_ids\":[\"2772\"],\"roots\":{\"2772\":\"ac172b80-1823-4c16-9880-49be44ad7d35\"}}];\n",
       "  root.Bokeh.embed.embed_items_notebook(docs_json, render_items);\n",
       "\n",
       "  }\n",
       "  if (root.Bokeh !== undefined) {\n",
       "    embed_document(root);\n",
       "  } else {\n",
       "    var attempts = 0;\n",
       "    var timer = setInterval(function(root) {\n",
       "      if (root.Bokeh !== undefined) {\n",
       "        clearInterval(timer);\n",
       "        embed_document(root);\n",
       "      } else {\n",
       "        attempts++;\n",
       "        if (attempts > 100) {\n",
       "          clearInterval(timer);\n",
       "          console.log(\"Bokeh: ERROR: Unable to run BokehJS code because BokehJS library is missing\");\n",
       "        }\n",
       "      }\n",
       "    }, 10, root)\n",
       "  }\n",
       "})(window);"
      ],
      "application/vnd.bokehjs_exec.v0+json": ""
     },
     "metadata": {
      "application/vnd.bokehjs_exec.v0+json": {
       "id": "2772"
      }
     },
     "output_type": "display_data"
    }
   ],
   "source": [
    "# UMAP\n",
    "\n",
    "import umap.umap_\n",
    "import umap.plot\n",
    "\n",
    "umap.plot.output_notebook()\n",
    "hover_data = pd.DataFrame({'index':np.arange(len(x_test)),\n",
    "                           'label':y_test_origin,\n",
    "                           'kmeans': y_kmeans,\n",
    "                           'prediction': new_r}\n",
    "                         )\n",
    "m = 0\n",
    "for hd in hidden_layers:    \n",
    "    mapper = umap.umap_.UMAP().fit(hd)\n",
    "    #umap.plot.points(mapper, labels=y_test_origin)\n",
    "    p = umap.plot.interactive(mapper, labels=y_kmeans, hover_data=hover_data)\n",
    "    umap.plot.show(p)\n",
    "\n"
   ]
  },
  {
   "cell_type": "code",
   "execution_count": null,
   "id": "wired-timing",
   "metadata": {},
   "outputs": [],
   "source": [
    "type(m)"
   ]
  }
 ],
 "metadata": {
  "kernelspec": {
   "display_name": "Python 3",
   "language": "python",
   "name": "python3"
  },
  "language_info": {
   "codemirror_mode": {
    "name": "ipython",
    "version": 3
   },
   "file_extension": ".py",
   "mimetype": "text/x-python",
   "name": "python",
   "nbconvert_exporter": "python",
   "pygments_lexer": "ipython3",
   "version": "3.8.5"
  }
 },
 "nbformat": 4,
 "nbformat_minor": 5
}
