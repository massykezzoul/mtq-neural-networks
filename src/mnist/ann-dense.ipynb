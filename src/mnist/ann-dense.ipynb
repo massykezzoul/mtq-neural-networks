{
 "cells": [
  {
   "cell_type": "markdown",
   "id": "lightweight-contest",
   "metadata": {},
   "source": [
    "# Première classification\n",
    "\n",
    "Dans ce notebook, on essaie d'identifier quelques clusters sur les données par les couches cachées du réseau de neurones."
   ]
  },
  {
   "cell_type": "code",
   "execution_count": 50,
   "id": "presidential-fault",
   "metadata": {},
   "outputs": [],
   "source": [
    "import numpy as np\n",
    "import sys\n",
    "from tensorflow import keras\n",
    "from sklearn.metrics import accuracy_score,adjusted_rand_score,adjusted_mutual_info_score\n",
    "\n",
    "# our functions\n",
    "from tools import buildmodel as mtq\n",
    "import mnist\n",
    "\n",
    "# Clustering\n",
    "import pandas as pd\n",
    "import matplotlib.pyplot as plt\n",
    "from sklearn.cluster import KMeans"
   ]
  },
  {
   "cell_type": "markdown",
   "id": "ceramic-projector",
   "metadata": {},
   "source": [
    "## Prétraitement\n",
    "\n",
    "On commence d'abord par télecharger les données de [MNIST](https://fr.wikipedia.org/wiki/Base_de_donn%C3%A9es_MNIST).\n",
    "Cette base regroupe 60000 images d'apprentissage et 10000 images de test, issues d'une base de données antérieure, appelée simplement NIST. Ce sont des images en noir et blanc, normalisées centrées de 28 pixels de côté, contenant des chiffres écrits à la main de `0` à `9`.\n",
    "\n",
    "On ne garde que les `n` images représentant chaqu'un chiffres inclus dans `keep`."
   ]
  },
  {
   "cell_type": "code",
   "execution_count": 3,
   "id": "fifty-absence",
   "metadata": {},
   "outputs": [],
   "source": [
    "keep=[1,7]\n",
    "n=100"
   ]
  },
  {
   "cell_type": "markdown",
   "id": "encouraging-james",
   "metadata": {},
   "source": [
    "Puis on procèdent à la normalisation de ces données afin d'optimiser le processus d'entraînement."
   ]
  },
  {
   "cell_type": "code",
   "execution_count": 4,
   "id": "naval-syndicate",
   "metadata": {},
   "outputs": [
    {
     "name": "stdout",
     "output_type": "stream",
     "text": [
      "size of the train dataset :  200\n",
      "size of the test dataset :  200\n"
     ]
    }
   ],
   "source": [
    "(x_train , y_train) , (x_test, y_test) = keras.datasets.mnist.load_data(path='all_mnist.npz')\n",
    "\n",
    "x_train, y_train = mnist.cut_data(x_train, y_train, keep=keep,n=n)\n",
    "x_test, y_test = mnist.cut_data(x_test,y_test, keep=keep, n=n)\n",
    "\n",
    "y_train_origin = y_train\n",
    "y_test_origin = y_test\n",
    "\n",
    "x_train, y_train = mnist.normalize_dataset(x_train, y_train)\n",
    "x_test, y_test = mnist.normalize_dataset(x_test, y_test)\n",
    "\n",
    "print(\"size of the train dataset : \", len(x_train))\n",
    "print(\"size of the test dataset : \", len(x_test))"
   ]
  },
  {
   "cell_type": "markdown",
   "id": "champion-reasoning",
   "metadata": {},
   "source": [
    "## Construction du modèle\n",
    "\n",
    "Une fois le prétraitement fait, on procède à la construction du modèle.\n",
    "On donne au modèle un nom `model_name` pour qu'on puisse le réutiliser plus tard si besoin.\n",
    "\n",
    "[MTQModel](./tools/buildmodel.py) est une classe définie par nous-même afin de faciliter la construction et le paramétrage des modèles."
   ]
  },
  {
   "cell_type": "code",
   "execution_count": 5,
   "id": "thermal-marriage",
   "metadata": {},
   "outputs": [],
   "source": [
    "model_name = \"./trained_model_2_16\"\n",
    "model = mtq.MTQModel(model_name)"
   ]
  },
  {
   "cell_type": "markdown",
   "id": "operating-motivation",
   "metadata": {},
   "source": [
    "`MTQModel.build_dense()` est la méthode qui construit un modèle avec des couches Denses.\n",
    "\n",
    "Liste des paramètres:\n",
    "\n",
    "- `input_shape`: Nombre de neurones de la couche d'entrée, dans notre cas : 28 * 28 = 784\n",
    "- `n_neurons`: Le nombre de neurones pour chaque couche. Le dernier élément de la liste correspond à la couche de sortie qui doit correspondre au nombre de Label dans `y_train`\n",
    "- `load`: Si `True` alors charge le modèle. `model_name` doit être spécifié. sinon construit le modèle."
   ]
  },
  {
   "cell_type": "code",
   "execution_count": 6,
   "id": "celtic-republican",
   "metadata": {},
   "outputs": [
    {
     "name": "stdout",
     "output_type": "stream",
     "text": [
      "- input_shape:  (784,)\n",
      "- n_neurons:  [32, 64, 8]\n",
      "- load:  True\n"
     ]
    }
   ],
   "source": [
    "input_shape = x_train[0].shape\n",
    "n_neurons=[32, 64, len(y_train[0])]\n",
    "load=True # Construit le modèle\n",
    "\n",
    "print('- input_shape: ', input_shape)\n",
    "print('- n_neurons: ', n_neurons)\n",
    "print('- load: ', load)\n",
    "\n",
    "model.build_dense(input_shape=x_train[0].shape, n_neurons=[32,64, len(y_train[0])], load=load, summary=True)"
   ]
  },
  {
   "cell_type": "markdown",
   "id": "another-specialist",
   "metadata": {},
   "source": [
    "Une fois le modèle construit, on procède à son entaînement. Pour cela on appelle la méthode `fit(x,y)`"
   ]
  },
  {
   "cell_type": "code",
   "execution_count": 7,
   "id": "precious-petroleum",
   "metadata": {
    "scrolled": true
   },
   "outputs": [],
   "source": [
    "if not load:\n",
    "    model.fit(x_train,y_train,epochs=5)"
   ]
  },
  {
   "cell_type": "markdown",
   "id": "ethical-squad",
   "metadata": {},
   "source": [
    "On procédé à son évaluation grâce à la méthode `evaluate(x,y)`"
   ]
  },
  {
   "cell_type": "code",
   "execution_count": 20,
   "id": "alike-price",
   "metadata": {},
   "outputs": [
    {
     "name": "stdout",
     "output_type": "stream",
     "text": [
      "loss = 0.07778045535087585 , accuracy = 0.9300000071525574\n"
     ]
    }
   ],
   "source": [
    "loss, acc = model.evaluate(x_test, y_test)\n",
    "print(\"loss =\", loss, \", accuracy =\",acc)"
   ]
  },
  {
   "cell_type": "code",
   "execution_count": 21,
   "id": "peaceful-passing",
   "metadata": {},
   "outputs": [],
   "source": [
    "result = model.predict(x_test)\n",
    "\n",
    "new_r = []\n",
    "for r in result:\n",
    "    new_r.append(np.argmax(r))"
   ]
  },
  {
   "cell_type": "markdown",
   "id": "superb-looking",
   "metadata": {},
   "source": [
    "## Extraction des fonctions d’activations\n",
    "\n",
    "Pour cela on fait appelle à la méthode `get_hidden_layers_outputs(x)` qui prend en paramètre un `x`qui représente une liste de données (dans notre cas une liste d'images normalisées). Cette méthode retourne une liste d'éléments tels que chaqu'un représente une liste des sorties d'une couche de neurones.\n",
    "\n",
    "Soit `hd` la sortie retourner par la méthode, alors `hd[i][j][k]` correspond à la sortie donnée par le `k-ième` neurones de la `i-ème` couches étant donné la `j-ème` image de `x`."
   ]
  },
  {
   "cell_type": "code",
   "execution_count": 9,
   "id": "abstract-watershed",
   "metadata": {},
   "outputs": [
    {
     "name": "stdout",
     "output_type": "stream",
     "text": [
      "La taille de `hidden_layers` correspond au nombre de couches cachées: 2\n",
      "\n",
      "La taille de `une_couche` correspond au nombre d'élément dans `x_test`: 200\n",
      "\n",
      "La taille de `une_couche_un_x` correspond donc bien au nombre de neurones dans cette couches: 32\n"
     ]
    }
   ],
   "source": [
    "hidden_layers = model.get_hidden_layers_outputs(x_test)\n",
    "print(\"La taille de `hidden_layers` correspond au nombre de couches cachées:\", len(hidden_layers))\n",
    "\n",
    "une_couche = hidden_layers[0]\n",
    "print(\"\\nLa taille de `une_couche` correspond au nombre d'élément dans `x_test`:\", len(une_couche))\n",
    "\n",
    "une_couche_un_x = une_couche[0]\n",
    "print(\"\\nLa taille de `une_couche_un_x` correspond donc bien au nombre de neurones dans cette couches:\", len(une_couche_un_x))"
   ]
  },
  {
   "cell_type": "code",
   "execution_count": 15,
   "id": "annoying-sensitivity",
   "metadata": {},
   "outputs": [
    {
     "name": "stdout",
     "output_type": "stream",
     "text": [
      "+ Descriptive analysis for the layer:  1\n",
      "+ Measures of Central Tendency\n",
      "Mean = 0.21852256\n",
      "Median = 0.02446067\n",
      "+ Measures of Dispersion\n",
      "Minimum = 0.0\n",
      "Maximum = 1.9040908\n",
      "Varience = 0.094100714\n",
      "Standard Deviation = 0.3067584\n",
      "\n",
      "\n",
      "+ Descriptive analysis for the layer:  2\n",
      "+ Measures of Central Tendency\n",
      "Mean = 0.12963307\n",
      "Median = 0.0\n",
      "+ Measures of Dispersion\n",
      "Minimum = 0.0\n",
      "Maximum = 1.4415239\n",
      "Varience = 0.043623433\n",
      "Standard Deviation = 0.20886223\n",
      "\n",
      "\n"
     ]
    }
   ],
   "source": [
    "def describe(arr):\n",
    "    print(\"+ Measures of Central Tendency\") \n",
    "    print(\"Mean =\", np.mean(arr)) \n",
    "    print(\"Median =\", np.median(arr)) \n",
    "    print(\"+ Measures of Dispersion\") \n",
    "    print(\"Minimum =\", np.amin(arr)) \n",
    "    print(\"Maximum =\", np.amax(arr))\n",
    "    print(\"Varience =\", np.var(arr)) \n",
    "    print(\"Standard Deviation =\", np.std(arr)) \n",
    "    print(\"\\n\")\n",
    "\n",
    "for idx,arr in enumerate(hidden_layers):\n",
    "    print(\"+ Descriptive analysis for the layer: \", idx+1) \n",
    "    describe(arr[:])"
   ]
  },
  {
   "cell_type": "code",
   "execution_count": 18,
   "id": "ambient-equipment",
   "metadata": {},
   "outputs": [
    {
     "name": "stdout",
     "output_type": "stream",
     "text": [
      "+ Descriptive analysis for the layer:  1\n",
      "+ Measures of Central Tendency\n",
      "Mean = -4.440892098500626e-18\n",
      "Median = -0.16984497878513022\n",
      "+ Measures of Dispersion\n",
      "Minimum = -1.9360613695770825\n",
      "Maximum = 12.015541055486425\n",
      "Varience = 0.9687500000000003\n",
      "Standard Deviation = 0.9842509842514765\n",
      "\n",
      "\n",
      "+ Descriptive analysis for the layer:  2\n",
      "+ Measures of Central Tendency\n",
      "Mean = 4.440892098500626e-18\n",
      "Median = -0.29989321688417\n",
      "+ Measures of Dispersion\n",
      "Minimum = -2.458696512725207\n",
      "Maximum = 14.106735979665881\n",
      "Varience = 0.953125\n",
      "Standard Deviation = 0.9762812094883317\n",
      "\n",
      "\n"
     ]
    }
   ],
   "source": [
    "from sklearn.preprocessing import StandardScaler\n",
    "# Standardization \n",
    "scale_hd = []\n",
    "for i in range(len(hidden_layers)):\n",
    "    scale_hd.append(StandardScaler().fit_transform(hidden_layers[i]))\n",
    "\n",
    "for idx,arr in enumerate(scale_hd):\n",
    "    print(\"+ Descriptive analysis for the layer: \", idx+1) \n",
    "    describe(arr[:]) \n",
    "    "
   ]
  },
  {
   "cell_type": "code",
   "execution_count": 77,
   "id": "republican-perception",
   "metadata": {},
   "outputs": [],
   "source": [
    "# Clustering with KMeans\n",
    "y_kmeans = []\n",
    "k = 3\n",
    "for hd in hidden_layers:\n",
    "    y_kmeans.append(KMeans(k,n_init=100,random_state=24).fit_predict(hd))"
   ]
  },
  {
   "cell_type": "code",
   "execution_count": 78,
   "id": "unlimited-quest",
   "metadata": {},
   "outputs": [
    {
     "data": {
      "text/plain": [
       "array([0, 1, 2], dtype=int32)"
      ]
     },
     "execution_count": 78,
     "metadata": {},
     "output_type": "execute_result"
    }
   ],
   "source": [
    "np.unique(y_kmeans[0])"
   ]
  },
  {
   "cell_type": "code",
   "execution_count": 79,
   "id": "cordless-albuquerque",
   "metadata": {},
   "outputs": [
    {
     "data": {
      "text/html": [
       "\n",
       "    <div class=\"bk-root\">\n",
       "        <a href=\"https://bokeh.org\" target=\"_blank\" class=\"bk-logo bk-logo-small bk-logo-notebook\"></a>\n",
       "        <span id=\"4610\">Loading BokehJS ...</span>\n",
       "    </div>"
      ]
     },
     "metadata": {},
     "output_type": "display_data"
    },
    {
     "data": {
      "application/javascript": [
       "\n",
       "(function(root) {\n",
       "  function now() {\n",
       "    return new Date();\n",
       "  }\n",
       "\n",
       "  var force = true;\n",
       "\n",
       "  if (typeof root._bokeh_onload_callbacks === \"undefined\" || force === true) {\n",
       "    root._bokeh_onload_callbacks = [];\n",
       "    root._bokeh_is_loading = undefined;\n",
       "  }\n",
       "\n",
       "  var JS_MIME_TYPE = 'application/javascript';\n",
       "  var HTML_MIME_TYPE = 'text/html';\n",
       "  var EXEC_MIME_TYPE = 'application/vnd.bokehjs_exec.v0+json';\n",
       "  var CLASS_NAME = 'output_bokeh rendered_html';\n",
       "\n",
       "  /**\n",
       "   * Render data to the DOM node\n",
       "   */\n",
       "  function render(props, node) {\n",
       "    var script = document.createElement(\"script\");\n",
       "    node.appendChild(script);\n",
       "  }\n",
       "\n",
       "  /**\n",
       "   * Handle when an output is cleared or removed\n",
       "   */\n",
       "  function handleClearOutput(event, handle) {\n",
       "    var cell = handle.cell;\n",
       "\n",
       "    var id = cell.output_area._bokeh_element_id;\n",
       "    var server_id = cell.output_area._bokeh_server_id;\n",
       "    // Clean up Bokeh references\n",
       "    if (id != null && id in Bokeh.index) {\n",
       "      Bokeh.index[id].model.document.clear();\n",
       "      delete Bokeh.index[id];\n",
       "    }\n",
       "\n",
       "    if (server_id !== undefined) {\n",
       "      // Clean up Bokeh references\n",
       "      var cmd = \"from bokeh.io.state import curstate; print(curstate().uuid_to_server['\" + server_id + \"'].get_sessions()[0].document.roots[0]._id)\";\n",
       "      cell.notebook.kernel.execute(cmd, {\n",
       "        iopub: {\n",
       "          output: function(msg) {\n",
       "            var id = msg.content.text.trim();\n",
       "            if (id in Bokeh.index) {\n",
       "              Bokeh.index[id].model.document.clear();\n",
       "              delete Bokeh.index[id];\n",
       "            }\n",
       "          }\n",
       "        }\n",
       "      });\n",
       "      // Destroy server and session\n",
       "      var cmd = \"import bokeh.io.notebook as ion; ion.destroy_server('\" + server_id + \"')\";\n",
       "      cell.notebook.kernel.execute(cmd);\n",
       "    }\n",
       "  }\n",
       "\n",
       "  /**\n",
       "   * Handle when a new output is added\n",
       "   */\n",
       "  function handleAddOutput(event, handle) {\n",
       "    var output_area = handle.output_area;\n",
       "    var output = handle.output;\n",
       "\n",
       "    // limit handleAddOutput to display_data with EXEC_MIME_TYPE content only\n",
       "    if ((output.output_type != \"display_data\") || (!Object.prototype.hasOwnProperty.call(output.data, EXEC_MIME_TYPE))) {\n",
       "      return\n",
       "    }\n",
       "\n",
       "    var toinsert = output_area.element.find(\".\" + CLASS_NAME.split(' ')[0]);\n",
       "\n",
       "    if (output.metadata[EXEC_MIME_TYPE][\"id\"] !== undefined) {\n",
       "      toinsert[toinsert.length - 1].firstChild.textContent = output.data[JS_MIME_TYPE];\n",
       "      // store reference to embed id on output_area\n",
       "      output_area._bokeh_element_id = output.metadata[EXEC_MIME_TYPE][\"id\"];\n",
       "    }\n",
       "    if (output.metadata[EXEC_MIME_TYPE][\"server_id\"] !== undefined) {\n",
       "      var bk_div = document.createElement(\"div\");\n",
       "      bk_div.innerHTML = output.data[HTML_MIME_TYPE];\n",
       "      var script_attrs = bk_div.children[0].attributes;\n",
       "      for (var i = 0; i < script_attrs.length; i++) {\n",
       "        toinsert[toinsert.length - 1].firstChild.setAttribute(script_attrs[i].name, script_attrs[i].value);\n",
       "        toinsert[toinsert.length - 1].firstChild.textContent = bk_div.children[0].textContent\n",
       "      }\n",
       "      // store reference to server id on output_area\n",
       "      output_area._bokeh_server_id = output.metadata[EXEC_MIME_TYPE][\"server_id\"];\n",
       "    }\n",
       "  }\n",
       "\n",
       "  function register_renderer(events, OutputArea) {\n",
       "\n",
       "    function append_mime(data, metadata, element) {\n",
       "      // create a DOM node to render to\n",
       "      var toinsert = this.create_output_subarea(\n",
       "        metadata,\n",
       "        CLASS_NAME,\n",
       "        EXEC_MIME_TYPE\n",
       "      );\n",
       "      this.keyboard_manager.register_events(toinsert);\n",
       "      // Render to node\n",
       "      var props = {data: data, metadata: metadata[EXEC_MIME_TYPE]};\n",
       "      render(props, toinsert[toinsert.length - 1]);\n",
       "      element.append(toinsert);\n",
       "      return toinsert\n",
       "    }\n",
       "\n",
       "    /* Handle when an output is cleared or removed */\n",
       "    events.on('clear_output.CodeCell', handleClearOutput);\n",
       "    events.on('delete.Cell', handleClearOutput);\n",
       "\n",
       "    /* Handle when a new output is added */\n",
       "    events.on('output_added.OutputArea', handleAddOutput);\n",
       "\n",
       "    /**\n",
       "     * Register the mime type and append_mime function with output_area\n",
       "     */\n",
       "    OutputArea.prototype.register_mime_type(EXEC_MIME_TYPE, append_mime, {\n",
       "      /* Is output safe? */\n",
       "      safe: true,\n",
       "      /* Index of renderer in `output_area.display_order` */\n",
       "      index: 0\n",
       "    });\n",
       "  }\n",
       "\n",
       "  // register the mime type if in Jupyter Notebook environment and previously unregistered\n",
       "  if (root.Jupyter !== undefined) {\n",
       "    var events = require('base/js/events');\n",
       "    var OutputArea = require('notebook/js/outputarea').OutputArea;\n",
       "\n",
       "    if (OutputArea.prototype.mime_types().indexOf(EXEC_MIME_TYPE) == -1) {\n",
       "      register_renderer(events, OutputArea);\n",
       "    }\n",
       "  }\n",
       "\n",
       "  \n",
       "  if (typeof (root._bokeh_timeout) === \"undefined\" || force === true) {\n",
       "    root._bokeh_timeout = Date.now() + 5000;\n",
       "    root._bokeh_failed_load = false;\n",
       "  }\n",
       "\n",
       "  var NB_LOAD_WARNING = {'data': {'text/html':\n",
       "     \"<div style='background-color: #fdd'>\\n\"+\n",
       "     \"<p>\\n\"+\n",
       "     \"BokehJS does not appear to have successfully loaded. If loading BokehJS from CDN, this \\n\"+\n",
       "     \"may be due to a slow or bad network connection. Possible fixes:\\n\"+\n",
       "     \"</p>\\n\"+\n",
       "     \"<ul>\\n\"+\n",
       "     \"<li>re-rerun `output_notebook()` to attempt to load from CDN again, or</li>\\n\"+\n",
       "     \"<li>use INLINE resources instead, as so:</li>\\n\"+\n",
       "     \"</ul>\\n\"+\n",
       "     \"<code>\\n\"+\n",
       "     \"from bokeh.resources import INLINE\\n\"+\n",
       "     \"output_notebook(resources=INLINE)\\n\"+\n",
       "     \"</code>\\n\"+\n",
       "     \"</div>\"}};\n",
       "\n",
       "  function display_loaded() {\n",
       "    var el = document.getElementById(\"4610\");\n",
       "    if (el != null) {\n",
       "      el.textContent = \"BokehJS is loading...\";\n",
       "    }\n",
       "    if (root.Bokeh !== undefined) {\n",
       "      if (el != null) {\n",
       "        el.textContent = \"BokehJS \" + root.Bokeh.version + \" successfully loaded.\";\n",
       "      }\n",
       "    } else if (Date.now() < root._bokeh_timeout) {\n",
       "      setTimeout(display_loaded, 100)\n",
       "    }\n",
       "  }\n",
       "\n",
       "\n",
       "  function run_callbacks() {\n",
       "    try {\n",
       "      root._bokeh_onload_callbacks.forEach(function(callback) {\n",
       "        if (callback != null)\n",
       "          callback();\n",
       "      });\n",
       "    } finally {\n",
       "      delete root._bokeh_onload_callbacks\n",
       "    }\n",
       "    console.debug(\"Bokeh: all callbacks have finished\");\n",
       "  }\n",
       "\n",
       "  function load_libs(css_urls, js_urls, callback) {\n",
       "    if (css_urls == null) css_urls = [];\n",
       "    if (js_urls == null) js_urls = [];\n",
       "\n",
       "    root._bokeh_onload_callbacks.push(callback);\n",
       "    if (root._bokeh_is_loading > 0) {\n",
       "      console.debug(\"Bokeh: BokehJS is being loaded, scheduling callback at\", now());\n",
       "      return null;\n",
       "    }\n",
       "    if (js_urls == null || js_urls.length === 0) {\n",
       "      run_callbacks();\n",
       "      return null;\n",
       "    }\n",
       "    console.debug(\"Bokeh: BokehJS not loaded, scheduling load and callback at\", now());\n",
       "    root._bokeh_is_loading = css_urls.length + js_urls.length;\n",
       "\n",
       "    function on_load() {\n",
       "      root._bokeh_is_loading--;\n",
       "      if (root._bokeh_is_loading === 0) {\n",
       "        console.debug(\"Bokeh: all BokehJS libraries/stylesheets loaded\");\n",
       "        run_callbacks()\n",
       "      }\n",
       "    }\n",
       "\n",
       "    function on_error(url) {\n",
       "      console.error(\"failed to load \" + url);\n",
       "    }\n",
       "\n",
       "    for (let i = 0; i < css_urls.length; i++) {\n",
       "      const url = css_urls[i];\n",
       "      const element = document.createElement(\"link\");\n",
       "      element.onload = on_load;\n",
       "      element.onerror = on_error.bind(null, url);\n",
       "      element.rel = \"stylesheet\";\n",
       "      element.type = \"text/css\";\n",
       "      element.href = url;\n",
       "      console.debug(\"Bokeh: injecting link tag for BokehJS stylesheet: \", url);\n",
       "      document.body.appendChild(element);\n",
       "    }\n",
       "\n",
       "    const hashes = {\"https://cdn.bokeh.org/bokeh/release/bokeh-2.3.0.min.js\": \"HjagQp6T0/7bxYTAXbLotF1MLAGWmhkY5siA1Gc/pcEgvgRPtMsRn0gQtMwGKiw1\", \"https://cdn.bokeh.org/bokeh/release/bokeh-widgets-2.3.0.min.js\": \"ZEPPTjL+mdyqgIq+/pl9KTwzji8Kow2NnI3zWY8+sFinWP/SYJ80BnfeJsa45iYj\", \"https://cdn.bokeh.org/bokeh/release/bokeh-tables-2.3.0.min.js\": \"exLqv2ACDRIaV7ZK1iL8aGzGYQvKVuT3U2CT7FsQREBxRah6JrkVCoFy0koY1YqV\"};\n",
       "\n",
       "    for (let i = 0; i < js_urls.length; i++) {\n",
       "      const url = js_urls[i];\n",
       "      const element = document.createElement('script');\n",
       "      element.onload = on_load;\n",
       "      element.onerror = on_error.bind(null, url);\n",
       "      element.async = false;\n",
       "      element.src = url;\n",
       "      if (url in hashes) {\n",
       "        element.crossOrigin = \"anonymous\";\n",
       "        element.integrity = \"sha384-\" + hashes[url];\n",
       "      }\n",
       "      console.debug(\"Bokeh: injecting script tag for BokehJS library: \", url);\n",
       "      document.head.appendChild(element);\n",
       "    }\n",
       "  };\n",
       "\n",
       "  function inject_raw_css(css) {\n",
       "    const element = document.createElement(\"style\");\n",
       "    element.appendChild(document.createTextNode(css));\n",
       "    document.body.appendChild(element);\n",
       "  }\n",
       "\n",
       "  \n",
       "  var js_urls = [\"https://cdn.bokeh.org/bokeh/release/bokeh-2.3.0.min.js\", \"https://cdn.bokeh.org/bokeh/release/bokeh-widgets-2.3.0.min.js\", \"https://cdn.bokeh.org/bokeh/release/bokeh-tables-2.3.0.min.js\", \"https://unpkg.com/@holoviz/panel@^0.10.3/dist/panel.min.js\"];\n",
       "  var css_urls = [\"http://localhost:5006/static/extensions/panel/css/widgets.css\", \"http://localhost:5006/static/extensions/panel/css/dataframe.css\", \"http://localhost:5006/static/extensions/panel/css/card.css\", \"http://localhost:5006/static/extensions/panel/css/json.css\", \"http://localhost:5006/static/extensions/panel/css/alerts.css\", \"http://localhost:5006/static/extensions/panel/css/markdown.css\"];\n",
       "  \n",
       "\n",
       "  var inline_js = [\n",
       "    function(Bokeh) {\n",
       "      Bokeh.set_log_level(\"info\");\n",
       "    },\n",
       "    function(Bokeh) {\n",
       "    \n",
       "    \n",
       "    }\n",
       "  ];\n",
       "\n",
       "  function run_inline_js() {\n",
       "    \n",
       "    if (root.Bokeh !== undefined || force === true) {\n",
       "      \n",
       "    for (var i = 0; i < inline_js.length; i++) {\n",
       "      inline_js[i].call(root, root.Bokeh);\n",
       "    }\n",
       "    if (force === true) {\n",
       "        display_loaded();\n",
       "      }} else if (Date.now() < root._bokeh_timeout) {\n",
       "      setTimeout(run_inline_js, 100);\n",
       "    } else if (!root._bokeh_failed_load) {\n",
       "      console.log(\"Bokeh: BokehJS failed to load within specified timeout.\");\n",
       "      root._bokeh_failed_load = true;\n",
       "    } else if (force !== true) {\n",
       "      var cell = $(document.getElementById(\"4610\")).parents('.cell').data().cell;\n",
       "      cell.output_area.append_execute_result(NB_LOAD_WARNING)\n",
       "    }\n",
       "\n",
       "  }\n",
       "\n",
       "  if (root._bokeh_is_loading === 0) {\n",
       "    console.debug(\"Bokeh: BokehJS loaded, going straight to plotting\");\n",
       "    run_inline_js();\n",
       "  } else {\n",
       "    load_libs(css_urls, js_urls, function() {\n",
       "      console.debug(\"Bokeh: BokehJS plotting callback run at\", now());\n",
       "      run_inline_js();\n",
       "    });\n",
       "  }\n",
       "}(window));"
      ],
      "application/vnd.bokehjs_load.v0+json": "\n(function(root) {\n  function now() {\n    return new Date();\n  }\n\n  var force = true;\n\n  if (typeof root._bokeh_onload_callbacks === \"undefined\" || force === true) {\n    root._bokeh_onload_callbacks = [];\n    root._bokeh_is_loading = undefined;\n  }\n\n  \n\n  \n  if (typeof (root._bokeh_timeout) === \"undefined\" || force === true) {\n    root._bokeh_timeout = Date.now() + 5000;\n    root._bokeh_failed_load = false;\n  }\n\n  var NB_LOAD_WARNING = {'data': {'text/html':\n     \"<div style='background-color: #fdd'>\\n\"+\n     \"<p>\\n\"+\n     \"BokehJS does not appear to have successfully loaded. If loading BokehJS from CDN, this \\n\"+\n     \"may be due to a slow or bad network connection. Possible fixes:\\n\"+\n     \"</p>\\n\"+\n     \"<ul>\\n\"+\n     \"<li>re-rerun `output_notebook()` to attempt to load from CDN again, or</li>\\n\"+\n     \"<li>use INLINE resources instead, as so:</li>\\n\"+\n     \"</ul>\\n\"+\n     \"<code>\\n\"+\n     \"from bokeh.resources import INLINE\\n\"+\n     \"output_notebook(resources=INLINE)\\n\"+\n     \"</code>\\n\"+\n     \"</div>\"}};\n\n  function display_loaded() {\n    var el = document.getElementById(\"4610\");\n    if (el != null) {\n      el.textContent = \"BokehJS is loading...\";\n    }\n    if (root.Bokeh !== undefined) {\n      if (el != null) {\n        el.textContent = \"BokehJS \" + root.Bokeh.version + \" successfully loaded.\";\n      }\n    } else if (Date.now() < root._bokeh_timeout) {\n      setTimeout(display_loaded, 100)\n    }\n  }\n\n\n  function run_callbacks() {\n    try {\n      root._bokeh_onload_callbacks.forEach(function(callback) {\n        if (callback != null)\n          callback();\n      });\n    } finally {\n      delete root._bokeh_onload_callbacks\n    }\n    console.debug(\"Bokeh: all callbacks have finished\");\n  }\n\n  function load_libs(css_urls, js_urls, callback) {\n    if (css_urls == null) css_urls = [];\n    if (js_urls == null) js_urls = [];\n\n    root._bokeh_onload_callbacks.push(callback);\n    if (root._bokeh_is_loading > 0) {\n      console.debug(\"Bokeh: BokehJS is being loaded, scheduling callback at\", now());\n      return null;\n    }\n    if (js_urls == null || js_urls.length === 0) {\n      run_callbacks();\n      return null;\n    }\n    console.debug(\"Bokeh: BokehJS not loaded, scheduling load and callback at\", now());\n    root._bokeh_is_loading = css_urls.length + js_urls.length;\n\n    function on_load() {\n      root._bokeh_is_loading--;\n      if (root._bokeh_is_loading === 0) {\n        console.debug(\"Bokeh: all BokehJS libraries/stylesheets loaded\");\n        run_callbacks()\n      }\n    }\n\n    function on_error(url) {\n      console.error(\"failed to load \" + url);\n    }\n\n    for (let i = 0; i < css_urls.length; i++) {\n      const url = css_urls[i];\n      const element = document.createElement(\"link\");\n      element.onload = on_load;\n      element.onerror = on_error.bind(null, url);\n      element.rel = \"stylesheet\";\n      element.type = \"text/css\";\n      element.href = url;\n      console.debug(\"Bokeh: injecting link tag for BokehJS stylesheet: \", url);\n      document.body.appendChild(element);\n    }\n\n    const hashes = {\"https://cdn.bokeh.org/bokeh/release/bokeh-2.3.0.min.js\": \"HjagQp6T0/7bxYTAXbLotF1MLAGWmhkY5siA1Gc/pcEgvgRPtMsRn0gQtMwGKiw1\", \"https://cdn.bokeh.org/bokeh/release/bokeh-widgets-2.3.0.min.js\": \"ZEPPTjL+mdyqgIq+/pl9KTwzji8Kow2NnI3zWY8+sFinWP/SYJ80BnfeJsa45iYj\", \"https://cdn.bokeh.org/bokeh/release/bokeh-tables-2.3.0.min.js\": \"exLqv2ACDRIaV7ZK1iL8aGzGYQvKVuT3U2CT7FsQREBxRah6JrkVCoFy0koY1YqV\"};\n\n    for (let i = 0; i < js_urls.length; i++) {\n      const url = js_urls[i];\n      const element = document.createElement('script');\n      element.onload = on_load;\n      element.onerror = on_error.bind(null, url);\n      element.async = false;\n      element.src = url;\n      if (url in hashes) {\n        element.crossOrigin = \"anonymous\";\n        element.integrity = \"sha384-\" + hashes[url];\n      }\n      console.debug(\"Bokeh: injecting script tag for BokehJS library: \", url);\n      document.head.appendChild(element);\n    }\n  };\n\n  function inject_raw_css(css) {\n    const element = document.createElement(\"style\");\n    element.appendChild(document.createTextNode(css));\n    document.body.appendChild(element);\n  }\n\n  \n  var js_urls = [\"https://cdn.bokeh.org/bokeh/release/bokeh-2.3.0.min.js\", \"https://cdn.bokeh.org/bokeh/release/bokeh-widgets-2.3.0.min.js\", \"https://cdn.bokeh.org/bokeh/release/bokeh-tables-2.3.0.min.js\", \"https://unpkg.com/@holoviz/panel@^0.10.3/dist/panel.min.js\"];\n  var css_urls = [\"http://localhost:5006/static/extensions/panel/css/widgets.css\", \"http://localhost:5006/static/extensions/panel/css/dataframe.css\", \"http://localhost:5006/static/extensions/panel/css/card.css\", \"http://localhost:5006/static/extensions/panel/css/json.css\", \"http://localhost:5006/static/extensions/panel/css/alerts.css\", \"http://localhost:5006/static/extensions/panel/css/markdown.css\"];\n  \n\n  var inline_js = [\n    function(Bokeh) {\n      Bokeh.set_log_level(\"info\");\n    },\n    function(Bokeh) {\n    \n    \n    }\n  ];\n\n  function run_inline_js() {\n    \n    if (root.Bokeh !== undefined || force === true) {\n      \n    for (var i = 0; i < inline_js.length; i++) {\n      inline_js[i].call(root, root.Bokeh);\n    }\n    if (force === true) {\n        display_loaded();\n      }} else if (Date.now() < root._bokeh_timeout) {\n      setTimeout(run_inline_js, 100);\n    } else if (!root._bokeh_failed_load) {\n      console.log(\"Bokeh: BokehJS failed to load within specified timeout.\");\n      root._bokeh_failed_load = true;\n    } else if (force !== true) {\n      var cell = $(document.getElementById(\"4610\")).parents('.cell').data().cell;\n      cell.output_area.append_execute_result(NB_LOAD_WARNING)\n    }\n\n  }\n\n  if (root._bokeh_is_loading === 0) {\n    console.debug(\"Bokeh: BokehJS loaded, going straight to plotting\");\n    run_inline_js();\n  } else {\n    load_libs(css_urls, js_urls, function() {\n      console.debug(\"Bokeh: BokehJS plotting callback run at\", now());\n      run_inline_js();\n    });\n  }\n}(window));"
     },
     "metadata": {},
     "output_type": "display_data"
    },
    {
     "data": {
      "text/html": [
       "\n",
       "\n",
       "\n",
       "\n",
       "\n",
       "\n",
       "  <div class=\"bk-root\" id=\"6bf44272-e414-4908-993d-1072d089f988\" data-root-id=\"4612\"></div>\n"
      ]
     },
     "metadata": {},
     "output_type": "display_data"
    },
    {
     "data": {
      "application/javascript": [
       "(function(root) {\n",
       "  function embed_document(root) {\n",
       "    \n",
       "  var docs_json = {\"41801d38-fff6-4ecb-9a2d-e1ab493838a4\":{\"defs\":[{\"extends\":null,\"module\":null,\"name\":\"DataModel\",\"overrides\":[],\"properties\":[]}],\"roots\":{\"references\":[{\"attributes\":{\"background_fill_color\":\"white\",\"below\":[{\"id\":\"4621\"}],\"center\":[{\"id\":\"4624\"},{\"id\":\"4628\"}],\"height\":300,\"left\":[{\"id\":\"4625\"}],\"renderers\":[{\"id\":\"4648\"}],\"title\":{\"id\":\"4849\"},\"toolbar\":{\"id\":\"4637\"},\"width\":300,\"x_range\":{\"id\":\"4613\"},\"x_scale\":{\"id\":\"4617\"},\"y_range\":{\"id\":\"4615\"},\"y_scale\":{\"id\":\"4619\"}},\"id\":\"4612\",\"subtype\":\"Figure\",\"type\":\"Plot\"},{\"attributes\":{\"source\":{\"id\":\"4611\"}},\"id\":\"4649\",\"type\":\"CDSView\"},{\"attributes\":{},\"id\":\"4850\",\"type\":\"AllLabels\"},{\"attributes\":{},\"id\":\"4615\",\"type\":\"DataRange1d\"},{\"attributes\":{},\"id\":\"4634\",\"type\":\"HelpTool\"},{\"attributes\":{},\"id\":\"4857\",\"type\":\"UnionRenderers\"},{\"attributes\":{},\"id\":\"4617\",\"type\":\"LinearScale\"},{\"attributes\":{\"callback\":null,\"tooltips\":[[\"index\",\"@{index}\"],[\"label\",\"@{label}\"],[\"prediction\",\"@{prediction}\"],[\"kmeans\",\"@{kmeans}\"]]},\"id\":\"4636\",\"type\":\"HoverTool\"},{\"attributes\":{\"fill_alpha\":{\"value\":0.1},\"fill_color\":{\"field\":\"color\"},\"line_alpha\":{\"value\":0.1},\"line_color\":{\"field\":\"color\"},\"size\":{\"value\":7.071067811865475},\"x\":{\"field\":\"x\"},\"y\":{\"field\":\"y\"}},\"id\":\"4647\",\"type\":\"Circle\"},{\"attributes\":{},\"id\":\"4853\",\"type\":\"AllLabels\"},{\"attributes\":{},\"id\":\"4622\",\"type\":\"BasicTicker\"},{\"attributes\":{},\"id\":\"4613\",\"type\":\"DataRange1d\"},{\"attributes\":{},\"id\":\"4619\",\"type\":\"LinearScale\"},{\"attributes\":{},\"id\":\"4629\",\"type\":\"PanTool\"},{\"attributes\":{\"axis\":{\"id\":\"4625\"},\"dimension\":1,\"ticker\":null,\"visible\":false},\"id\":\"4628\",\"type\":\"Grid\"},{\"attributes\":{},\"id\":\"4851\",\"type\":\"BasicTickFormatter\"},{\"attributes\":{},\"id\":\"4632\",\"type\":\"SaveTool\"},{\"attributes\":{\"fill_alpha\":{\"field\":\"alpha\"},\"fill_color\":{\"field\":\"color\"},\"line_alpha\":{\"field\":\"alpha\"},\"line_color\":{\"field\":\"color\"},\"size\":{\"value\":7.071067811865475},\"x\":{\"field\":\"x\"},\"y\":{\"field\":\"y\"}},\"id\":\"4646\",\"type\":\"Circle\"},{\"attributes\":{\"data\":{\"alpha\":[1,1,1,1,1,1,1,1,1,1,1,1,1,1,1,1,1,1,1,1,1,1,1,1,1,1,1,1,1,1,1,1,1,1,1,1,1,1,1,1,1,1,1,1,1,1,1,1,1,1,1,1,1,1,1,1,1,1,1,1,1,1,1,1,1,1,1,1,1,1,1,1,1,1,1,1,1,1,1,1,1,1,1,1,1,1,1,1,1,1,1,1,1,1,1,1,1,1,1,1,1,1,1,1,1,1,1,1,1,1,1,1,1,1,1,1,1,1,1,1,1,1,1,1,1,1,1,1,1,1,1,1,1,1,1,1,1,1,1,1,1,1,1,1,1,1,1,1,1,1,1,1,1,1,1,1,1,1,1,1,1,1,1,1,1,1,1,1,1,1,1,1,1,1,1,1,1,1,1,1,1,1,1,1,1,1,1,1,1,1,1,1,1,1,1,1,1,1,1,1],\"color\":[\"#5e4fa2\",\"#5e4fa2\",\"#ffffbe\",\"#ffffbe\",\"#ffffbe\",\"#ffffbe\",\"#5e4fa2\",\"#ffffbe\",\"#ffffbe\",\"#5e4fa2\",\"#ffffbe\",\"#5e4fa2\",\"#ffffbe\",\"#ffffbe\",\"#5e4fa2\",\"#ffffbe\",\"#5e4fa2\",\"#ffffbe\",\"#ffffbe\",\"#ffffbe\",\"#ffffbe\",\"#ffffbe\",\"#ffffbe\",\"#ffffbe\",\"#ffffbe\",\"#5e4fa2\",\"#ffffbe\",\"#ffffbe\",\"#5e4fa2\",\"#ffffbe\",\"#5e4fa2\",\"#5e4fa2\",\"#5e4fa2\",\"#ffffbe\",\"#ffffbe\",\"#ffffbe\",\"#ffffbe\",\"#ffffbe\",\"#5e4fa2\",\"#ffffbe\",\"#5e4fa2\",\"#ffffbe\",\"#ffffbe\",\"#ffffbe\",\"#ffffbe\",\"#ffffbe\",\"#ffffbe\",\"#ffffbe\",\"#5e4fa2\",\"#ffffbe\",\"#5e4fa2\",\"#ffffbe\",\"#ffffbe\",\"#ffffbe\",\"#ffffbe\",\"#5e4fa2\",\"#ffffbe\",\"#ffffbe\",\"#ffffbe\",\"#ffffbe\",\"#ffffbe\",\"#5e4fa2\",\"#5e4fa2\",\"#ffffbe\",\"#ffffbe\",\"#5e4fa2\",\"#5e4fa2\",\"#ffffbe\",\"#5e4fa2\",\"#ffffbe\",\"#ffffbe\",\"#5e4fa2\",\"#ffffbe\",\"#5e4fa2\",\"#ffffbe\",\"#ffffbe\",\"#ffffbe\",\"#ffffbe\",\"#ffffbe\",\"#5e4fa2\",\"#ffffbe\",\"#ffffbe\",\"#5e4fa2\",\"#ffffbe\",\"#ffffbe\",\"#5e4fa2\",\"#5e4fa2\",\"#ffffbe\",\"#5e4fa2\",\"#ffffbe\",\"#5e4fa2\",\"#ffffbe\",\"#5e4fa2\",\"#ffffbe\",\"#ffffbe\",\"#ffffbe\",\"#ffffbe\",\"#5e4fa2\",\"#ffffbe\",\"#ffffbe\",\"#9e0142\",\"#9e0142\",\"#9e0142\",\"#9e0142\",\"#9e0142\",\"#9e0142\",\"#9e0142\",\"#9e0142\",\"#9e0142\",\"#9e0142\",\"#9e0142\",\"#9e0142\",\"#9e0142\",\"#9e0142\",\"#ffffbe\",\"#5e4fa2\",\"#9e0142\",\"#ffffbe\",\"#9e0142\",\"#9e0142\",\"#9e0142\",\"#9e0142\",\"#9e0142\",\"#ffffbe\",\"#9e0142\",\"#9e0142\",\"#9e0142\",\"#9e0142\",\"#9e0142\",\"#9e0142\",\"#9e0142\",\"#9e0142\",\"#9e0142\",\"#ffffbe\",\"#9e0142\",\"#9e0142\",\"#9e0142\",\"#9e0142\",\"#ffffbe\",\"#9e0142\",\"#9e0142\",\"#9e0142\",\"#ffffbe\",\"#9e0142\",\"#9e0142\",\"#9e0142\",\"#9e0142\",\"#9e0142\",\"#9e0142\",\"#9e0142\",\"#9e0142\",\"#9e0142\",\"#ffffbe\",\"#9e0142\",\"#9e0142\",\"#9e0142\",\"#9e0142\",\"#5e4fa2\",\"#9e0142\",\"#9e0142\",\"#9e0142\",\"#9e0142\",\"#9e0142\",\"#9e0142\",\"#9e0142\",\"#ffffbe\",\"#9e0142\",\"#9e0142\",\"#ffffbe\",\"#9e0142\",\"#9e0142\",\"#9e0142\",\"#9e0142\",\"#9e0142\",\"#9e0142\",\"#9e0142\",\"#9e0142\",\"#9e0142\",\"#9e0142\",\"#9e0142\",\"#9e0142\",\"#9e0142\",\"#9e0142\",\"#9e0142\",\"#9e0142\",\"#9e0142\",\"#9e0142\",\"#9e0142\",\"#9e0142\",\"#5e4fa2\",\"#9e0142\",\"#9e0142\",\"#9e0142\",\"#ffffbe\",\"#9e0142\",\"#9e0142\",\"#9e0142\",\"#9e0142\",\"#9e0142\",\"#9e0142\"],\"index\":[0,1,2,3,4,5,6,7,8,9,10,11,12,13,14,15,16,17,18,19,20,21,22,23,24,25,26,27,28,29,30,31,32,33,34,35,36,37,38,39,40,41,42,43,44,45,46,47,48,49,50,51,52,53,54,55,56,57,58,59,60,61,62,63,64,65,66,67,68,69,70,71,72,73,74,75,76,77,78,79,80,81,82,83,84,85,86,87,88,89,90,91,92,93,94,95,96,97,98,99,100,101,102,103,104,105,106,107,108,109,110,111,112,113,114,115,116,117,118,119,120,121,122,123,124,125,126,127,128,129,130,131,132,133,134,135,136,137,138,139,140,141,142,143,144,145,146,147,148,149,150,151,152,153,154,155,156,157,158,159,160,161,162,163,164,165,166,167,168,169,170,171,172,173,174,175,176,177,178,179,180,181,182,183,184,185,186,187,188,189,190,191,192,193,194,195,196,197,198,199],\"kmeans\":{\"__ndarray__\":\"AgAAAAIAAAABAAAAAQAAAAEAAAABAAAAAgAAAAEAAAABAAAAAgAAAAEAAAACAAAAAQAAAAEAAAACAAAAAQAAAAIAAAABAAAAAQAAAAEAAAABAAAAAQAAAAEAAAABAAAAAQAAAAIAAAABAAAAAQAAAAIAAAABAAAAAgAAAAIAAAACAAAAAQAAAAEAAAABAAAAAQAAAAEAAAACAAAAAQAAAAIAAAABAAAAAQAAAAEAAAABAAAAAQAAAAEAAAABAAAAAgAAAAEAAAACAAAAAQAAAAEAAAABAAAAAQAAAAIAAAABAAAAAQAAAAEAAAABAAAAAQAAAAIAAAACAAAAAQAAAAEAAAACAAAAAgAAAAEAAAACAAAAAQAAAAEAAAACAAAAAQAAAAIAAAABAAAAAQAAAAEAAAABAAAAAQAAAAIAAAABAAAAAQAAAAIAAAABAAAAAQAAAAIAAAACAAAAAQAAAAIAAAABAAAAAgAAAAEAAAACAAAAAQAAAAEAAAABAAAAAQAAAAIAAAABAAAAAQAAAAAAAAAAAAAAAAAAAAAAAAAAAAAAAAAAAAAAAAAAAAAAAAAAAAAAAAAAAAAAAAAAAAAAAAAAAAAAAQAAAAIAAAAAAAAAAQAAAAAAAAAAAAAAAAAAAAAAAAAAAAAAAQAAAAAAAAAAAAAAAAAAAAAAAAAAAAAAAAAAAAAAAAAAAAAAAAAAAAEAAAAAAAAAAAAAAAAAAAAAAAAAAQAAAAAAAAAAAAAAAAAAAAEAAAAAAAAAAAAAAAAAAAAAAAAAAAAAAAAAAAAAAAAAAAAAAAAAAAABAAAAAAAAAAAAAAAAAAAAAAAAAAIAAAAAAAAAAAAAAAAAAAAAAAAAAAAAAAAAAAAAAAAAAQAAAAAAAAAAAAAAAQAAAAAAAAAAAAAAAAAAAAAAAAAAAAAAAAAAAAAAAAAAAAAAAAAAAAAAAAAAAAAAAAAAAAAAAAAAAAAAAAAAAAAAAAAAAAAAAAAAAAAAAAAAAAAAAgAAAAAAAAAAAAAAAAAAAAEAAAAAAAAAAAAAAAAAAAAAAAAAAAAAAAAAAAA=\",\"dtype\":\"int32\",\"order\":\"little\",\"shape\":[200]},\"label\":{\"__ndarray__\":\"AQEBAQEBAQEBAQEBAQEBAQEBAQEBAQEBAQEBAQEBAQEBAQEBAQEBAQEBAQEBAQEBAQEBAQEBAQEBAQEBAQEBAQEBAQEBAQEBAQEBAQEBAQEBAQEBAQEBAQEBAQEBAQEBAQEBAQcHBwcHBwcHBwcHBwcHBwcHBwcHBwcHBwcHBwcHBwcHBwcHBwcHBwcHBwcHBwcHBwcHBwcHBwcHBwcHBwcHBwcHBwcHBwcHBwcHBwcHBwcHBwcHBwcHBwcHBwcHBwcHBwcHBwc=\",\"dtype\":\"uint8\",\"order\":\"little\",\"shape\":[200]},\"level_0\":[0,1,2,3,4,5,6,7,8,9,10,11,12,13,14,15,16,17,18,19,20,21,22,23,24,25,26,27,28,29,30,31,32,33,34,35,36,37,38,39,40,41,42,43,44,45,46,47,48,49,50,51,52,53,54,55,56,57,58,59,60,61,62,63,64,65,66,67,68,69,70,71,72,73,74,75,76,77,78,79,80,81,82,83,84,85,86,87,88,89,90,91,92,93,94,95,96,97,98,99,100,101,102,103,104,105,106,107,108,109,110,111,112,113,114,115,116,117,118,119,120,121,122,123,124,125,126,127,128,129,130,131,132,133,134,135,136,137,138,139,140,141,142,143,144,145,146,147,148,149,150,151,152,153,154,155,156,157,158,159,160,161,162,163,164,165,166,167,168,169,170,171,172,173,174,175,176,177,178,179,180,181,182,183,184,185,186,187,188,189,190,191,192,193,194,195,196,197,198,199],\"prediction\":[1,1,1,1,1,1,1,1,1,1,1,1,1,1,1,1,1,1,1,1,1,1,1,1,1,1,1,1,1,1,1,1,1,1,1,1,1,1,1,1,1,1,1,1,1,1,1,1,1,1,1,1,1,1,1,1,1,1,1,1,1,1,1,1,1,1,1,1,1,1,1,1,1,1,1,1,1,1,1,1,1,1,1,1,1,1,1,1,1,1,1,1,1,1,1,1,1,1,1,1,7,7,7,7,7,7,7,7,7,7,7,7,7,7,1,1,1,7,7,7,7,7,7,1,7,7,7,7,7,7,7,7,7,1,7,1,7,7,7,7,7,7,7,7,7,7,1,7,7,7,7,7,1,7,7,7,7,1,7,7,7,7,7,7,7,1,7,7,1,7,7,7,7,7,7,7,7,7,7,7,7,7,7,7,7,7,7,7,7,1,7,7,7,1,7,7,1,7,7,7],\"x\":{\"__ndarray__\":\"hr4QwMUPG8BrGgw/KnEVQJPeB0Am1pQ/N3fVvkbdMD/EIPA/pJX+v+t/DT9JshXA/KSnP7mOH0CGXBzAuTuPvjFOGcCW2Za/BmwPQCyfrz/i7qg/Gc/nPpd8sr6W9Do+vakVQM/IH8Adwx5A6ytYvqV1M8Cm0LU/iTMVwGErK8DIYijAaGnRP31PA0AuOcg+UKcPPwc5tz8mafu+Hl6sP1p9279sJMY/cpdyP6q8yj0G1tK8HPIQv31a5Lp0PJw+fWi1v6R+3D+awSvAbzyUPzJjjT7I/2w+dk+xv+SlM8Bdcyw+q1GbP9RvQr6s3qQ/g3rOP0MVtL8m0QnAv93rPwNyED7OqSLAB7nvv6bITT8FEjHAapKSP3lG6j5936S/LTzdP58oIMCQasQ/At7APzyz4D8YsYU+5xmrvEO9xr9kenu+YMWwP62p/L+LPPI/tFwaQDhMnb8NXOS/RlrBP1NfLMAxq+M+eGnUvwBL/z+xuTbAPFx2vVgEvz/irZU/QkAuP/+gOL/sQPM/oTwMP+4yBUEjiQdBGSPLQGrTC0GNNAJBRQD/QKMw3UAmgA1BO5PyQOEwwUCAjgJBHs/TQHy41UBSreVAUtujQOOWmkB0v8xAqG/qQI6K4kCptQdBjaHcQDkQAEFea7dAvXypP9vo+UD89whBct7cQI4k20BSN9tAL77nQCpN20BfxNZAu7vZQAbRpkCjZ+FAqrjPQNSYuUDJ3fpA/YchQN0a7UCVf+RASKLMQJ/znUCzA/xAc7niQPd2+EBhULRAUUTiQLBPCUFtFw1B5sLPQObr3kBwk6JAKcD9QAdS90D+IQNBqhzuQAEPskBJdgpBQxUQQeFKxEBDMOZAZVn0QLZp0kC4SMtAN6+dP/k0D0GMvd9ANboNQJ9Q1EDpHwFByGzrQJ8Q0kBdTcFAZBHVQB4BzEDjMwZBusr/QGQTBkEYjOhA3BIDQX6A1EBEbNBAPnjeQIbMAEG/0MZAUdeuQEGI1kA6FvhAKZycQJW/wUACZQhB/DDaQMu0lkCNCQRBSqLbQHoUuUABJaNACAfNQAuu1kA=\",\"dtype\":\"float32\",\"order\":\"little\",\"shape\":[200]},\"y\":{\"__ndarray__\":\"BrbDQHURt0CN0dVAJT37QJz1+0Dat+5AafjIQObACkHo7dRAeNXLQIGe6UBAlKxAQHjKQGcIBUEIFLhACXPLQGY6p0BWQtNA/J8EQTZxBEHbfOVAVIAIQRr540Cu0vNApJ0EQU8qp0B5awVBRjHIQMWxrkCIDgVBiaK/QD58v0ASX7pAhMzxQMziB0GL+stAsAzLQK7p+EA6kslAExoFQfOjvECzy+1ASDTlQDJg1EDmzedARkbdQMsc6kBYxs5Ax5q/QE161EA5krJADrgKQcf4AEEgtvlAwTzaQBe8tEAACvRAU6TuQCgAz0Aw6gNB6an+QBxOzEAe9K1AEecIQe1A0kCQib9AVi3IQFE7BkGUgrlASNYQQZYW40CnNMRAujHeQN/vpkCKxMtAQSDXQNS16EBakOFAwVzlQPGZzEBz5utAsGwAQW+XzUCYgQBBZ5ICQcRz0kBZrdBA0a3tQIQyq0DAgQdBqfPPQJsgAkEPebhASzrZQEpF+0BqqslAF9j8QGvNzkBRRd5A0eoHQaS2SUBJxR1AdRoIQAovY0DRs0hAi19MQF6Ywz/2LklAC3HxPw5/P0AooxVA2H8kQNPGCkC6xlBAGXGVQIhXmkCEG4tAeLWJQDZ7BEA/bj5A+XvRP6T5KECN4odALh0NQXjxDkAU0SVAjMSBQHJlm0Cm0YxAOcGEQBckkkCOHwhAD79uQNFVkkDodmJAm02ZQOARaUAgUVlAu7bHQCybgkBdq4lA9ez7P49DlEBXhhBAm3gRQMNAIUBukYpAC2LOP9DOJEAz/F1Ajv7zP7tFmUAQ3JxAWN1GQE84N0ALb0FAKz58QG95jEC/HGdA9f5JQFwbCUDvCIhAC+oRQO3n8j+9s1RA/Q4OQfq0S0AkZo1AkZrGQNaKeECOXmVA1AR2QF9MGkCjfxxAhPIdQCDHLUDSR1RAcVoFQLElJEBqEAhAeY4ZQKi9k0CBU/k/gWeZQH08BkDWDhZADiSKQE6kLEAVmm1A+WijQJ8pF0Aj4lBATzIVQA7KpUCpQCpAtoaRQOMpkUB1v5FAvf4kQJBrI0A=\",\"dtype\":\"float32\",\"order\":\"little\",\"shape\":[200]}},\"selected\":{\"id\":\"4856\"},\"selection_policy\":{\"id\":\"4857\"}},\"id\":\"4611\",\"type\":\"ColumnDataSource\"},{\"attributes\":{},\"id\":\"4630\",\"type\":\"WheelZoomTool\"},{\"attributes\":{\"data_source\":{\"id\":\"4611\"},\"glyph\":{\"id\":\"4646\"},\"hover_glyph\":null,\"muted_glyph\":null,\"nonselection_glyph\":{\"id\":\"4647\"},\"view\":{\"id\":\"4649\"}},\"id\":\"4648\",\"type\":\"GlyphRenderer\"},{\"attributes\":{},\"id\":\"4856\",\"type\":\"Selection\"},{\"attributes\":{},\"id\":\"4633\",\"type\":\"ResetTool\"},{\"attributes\":{},\"id\":\"4626\",\"type\":\"BasicTicker\"},{\"attributes\":{\"active_multi\":null,\"tools\":[{\"id\":\"4629\"},{\"id\":\"4630\"},{\"id\":\"4631\"},{\"id\":\"4632\"},{\"id\":\"4633\"},{\"id\":\"4634\"},{\"id\":\"4636\"}]},\"id\":\"4637\",\"type\":\"Toolbar\"},{\"attributes\":{\"formatter\":{\"id\":\"4851\"},\"major_label_policy\":{\"id\":\"4850\"},\"ticker\":{\"id\":\"4622\"},\"visible\":false},\"id\":\"4621\",\"type\":\"LinearAxis\"},{\"attributes\":{},\"id\":\"4849\",\"type\":\"Title\"},{\"attributes\":{},\"id\":\"4854\",\"type\":\"BasicTickFormatter\"},{\"attributes\":{\"bottom_units\":\"screen\",\"fill_alpha\":0.5,\"fill_color\":\"lightgrey\",\"left_units\":\"screen\",\"level\":\"overlay\",\"line_alpha\":1.0,\"line_color\":\"black\",\"line_dash\":[4,4],\"line_width\":2,\"right_units\":\"screen\",\"syncable\":false,\"top_units\":\"screen\"},\"id\":\"4635\",\"type\":\"BoxAnnotation\"},{\"attributes\":{\"formatter\":{\"id\":\"4854\"},\"major_label_policy\":{\"id\":\"4853\"},\"ticker\":{\"id\":\"4626\"},\"visible\":false},\"id\":\"4625\",\"type\":\"LinearAxis\"},{\"attributes\":{\"overlay\":{\"id\":\"4635\"}},\"id\":\"4631\",\"type\":\"BoxZoomTool\"},{\"attributes\":{\"axis\":{\"id\":\"4621\"},\"ticker\":null,\"visible\":false},\"id\":\"4624\",\"type\":\"Grid\"}],\"root_ids\":[\"4612\"]},\"title\":\"Bokeh Application\",\"version\":\"2.3.0\"}};\n",
       "  var render_items = [{\"docid\":\"41801d38-fff6-4ecb-9a2d-e1ab493838a4\",\"root_ids\":[\"4612\"],\"roots\":{\"4612\":\"6bf44272-e414-4908-993d-1072d089f988\"}}];\n",
       "  root.Bokeh.embed.embed_items_notebook(docs_json, render_items);\n",
       "\n",
       "  }\n",
       "  if (root.Bokeh !== undefined) {\n",
       "    embed_document(root);\n",
       "  } else {\n",
       "    var attempts = 0;\n",
       "    var timer = setInterval(function(root) {\n",
       "      if (root.Bokeh !== undefined) {\n",
       "        clearInterval(timer);\n",
       "        embed_document(root);\n",
       "      } else {\n",
       "        attempts++;\n",
       "        if (attempts > 100) {\n",
       "          clearInterval(timer);\n",
       "          console.log(\"Bokeh: ERROR: Unable to run BokehJS code because BokehJS library is missing\");\n",
       "        }\n",
       "      }\n",
       "    }, 10, root)\n",
       "  }\n",
       "})(window);"
      ],
      "application/vnd.bokehjs_exec.v0+json": ""
     },
     "metadata": {
      "application/vnd.bokehjs_exec.v0+json": {
       "id": "4612"
      }
     },
     "output_type": "display_data"
    },
    {
     "data": {
      "text/html": [
       "\n",
       "\n",
       "\n",
       "\n",
       "\n",
       "\n",
       "  <div class=\"bk-root\" id=\"441b2c3e-2cc2-434e-9896-5ca09ba932f1\" data-root-id=\"4915\"></div>\n"
      ]
     },
     "metadata": {},
     "output_type": "display_data"
    },
    {
     "data": {
      "application/javascript": [
       "(function(root) {\n",
       "  function embed_document(root) {\n",
       "    \n",
       "  var docs_json = {\"72d80ffc-c093-429a-8e07-4df9ac295ee4\":{\"defs\":[{\"extends\":null,\"module\":null,\"name\":\"DataModel\",\"overrides\":[],\"properties\":[]}],\"roots\":{\"references\":[{\"attributes\":{\"background_fill_color\":\"white\",\"below\":[{\"id\":\"4924\"}],\"center\":[{\"id\":\"4927\"},{\"id\":\"4931\"}],\"height\":300,\"left\":[{\"id\":\"4928\"}],\"renderers\":[{\"id\":\"4951\"}],\"title\":{\"id\":\"5163\"},\"toolbar\":{\"id\":\"4940\"},\"width\":300,\"x_range\":{\"id\":\"4916\"},\"x_scale\":{\"id\":\"4920\"},\"y_range\":{\"id\":\"4918\"},\"y_scale\":{\"id\":\"4922\"}},\"id\":\"4915\",\"subtype\":\"Figure\",\"type\":\"Plot\"},{\"attributes\":{},\"id\":\"5168\",\"type\":\"BasicTickFormatter\"},{\"attributes\":{\"axis\":{\"id\":\"4924\"},\"ticker\":null,\"visible\":false},\"id\":\"4927\",\"type\":\"Grid\"},{\"attributes\":{\"axis\":{\"id\":\"4928\"},\"dimension\":1,\"ticker\":null,\"visible\":false},\"id\":\"4931\",\"type\":\"Grid\"},{\"attributes\":{},\"id\":\"4936\",\"type\":\"ResetTool\"},{\"attributes\":{},\"id\":\"5171\",\"type\":\"UnionRenderers\"},{\"attributes\":{\"callback\":null,\"tooltips\":[[\"index\",\"@{index}\"],[\"label\",\"@{label}\"],[\"prediction\",\"@{prediction}\"],[\"kmeans\",\"@{kmeans}\"]]},\"id\":\"4939\",\"type\":\"HoverTool\"},{\"attributes\":{\"fill_alpha\":{\"value\":0.1},\"fill_color\":{\"field\":\"color\"},\"line_alpha\":{\"value\":0.1},\"line_color\":{\"field\":\"color\"},\"size\":{\"value\":7.071067811865475},\"x\":{\"field\":\"x\"},\"y\":{\"field\":\"y\"}},\"id\":\"4950\",\"type\":\"Circle\"},{\"attributes\":{\"formatter\":{\"id\":\"5165\"},\"major_label_policy\":{\"id\":\"5164\"},\"ticker\":{\"id\":\"4925\"},\"visible\":false},\"id\":\"4924\",\"type\":\"LinearAxis\"},{\"attributes\":{\"active_multi\":null,\"tools\":[{\"id\":\"4932\"},{\"id\":\"4933\"},{\"id\":\"4934\"},{\"id\":\"4935\"},{\"id\":\"4936\"},{\"id\":\"4937\"},{\"id\":\"4939\"}]},\"id\":\"4940\",\"type\":\"Toolbar\"},{\"attributes\":{},\"id\":\"4935\",\"type\":\"SaveTool\"},{\"attributes\":{\"bottom_units\":\"screen\",\"fill_alpha\":0.5,\"fill_color\":\"lightgrey\",\"left_units\":\"screen\",\"level\":\"overlay\",\"line_alpha\":1.0,\"line_color\":\"black\",\"line_dash\":[4,4],\"line_width\":2,\"right_units\":\"screen\",\"syncable\":false,\"top_units\":\"screen\"},\"id\":\"4938\",\"type\":\"BoxAnnotation\"},{\"attributes\":{},\"id\":\"5164\",\"type\":\"AllLabels\"},{\"attributes\":{},\"id\":\"4929\",\"type\":\"BasicTicker\"},{\"attributes\":{},\"id\":\"4925\",\"type\":\"BasicTicker\"},{\"attributes\":{},\"id\":\"4920\",\"type\":\"LinearScale\"},{\"attributes\":{},\"id\":\"5163\",\"type\":\"Title\"},{\"attributes\":{},\"id\":\"4918\",\"type\":\"DataRange1d\"},{\"attributes\":{},\"id\":\"4916\",\"type\":\"DataRange1d\"},{\"attributes\":{},\"id\":\"5170\",\"type\":\"Selection\"},{\"attributes\":{},\"id\":\"4922\",\"type\":\"LinearScale\"},{\"attributes\":{\"fill_alpha\":{\"field\":\"alpha\"},\"fill_color\":{\"field\":\"color\"},\"line_alpha\":{\"field\":\"alpha\"},\"line_color\":{\"field\":\"color\"},\"size\":{\"value\":7.071067811865475},\"x\":{\"field\":\"x\"},\"y\":{\"field\":\"y\"}},\"id\":\"4949\",\"type\":\"Circle\"},{\"attributes\":{\"data_source\":{\"id\":\"4914\"},\"glyph\":{\"id\":\"4949\"},\"hover_glyph\":null,\"muted_glyph\":null,\"nonselection_glyph\":{\"id\":\"4950\"},\"view\":{\"id\":\"4952\"}},\"id\":\"4951\",\"type\":\"GlyphRenderer\"},{\"attributes\":{},\"id\":\"4933\",\"type\":\"WheelZoomTool\"},{\"attributes\":{\"formatter\":{\"id\":\"5168\"},\"major_label_policy\":{\"id\":\"5167\"},\"ticker\":{\"id\":\"4929\"},\"visible\":false},\"id\":\"4928\",\"type\":\"LinearAxis\"},{\"attributes\":{},\"id\":\"4937\",\"type\":\"HelpTool\"},{\"attributes\":{},\"id\":\"4932\",\"type\":\"PanTool\"},{\"attributes\":{\"data\":{\"alpha\":[1,1,1,1,1,1,1,1,1,1,1,1,1,1,1,1,1,1,1,1,1,1,1,1,1,1,1,1,1,1,1,1,1,1,1,1,1,1,1,1,1,1,1,1,1,1,1,1,1,1,1,1,1,1,1,1,1,1,1,1,1,1,1,1,1,1,1,1,1,1,1,1,1,1,1,1,1,1,1,1,1,1,1,1,1,1,1,1,1,1,1,1,1,1,1,1,1,1,1,1,1,1,1,1,1,1,1,1,1,1,1,1,1,1,1,1,1,1,1,1,1,1,1,1,1,1,1,1,1,1,1,1,1,1,1,1,1,1,1,1,1,1,1,1,1,1,1,1,1,1,1,1,1,1,1,1,1,1,1,1,1,1,1,1,1,1,1,1,1,1,1,1,1,1,1,1,1,1,1,1,1,1,1,1,1,1,1,1,1,1,1,1,1,1,1,1,1,1,1,1],\"color\":[\"#9e0142\",\"#9e0142\",\"#9e0142\",\"#9e0142\",\"#9e0142\",\"#9e0142\",\"#9e0142\",\"#9e0142\",\"#9e0142\",\"#9e0142\",\"#9e0142\",\"#9e0142\",\"#9e0142\",\"#9e0142\",\"#9e0142\",\"#9e0142\",\"#9e0142\",\"#9e0142\",\"#9e0142\",\"#9e0142\",\"#9e0142\",\"#9e0142\",\"#9e0142\",\"#9e0142\",\"#9e0142\",\"#9e0142\",\"#9e0142\",\"#9e0142\",\"#9e0142\",\"#9e0142\",\"#9e0142\",\"#9e0142\",\"#9e0142\",\"#9e0142\",\"#9e0142\",\"#9e0142\",\"#9e0142\",\"#9e0142\",\"#9e0142\",\"#9e0142\",\"#9e0142\",\"#9e0142\",\"#9e0142\",\"#9e0142\",\"#9e0142\",\"#9e0142\",\"#9e0142\",\"#9e0142\",\"#9e0142\",\"#9e0142\",\"#9e0142\",\"#9e0142\",\"#9e0142\",\"#9e0142\",\"#9e0142\",\"#9e0142\",\"#9e0142\",\"#9e0142\",\"#9e0142\",\"#9e0142\",\"#9e0142\",\"#9e0142\",\"#9e0142\",\"#9e0142\",\"#9e0142\",\"#9e0142\",\"#9e0142\",\"#9e0142\",\"#9e0142\",\"#5e4fa2\",\"#9e0142\",\"#9e0142\",\"#9e0142\",\"#9e0142\",\"#9e0142\",\"#9e0142\",\"#9e0142\",\"#9e0142\",\"#9e0142\",\"#9e0142\",\"#9e0142\",\"#9e0142\",\"#9e0142\",\"#9e0142\",\"#9e0142\",\"#9e0142\",\"#9e0142\",\"#9e0142\",\"#9e0142\",\"#9e0142\",\"#9e0142\",\"#9e0142\",\"#9e0142\",\"#9e0142\",\"#9e0142\",\"#9e0142\",\"#9e0142\",\"#9e0142\",\"#9e0142\",\"#9e0142\",\"#ffffbe\",\"#ffffbe\",\"#5e4fa2\",\"#5e4fa2\",\"#ffffbe\",\"#ffffbe\",\"#ffffbe\",\"#ffffbe\",\"#ffffbe\",\"#ffffbe\",\"#ffffbe\",\"#ffffbe\",\"#ffffbe\",\"#ffffbe\",\"#5e4fa2\",\"#9e0142\",\"#5e4fa2\",\"#5e4fa2\",\"#ffffbe\",\"#ffffbe\",\"#5e4fa2\",\"#ffffbe\",\"#5e4fa2\",\"#5e4fa2\",\"#ffffbe\",\"#ffffbe\",\"#5e4fa2\",\"#5e4fa2\",\"#5e4fa2\",\"#5e4fa2\",\"#5e4fa2\",\"#5e4fa2\",\"#5e4fa2\",\"#5e4fa2\",\"#ffffbe\",\"#5e4fa2\",\"#5e4fa2\",\"#ffffbe\",\"#5e4fa2\",\"#5e4fa2\",\"#5e4fa2\",\"#ffffbe\",\"#5e4fa2\",\"#ffffbe\",\"#ffffbe\",\"#ffffbe\",\"#5e4fa2\",\"#ffffbe\",\"#ffffbe\",\"#5e4fa2\",\"#ffffbe\",\"#5e4fa2\",\"#9e0142\",\"#ffffbe\",\"#ffffbe\",\"#ffffbe\",\"#5e4fa2\",\"#5e4fa2\",\"#5e4fa2\",\"#ffffbe\",\"#5e4fa2\",\"#5e4fa2\",\"#ffffbe\",\"#ffffbe\",\"#5e4fa2\",\"#9e0142\",\"#ffffbe\",\"#5e4fa2\",\"#9e0142\",\"#5e4fa2\",\"#5e4fa2\",\"#5e4fa2\",\"#ffffbe\",\"#5e4fa2\",\"#ffffbe\",\"#5e4fa2\",\"#5e4fa2\",\"#ffffbe\",\"#ffffbe\",\"#ffffbe\",\"#ffffbe\",\"#5e4fa2\",\"#ffffbe\",\"#5e4fa2\",\"#ffffbe\",\"#5e4fa2\",\"#5e4fa2\",\"#ffffbe\",\"#5e4fa2\",\"#9e0142\",\"#5e4fa2\",\"#ffffbe\",\"#5e4fa2\",\"#9e0142\",\"#ffffbe\",\"#5e4fa2\",\"#5e4fa2\",\"#5e4fa2\",\"#ffffbe\",\"#ffffbe\"],\"index\":[0,1,2,3,4,5,6,7,8,9,10,11,12,13,14,15,16,17,18,19,20,21,22,23,24,25,26,27,28,29,30,31,32,33,34,35,36,37,38,39,40,41,42,43,44,45,46,47,48,49,50,51,52,53,54,55,56,57,58,59,60,61,62,63,64,65,66,67,68,69,70,71,72,73,74,75,76,77,78,79,80,81,82,83,84,85,86,87,88,89,90,91,92,93,94,95,96,97,98,99,100,101,102,103,104,105,106,107,108,109,110,111,112,113,114,115,116,117,118,119,120,121,122,123,124,125,126,127,128,129,130,131,132,133,134,135,136,137,138,139,140,141,142,143,144,145,146,147,148,149,150,151,152,153,154,155,156,157,158,159,160,161,162,163,164,165,166,167,168,169,170,171,172,173,174,175,176,177,178,179,180,181,182,183,184,185,186,187,188,189,190,191,192,193,194,195,196,197,198,199],\"kmeans\":{\"__ndarray__\":\"AAAAAAAAAAAAAAAAAAAAAAAAAAAAAAAAAAAAAAAAAAAAAAAAAAAAAAAAAAAAAAAAAAAAAAAAAAAAAAAAAAAAAAAAAAAAAAAAAAAAAAAAAAAAAAAAAAAAAAAAAAAAAAAAAAAAAAAAAAAAAAAAAAAAAAAAAAAAAAAAAAAAAAAAAAAAAAAAAAAAAAAAAAAAAAAAAAAAAAAAAAAAAAAAAAAAAAAAAAAAAAAAAAAAAAAAAAAAAAAAAAAAAAAAAAAAAAAAAAAAAAAAAAAAAAAAAAAAAAAAAAAAAAAAAAAAAAAAAAAAAAAAAAAAAAAAAAAAAAAAAAAAAAAAAAAAAAAAAAAAAAAAAAAAAAAAAAAAAAAAAAAAAAAAAgAAAAAAAAAAAAAAAAAAAAAAAAAAAAAAAAAAAAAAAAAAAAAAAAAAAAAAAAAAAAAAAAAAAAAAAAAAAAAAAAAAAAAAAAAAAAAAAAAAAAAAAAAAAAAAAAAAAAAAAAAAAAAAAAAAAAAAAAAAAAAAAAAAAAAAAAAAAAAAAAAAAAEAAAABAAAAAgAAAAIAAAABAAAAAQAAAAEAAAABAAAAAQAAAAEAAAABAAAAAQAAAAEAAAABAAAAAgAAAAAAAAACAAAAAgAAAAEAAAABAAAAAgAAAAEAAAACAAAAAgAAAAEAAAABAAAAAgAAAAIAAAACAAAAAgAAAAIAAAACAAAAAgAAAAIAAAABAAAAAgAAAAIAAAABAAAAAgAAAAIAAAACAAAAAQAAAAIAAAABAAAAAQAAAAEAAAACAAAAAQAAAAEAAAACAAAAAQAAAAIAAAAAAAAAAQAAAAEAAAABAAAAAgAAAAIAAAACAAAAAQAAAAIAAAACAAAAAQAAAAEAAAACAAAAAAAAAAEAAAACAAAAAAAAAAIAAAACAAAAAgAAAAEAAAACAAAAAQAAAAIAAAACAAAAAQAAAAEAAAABAAAAAQAAAAIAAAABAAAAAgAAAAEAAAACAAAAAgAAAAEAAAACAAAAAAAAAAIAAAABAAAAAgAAAAAAAAABAAAAAgAAAAIAAAACAAAAAQAAAAEAAAA=\",\"dtype\":\"int32\",\"order\":\"little\",\"shape\":[200]},\"label\":{\"__ndarray__\":\"AQEBAQEBAQEBAQEBAQEBAQEBAQEBAQEBAQEBAQEBAQEBAQEBAQEBAQEBAQEBAQEBAQEBAQEBAQEBAQEBAQEBAQEBAQEBAQEBAQEBAQEBAQEBAQEBAQEBAQEBAQEBAQEBAQEBAQcHBwcHBwcHBwcHBwcHBwcHBwcHBwcHBwcHBwcHBwcHBwcHBwcHBwcHBwcHBwcHBwcHBwcHBwcHBwcHBwcHBwcHBwcHBwcHBwcHBwcHBwcHBwcHBwcHBwcHBwcHBwcHBwcHBwc=\",\"dtype\":\"uint8\",\"order\":\"little\",\"shape\":[200]},\"level_0\":[0,1,2,3,4,5,6,7,8,9,10,11,12,13,14,15,16,17,18,19,20,21,22,23,24,25,26,27,28,29,30,31,32,33,34,35,36,37,38,39,40,41,42,43,44,45,46,47,48,49,50,51,52,53,54,55,56,57,58,59,60,61,62,63,64,65,66,67,68,69,70,71,72,73,74,75,76,77,78,79,80,81,82,83,84,85,86,87,88,89,90,91,92,93,94,95,96,97,98,99,100,101,102,103,104,105,106,107,108,109,110,111,112,113,114,115,116,117,118,119,120,121,122,123,124,125,126,127,128,129,130,131,132,133,134,135,136,137,138,139,140,141,142,143,144,145,146,147,148,149,150,151,152,153,154,155,156,157,158,159,160,161,162,163,164,165,166,167,168,169,170,171,172,173,174,175,176,177,178,179,180,181,182,183,184,185,186,187,188,189,190,191,192,193,194,195,196,197,198,199],\"prediction\":[1,1,1,1,1,1,1,1,1,1,1,1,1,1,1,1,1,1,1,1,1,1,1,1,1,1,1,1,1,1,1,1,1,1,1,1,1,1,1,1,1,1,1,1,1,1,1,1,1,1,1,1,1,1,1,1,1,1,1,1,1,1,1,1,1,1,1,1,1,1,1,1,1,1,1,1,1,1,1,1,1,1,1,1,1,1,1,1,1,1,1,1,1,1,1,1,1,1,1,1,7,7,7,7,7,7,7,7,7,7,7,7,7,7,1,1,1,7,7,7,7,7,7,1,7,7,7,7,7,7,7,7,7,1,7,1,7,7,7,7,7,7,7,7,7,7,1,7,7,7,7,7,1,7,7,7,7,1,7,7,7,7,7,7,7,1,7,7,1,7,7,7,7,7,7,7,7,7,7,7,7,7,7,7,7,7,7,7,7,1,7,7,7,1,7,7,1,7,7,7],\"x\":{\"__ndarray__\":\"msVqwBJNbcB66RC/GZLXP5obvj9bnds83RJxv7tksT9Nkmo/MKRNwOsE8r6Hwl3ASJEKP6rH9D/R84XAmKFpvw0pV8A0gAzAGyHyP6uAhD9V/Uo9dkqUP0QJlr+5LbC+4+32P/E/W8Dj5ABAJeZvv7cJfsCetqI/JvdxwE+RfcA8dHnA8QWOPt1b8z++xRy/vWhmvoxcvT67SIu/WreLPzPaKMDCA0k+3GDOvngR6r4Hg1O/GAGOv2S4QL9JOtu+yIElwJd1Oz8CLF7ApRK5Pwwcub4+q32+6vYZwHVVcsBkCd2+LYSIvov6g785jYE/MOQsP+1VGMBNHUrAcqjnP5vcQ7+wqYHAUOk3wMdJaD9+h4TAkMG5QMvXGL9GGyHAK1wnP62pV8AO71A/xBHlPqCvyz5Q8ES/7Adlv205I8ASe3W/V2AvP+quRcAjkKI/uXriPyrHAMDBHjPAmnkoPoJhY8CO0Yg/HggrwMaQxT8rmn3AIHI3v+poxD5gSP4+ZfFXvsJfrL+Oy2o/i2irP0qWAEEIxglBFDgSQYNk4ECqQv1A9q0AQThOEkEW0/1AkpMQQecwCEEXMRVBlvwUQdh0DkGj4O5A2vbGQJJIrkBgPsRAzj3QQPchGkGvcgNBZnn0QEQ1EkGmkttALQboP4XgGEGv1AhBdyPfQMHXzEDVs89AvxHgQMcAykApWglBssnoQNZeu0Aaq/BAnsLMQEK1AEGdDwRBey8LQXNy2kCBCd5AFBATQWZWzkDsKhhBBGASQZvMD0GVV9BA8CoNQVHEB0GH0u5A7tcNQcGJzEBwgLZAoFcHQR/9AkHDewRBS33fQODZzkAEKupAfiT7QApXEEHJjNtAh8sZQfOVGUFipPVAv1btP2K8/kDz0tNAVJZzP71460AVxfJA86v2QGYnEkFJ2AhB9OgYQTWyDkHBnPZALSgOQSDLEUFHlRlBysUJQe7m0UCyVBVB5X7RQJENDUEeRg5B0a3fQBOfDkGavONAaM6xQI68DEG9t/hAOy8EQY5wsEDi8AdBRZ7YQDPIwkDfme9AFEgPQZqqAkE=\",\"dtype\":\"float32\",\"order\":\"little\",\"shape\":[200]},\"y\":{\"__ndarray__\":\"AUn7QMQV7kC+fO1ATe8CQWDrCUGZxANBawjVQPmkFUFnFvBATP/9QJbT+UCc0eRA/8DhQNblBUEqiO9AL2DWQJRm20D4h/1Ax2kFQb0sEUGCyAdBmqEZQS/2+UDmRAZBG2UMQdC63kCO3QZBPLzjQDKL70BWQhBB3F38QI+7+kDrhPNAUDYOQb6GDEGXw9dA+e/dQFgWD0GrQNZA3XASQcKj40DF0AlBAYz4QOT82kBqBwBBDQv0QB3p80CUx9pAd9fqQPZ96kCiyPdA4F0UQSrTDUGvKA9BmV4AQT4T8EBPKwlBajQDQVL420CpCxRB5kgNQfQg+UBFXORAejcPQYSp6UD8O/pAIQH+QFYVFkHS7fNAVdIPQYG99kAHOu1AEBnuQJnd3UDei+ZARt3kQD3HCUGgq+9AobPzQA2d9kClMvxAGyIQQWFKAEHTfgpBK1EDQX6oAUEYav5Ab4QLQenO4kDnFhhB0/r5QLqOCkGY6vZAiCTfQFvSCEESl+JAEycLQWHK5EDnePJA6eAYQfCrK0HeXClBtJ0TQcqIJkEKpidBCy0pQYUkJ0EXszBBG4grQZyIFEGaHzFBILEWQYbtGkFOJBtBTEocQeITGUGRCg5BDbf7QDt2HkEMMjRBR5kMQe1tLkFw6x5BTiwUQRv5JkG2bS9Bw2AKQQiABkFbdAhBSacCQf/7B0FS3hZBjhgRQesNFUE6TB1B8fMMQdcBE0H8pyNBn2URQSE0AUEYygVB0K0YQYQlEkG9cy1BhAYfQWFzI0FhOyBBoqYmQUEFMEEw3C1B6lIfQUsFBkE9ThtBpIk1QW/UIUFopzJBnRICQZCaHkHAtSlBlaMxQT+qEUHY2wFB4bImQR/aIUGlgRZBlRcUQQYjMkF9igZBObTjQO+iDEErYh9BIrQdQW1mGkG0tAtBSfEcQWlMFUGJ1ilBWkMuQXdWM0E6yyNBeeovQUlXC0E8lx5BRrkFQS1ELkH/ew9Bd54cQSs7GUHhSARBb2sYQavGD0GhCitB7ewWQZU7GEG+GCtBhRgEQfpIG0HuABRB+VQWQbBFHEE=\",\"dtype\":\"float32\",\"order\":\"little\",\"shape\":[200]}},\"selected\":{\"id\":\"5170\"},\"selection_policy\":{\"id\":\"5171\"}},\"id\":\"4914\",\"type\":\"ColumnDataSource\"},{\"attributes\":{\"source\":{\"id\":\"4914\"}},\"id\":\"4952\",\"type\":\"CDSView\"},{\"attributes\":{},\"id\":\"5167\",\"type\":\"AllLabels\"},{\"attributes\":{\"overlay\":{\"id\":\"4938\"}},\"id\":\"4934\",\"type\":\"BoxZoomTool\"},{\"attributes\":{},\"id\":\"5165\",\"type\":\"BasicTickFormatter\"}],\"root_ids\":[\"4915\"]},\"title\":\"Bokeh Application\",\"version\":\"2.3.0\"}};\n",
       "  var render_items = [{\"docid\":\"72d80ffc-c093-429a-8e07-4df9ac295ee4\",\"root_ids\":[\"4915\"],\"roots\":{\"4915\":\"441b2c3e-2cc2-434e-9896-5ca09ba932f1\"}}];\n",
       "  root.Bokeh.embed.embed_items_notebook(docs_json, render_items);\n",
       "\n",
       "  }\n",
       "  if (root.Bokeh !== undefined) {\n",
       "    embed_document(root);\n",
       "  } else {\n",
       "    var attempts = 0;\n",
       "    var timer = setInterval(function(root) {\n",
       "      if (root.Bokeh !== undefined) {\n",
       "        clearInterval(timer);\n",
       "        embed_document(root);\n",
       "      } else {\n",
       "        attempts++;\n",
       "        if (attempts > 100) {\n",
       "          clearInterval(timer);\n",
       "          console.log(\"Bokeh: ERROR: Unable to run BokehJS code because BokehJS library is missing\");\n",
       "        }\n",
       "      }\n",
       "    }, 10, root)\n",
       "  }\n",
       "})(window);"
      ],
      "application/vnd.bokehjs_exec.v0+json": ""
     },
     "metadata": {
      "application/vnd.bokehjs_exec.v0+json": {
       "id": "4915"
      }
     },
     "output_type": "display_data"
    }
   ],
   "source": [
    "# UMAP\n",
    "\n",
    "import umap.umap_\n",
    "import umap.plot\n",
    "\n",
    "umap.plot.output_notebook()\n",
    "hover_data = pd.DataFrame({'index':np.arange(len(x_test)),\n",
    "                           'label':y_test_origin,\n",
    "                           'prediction': new_r}\n",
    "                         )\n",
    "m = 0\n",
    "for hd,y_kmean in zip(hidden_layers,y_kmeans):    \n",
    "    mapper = umap.umap_.UMAP().fit(hd)\n",
    "    hover_data['kmeans'] = y_kmean\n",
    "    #t_mapper = mapper.transform(hd)\n",
    "    #plt.scatter(t_mapper[:,0],t_mapper[:,1], c=y_kmeans, s=50, cmap='viridis')\n",
    "    #plt.show()\n",
    "    #p = umap.plot.points(mapper, labels=y_test_origin)\n",
    "    p = umap.plot.interactive(mapper, labels=y_kmean, hover_data=hover_data,width=300,height=300)\n",
    "    umap.plot.show(p)\n",
    "\n"
   ]
  },
  {
   "cell_type": "code",
   "execution_count": null,
   "id": "intermediate-entertainment",
   "metadata": {},
   "outputs": [],
   "source": []
  }
 ],
 "metadata": {
  "kernelspec": {
   "display_name": "Python 3",
   "language": "python",
   "name": "python3"
  },
  "language_info": {
   "codemirror_mode": {
    "name": "ipython",
    "version": 3
   },
   "file_extension": ".py",
   "mimetype": "text/x-python",
   "name": "python",
   "nbconvert_exporter": "python",
   "pygments_lexer": "ipython3",
   "version": "3.8.6"
  }
 },
 "nbformat": 4,
 "nbformat_minor": 5
}
