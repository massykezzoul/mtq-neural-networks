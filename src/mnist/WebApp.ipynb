{
 "cells": [
  {
   "cell_type": "code",
   "execution_count": 1,
   "id": "coupled-waters",
   "metadata": {},
   "outputs": [],
   "source": [
    "import numpy as np\n",
    "from tensorflow import keras\n",
    "from tools import signature as sig\n",
    "from sklearn.preprocessing import StandardScaler\n",
    "\n",
    "from ipywidgets import interact, fixed\n",
    "import ipywidgets as widgets"
   ]
  },
  {
   "cell_type": "code",
   "execution_count": 2,
   "id": "essential-father",
   "metadata": {},
   "outputs": [],
   "source": [
    "def signature(keep, n):\n",
    "    keep.sort()\n",
    "    (x_train_origin, y_train_origin), (x_test_origin, y_test_origin)= \\\n",
    "    keras.datasets.mnist.load_data(path='all_mnist.npz')\n",
    "\n",
    "    (x, y), (x_test, y_test) = sig.pretraitement(x_train_origin, y_train_origin, \n",
    "                                             x_test_origin, y_test_origin, \n",
    "                                             keep=keep, n=n, verbose=False)\n",
    "\n",
    "    layers = [32, 16]\n",
    "    model = sig.trained_model(x, y, hidden_layers=layers, verbose=False)\n",
    "\n",
    "    loss, acc = model.evaluate(x_test, y_test)\n",
    "    if False:\n",
    "        print(\"loss =\", loss, \", accuracy =\",acc)\n",
    "\n",
    "    predictions = sig.get_preditions(model, x, keep, verbose=False)\n",
    "    labels = [keep[np.argmax(l)] for l in y]\n",
    "\n",
    "    hidden_layers = model.get_hidden_layers_outputs(x)\n",
    "\n",
    "    # Standardization \n",
    "    # A noter que sans cette standardisation on a de plus beau score silhouette\n",
    "    for i in range(len(hidden_layers)):\n",
    "        hidden_layers[i] = StandardScaler().fit_transform(hidden_layers[i])\n",
    "\n",
    "    best_k = sig.get_best_k(hidden_layers, kmax = 10,verbose=False)\n",
    "\n",
    "    clusters = sig.clustering(hidden_layers, best_k)\n",
    "\n",
    "    sig.umap_plot(x, labels, predictions, hidden_layers, clusters)\n",
    "\n",
    "    sig.sankey(labels, keep, best_k, clusters, predictions)"
   ]
  },
  {
   "cell_type": "code",
   "execution_count": 3,
   "id": "baking-rebate",
   "metadata": {},
   "outputs": [
    {
     "data": {
      "application/vnd.jupyter.widget-view+json": {
       "model_id": "ed3600e64bf7445a857dedad42298968",
       "version_major": 2,
       "version_minor": 0
      },
      "text/plain": [
       "interactive(children=(IntSlider(value=100, description='n', max=300, min=50, step=10), Output()), _dom_classes…"
      ]
     },
     "metadata": {},
     "output_type": "display_data"
    },
    {
     "data": {
      "text/plain": [
       "<function __main__.signature(keep, n)>"
      ]
     },
     "execution_count": 3,
     "metadata": {},
     "output_type": "execute_result"
    }
   ],
   "source": [
    "keep = [1, 3 , 7]\n",
    "n = 100\n",
    "#interact(signature, n=widgets.IntSlider(min=50, max=300, step=10, value=100), keep=fixed(keep))\n",
    "signature(n=50, keep=[3,7])"
   ]
  },
  {
   "cell_type": "code",
   "execution_count": 14,
   "id": "heard-advancement",
   "metadata": {},
   "outputs": [],
   "source": []
  }
 ],
 "metadata": {
  "kernelspec": {
   "display_name": "Python 3",
   "language": "python",
   "name": "python3"
  },
  "language_info": {
   "codemirror_mode": {
    "name": "ipython",
    "version": 3
   },
   "file_extension": ".py",
   "mimetype": "text/x-python",
   "name": "python",
   "nbconvert_exporter": "python",
   "pygments_lexer": "ipython3",
   "version": "3.8.6"
  }
 },
 "nbformat": 4,
 "nbformat_minor": 5
}
