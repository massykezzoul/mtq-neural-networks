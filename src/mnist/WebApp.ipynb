{
 "cells": [
  {
   "cell_type": "code",
   "execution_count": 3,
   "id": "alternate-officer",
   "metadata": {},
   "outputs": [],
   "source": [
    "import numpy as np\n",
    "from tensorflow import keras\n",
    "from tools import signature as sig\n",
    "from sklearn.preprocessing import StandardScaler\n",
    "\n",
    "from ipywidgets import interact, fixed\n",
    "import ipywidgets as widgets\n",
    "from plotly.subplots import make_subplots\n",
    "import plotly.graph_objects as go\n",
    "\n",
    "from ipywidgets import Image, Layout\n",
    "import PIL.Image\n",
    "import io"
   ]
  },
  {
   "cell_type": "code",
   "execution_count": 4,
   "id": "organic-faculty",
   "metadata": {},
   "outputs": [],
   "source": [
    "# Téléchargement des données\n",
    "(x_train_origin, y_train_origin), (x_test_origin, y_test_origin)= \\\n",
    "        keras.datasets.mnist.load_data(path='all_mnist.npz')"
   ]
  },
  {
   "cell_type": "code",
   "execution_count": 5,
   "id": "fatty-maximum",
   "metadata": {},
   "outputs": [],
   "source": [
    "keep = [1, 3 , 7]\n",
    "keep.sort()\n",
    "n = 100\n",
    "\n",
    "keep.sort()\n",
    "(x, y), (x_test, y_test) = sig.pretraitement(x_train_origin, y_train_origin, \n",
    "                                                 x_test_origin, y_test_origin, \n",
    "                                                 keep=keep, n=n, verbose=False)"
   ]
  },
  {
   "cell_type": "code",
   "execution_count": 6,
   "id": "liberal-detective",
   "metadata": {},
   "outputs": [
    {
     "name": "stdout",
     "output_type": "stream",
     "text": [
      "- input_shape:  (784,)\n",
      "- n_neurons:  [32, 16, 3]\n",
      "Epoch 1/15\n",
      "25/25 - 1s - loss: 0.2104 - accuracy: 0.4933\n",
      "Epoch 2/15\n",
      "25/25 - 0s - loss: 0.1838 - accuracy: 0.7433\n",
      "Epoch 3/15\n",
      "25/25 - 0s - loss: 0.1607 - accuracy: 0.8433\n",
      "Epoch 4/15\n",
      "25/25 - 0s - loss: 0.1397 - accuracy: 0.9033\n",
      "Epoch 5/15\n",
      "25/25 - 0s - loss: 0.1211 - accuracy: 0.9500\n",
      "Epoch 6/15\n",
      "25/25 - 0s - loss: 0.1050 - accuracy: 0.9567\n",
      "Epoch 7/15\n",
      "25/25 - 0s - loss: 0.0910 - accuracy: 0.9667\n",
      "Epoch 8/15\n",
      "25/25 - 0s - loss: 0.0789 - accuracy: 0.9733\n",
      "Epoch 9/15\n",
      "25/25 - 0s - loss: 0.0687 - accuracy: 0.9733\n",
      "Epoch 10/15\n",
      "25/25 - 0s - loss: 0.0598 - accuracy: 0.9700\n",
      "Epoch 11/15\n",
      "25/25 - 0s - loss: 0.0521 - accuracy: 0.9700\n",
      "Epoch 12/15\n",
      "25/25 - 0s - loss: 0.0455 - accuracy: 0.9700\n",
      "Epoch 13/15\n",
      "25/25 - 0s - loss: 0.0401 - accuracy: 0.9733\n",
      "Epoch 14/15\n",
      "25/25 - 0s - loss: 0.0357 - accuracy: 0.9733\n",
      "Epoch 15/15\n",
      "25/25 - 0s - loss: 0.0320 - accuracy: 0.9733\n",
      "INFO:tensorflow:Assets written to: ./models/signature_all_100/assets\n"
     ]
    }
   ],
   "source": [
    "model_name=\"./models/signature_all_100\"\n",
    "model = sig.trained_model(x, y, hidden_layers=[32, 16],\n",
    "                          model_name=model_name, verbose=True,load=False)\n",
    "\n",
    "predictions = sig.get_preditions(model, x, keep, verbose=False)\n",
    "\n",
    "labels = [keep[np.argmax(l)] for l in y]\n",
    "\n",
    "hidden_layers = model.get_hidden_layers_outputs(x)\n",
    "\n",
    "for i in range(len(hidden_layers)):\n",
    "    hidden_layers[i] = StandardScaler().fit_transform(hidden_layers[i])\n",
    "\n",
    "best_k = sig.get_best_k(hidden_layers, kmax = len(keep),verbose=False)\n",
    "clusters = sig.clustering(hidden_layers, best_k)\n",
    "\n"
   ]
  },
  {
   "cell_type": "code",
   "execution_count": 7,
   "id": "absolute-catalog",
   "metadata": {},
   "outputs": [],
   "source": [
    "dictionary_data = dict()\n",
    "\n",
    "dictionary_data['x'] = x.tolist()\n",
    "dictionary_data['predictions'] = predictions.tolist()\n",
    "dictionary_data['hidden_layers'] = [e.tolist() for e in hidden_layers]\n",
    "dictionary_data['clusters'] = [e.tolist() for e in clusters]\n",
    "dictionary_data['labels'] = [int(e) for e in labels]\n",
    "dictionary_data['keep'] = keep\n",
    "dictionary_data['best_k'] = [int(e) for e in best_k]\n",
    "\n",
    "sig.saveJson(\"./json/signature_137_100.json\", dictionary_data)"
   ]
  },
  {
   "cell_type": "code",
   "execution_count": 8,
   "id": "substantial-looking",
   "metadata": {},
   "outputs": [
    {
     "data": {
      "text/plain": [
       "array([-0.59129445, -0.12178362,  0.76050481, -0.34433027, -0.76420291,\n",
       "       -1.23300715, -0.91393141, -0.71392852, -0.59035562, -0.87485081,\n",
       "       -0.9657925 , -0.11164789, -1.26841968,  1.06966108, -0.08192214,\n",
       "       -0.65367324,  1.30537999,  0.01059932, -0.45116781, -0.23895567,\n",
       "       -0.86314508, -0.12159545,  0.2736382 , -0.09850347, -0.71676883,\n",
       "        1.34588877, -0.26856725, -0.11735671,  1.7637605 ,  0.01682869,\n",
       "        0.30756139, -1.46825185])"
      ]
     },
     "execution_count": 8,
     "metadata": {},
     "output_type": "execute_result"
    }
   ],
   "source": [
    "hidden_layers[0][0]"
   ]
  },
  {
   "cell_type": "code",
   "execution_count": 9,
   "id": "absent-poetry",
   "metadata": {},
   "outputs": [],
   "source": [
    "# Build colorscale\n",
    "colorscale = {\n",
    "    'color': np.zeros(len(x), dtype='uint8'),\n",
    "    'colorscale': ['grey', '#ee1717', '#7201a8', '#17a60d', '#291ae0', '#f418ff', '#e3ae04', \n",
    "                    '#fb5e09', 'black', '#0ed6e1', '#d35400'],\n",
    "    'cmin': 0,\n",
    "    'cmax': 10\n",
    "}\n",
    "\n",
    "dict_data = sig.loadJson(\"./json/signature_137_100\")\n",
    "dict_data['hidden_layers'] = [np.array(e) for e in dict_data['hidden_layers']]\n",
    "\n",
    "traces = sig.umap_plot(x, labels, predictions, hidden_layers, clusters, colorscale)\n",
    "\n",
    "parcats = sig.parcats(labels, keep, best_k, clusters, predictions, colorscale)\n",
    "\n",
    "traces.append(parcats)"
   ]
  },
  {
   "cell_type": "code",
   "execution_count": 10,
   "id": "rocky-lighter",
   "metadata": {},
   "outputs": [
    {
     "data": {
      "text/plain": [
       "array([-0.22757819, -0.79512683,  0.16782288,  0.61645832, -0.39777305,\n",
       "       -0.73877508,  1.87092877, -0.1690636 , -0.75209623,  0.2067113 ,\n",
       "        1.80121284, -0.39938427, -1.52332161, -0.84367227, -1.11410413,\n",
       "       -0.72569969,  0.843273  , -1.14408849, -0.66837436,  0.        ,\n",
       "       -0.93577334, -0.78200563,  1.5594385 , -0.29373152,  2.20142065,\n",
       "        1.11667012, -0.5616308 , -0.00880984, -0.18264359, -2.06096712,\n",
       "        0.9336958 , -0.2066273 ])"
      ]
     },
     "execution_count": 10,
     "metadata": {},
     "output_type": "execute_result"
    }
   ],
   "source": [
    "dict_data['hidden_layers'][0][0]"
   ]
  },
  {
   "cell_type": "code",
   "execution_count": 11,
   "id": "pressed-still",
   "metadata": {},
   "outputs": [],
   "source": [
    "def image_to_byte_array(image):\n",
    "    imgByteArr = io.BytesIO()\n",
    "    image.save(imgByteArr, format='png')\n",
    "    imgByteArr = imgByteArr.getvalue()\n",
    "    return imgByteArr\n",
    "\n",
    "def to_image(x):\n",
    "    return  image_to_byte_array(\n",
    "                PIL.Image.fromarray(\n",
    "                    (x.reshape((len(x_train_origin[0]) , len(x_train_origin[0][0]))) * 255).astype(np.uint8)\n",
    "                ))\n",
    "\n",
    "# Update color callback\n",
    "def update_color(trace, points, state):\n",
    "    # Compute new color array\n",
    "    new_color = np.array(trace.marker.color)\n",
    "    new_color[points.point_inds] = color_toggle.index\n",
    "    with fig.batch_update():\n",
    "        # Update scatter color\n",
    "        for i in range(len(fig.data)-1):\n",
    "            fig.data[i].marker.color = new_color\n",
    "\n",
    "        # Update parcats colors\n",
    "        fig.data[len(fig.data)-1].line.color = new_color\n",
    "        \n",
    "# Update color callback\n",
    "def update_parcats_color(trace, points, state):\n",
    "    # Compute new color array\n",
    "    new_color = np.array(trace.line.color)\n",
    "    new_color[points.point_inds] = color_toggle.index\n",
    "    with fig.batch_update():\n",
    "        # Update scatter color\n",
    "        for i in range(len(fig.data)-1):\n",
    "            fig.data[i].marker.color = new_color\n",
    "\n",
    "        # Update parcats colors\n",
    "        fig.data[len(fig.data)-1].line.color = new_color\n",
    "        \n",
    "def print_image(trace, points, state):     \n",
    "    # Image update\n",
    "    if (points.point_inds != []):\n",
    "        image_widget.value = to_image(x[points.point_inds[0]])"
   ]
  },
  {
   "cell_type": "code",
   "execution_count": 12,
   "id": "julian-chicken",
   "metadata": {},
   "outputs": [
    {
     "data": {
      "application/vnd.jupyter.widget-view+json": {
       "model_id": "11bb938cd2ab4b5abdea13c327a27169",
       "version_major": 2,
       "version_minor": 0
      },
      "text/plain": [
       "VBox(children=(ToggleButtons(description='Color:', index=1, options=('None', 'Red', 'Purple', 'Green', 'Blue',…"
      ]
     },
     "metadata": {},
     "output_type": "display_data"
    }
   ],
   "source": [
    "fig = make_subplots(rows=3, figure=go.FigureWidget(), specs=[[{'type': 'xy'}],\n",
    "                                                             [{'type': 'xy'}],\n",
    "                                                            [{'type': 'parcats'}]])\n",
    "\n",
    "fig.add_traces(traces, rows=[1, 2, 3], cols=[1, 1, 1])\n",
    "\n",
    "fig.update_layout(height=800,\n",
    "                    dragmode='lasso', hovermode='closest')\n",
    "\n",
    "# Build color selection widget\n",
    "color_toggle = widgets.ToggleButtons(\n",
    "    options=['None', 'Red', 'Purple', 'Green', 'Blue', 'Pink', \n",
    "                 'Yellow', 'Orange','Black' ,'Aqua', 'Brown'],\n",
    "    index=1, description='Color:', disabled=False)\n",
    "    \n",
    "image_widget = Image(\n",
    "    value=to_image(x[0]),\n",
    "    layout=Layout(height='100px', width='100px')\n",
    ")\n",
    "\n",
    "# Register callback on scatter selection...\n",
    "fig.data[0].on_selection(update_color)\n",
    "fig.data[1].on_selection(update_color)\n",
    "\n",
    "fig.data[0].on_hover(print_image)\n",
    "fig.data[1].on_hover(print_image)\n",
    "\n",
    "# and parcats click\n",
    "fig.data[2].on_click(update_parcats_color)\n",
    "\n",
    "# Display figure\n",
    "widgets.VBox([color_toggle, image_widget, fig])"
   ]
  },
  {
   "cell_type": "code",
   "execution_count": 13,
   "id": "lesbian-inspection",
   "metadata": {},
   "outputs": [
    {
     "data": {
      "application/vnd.jupyter.widget-view+json": {
       "model_id": "7e4fe454419d4c1ea1a9d287bdeb442b",
       "version_major": 2,
       "version_minor": 0
      },
      "text/plain": [
       "FigureWidget({\n",
       "    'data': [{'customdata': array([[1, 1, 2],\n",
       "                                   [1, 1, 2],\n",
       "   …"
      ]
     },
     "metadata": {},
     "output_type": "display_data"
    }
   ],
   "source": [
    "display(fig)"
   ]
  },
  {
   "cell_type": "code",
   "execution_count": null,
   "id": "parental-allergy",
   "metadata": {},
   "outputs": [],
   "source": []
  }
 ],
 "metadata": {
  "kernelspec": {
   "display_name": "Python 3",
   "language": "python",
   "name": "python3"
  },
  "language_info": {
   "codemirror_mode": {
    "name": "ipython",
    "version": 3
   },
   "file_extension": ".py",
   "mimetype": "text/x-python",
   "name": "python",
   "nbconvert_exporter": "python",
   "pygments_lexer": "ipython3",
   "version": "3.8.5"
  }
 },
 "nbformat": 4,
 "nbformat_minor": 5
}
