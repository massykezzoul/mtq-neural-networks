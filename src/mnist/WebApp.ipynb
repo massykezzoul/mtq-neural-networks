{
 "cells": [
  {
   "cell_type": "code",
   "execution_count": 1,
   "id": "alternate-officer",
   "metadata": {},
   "outputs": [],
   "source": [
    "import numpy as np\n",
    "from tensorflow import keras\n",
    "from tools import signature as sig\n",
    "from sklearn.preprocessing import StandardScaler\n",
    "\n",
    "from ipywidgets import interact, fixed\n",
    "import ipywidgets as widgets\n",
    "from plotly.subplots import make_subplots\n",
    "import plotly.graph_objects as go\n",
    "\n",
    "from ipywidgets import Image, Layout\n",
    "import PIL.Image\n",
    "import io"
   ]
  },
  {
   "cell_type": "markdown",
   "id": "invalid-search",
   "metadata": {},
   "source": [
    "<h1> Titre </h1>"
   ]
  },
  {
   "cell_type": "code",
   "execution_count": 2,
   "id": "essential-father",
   "metadata": {},
   "outputs": [
    {
     "name": "stdout",
     "output_type": "stream",
     "text": [
      "INFO:tensorflow:Assets written to: ./models/trained_model_2_16/assets\n"
     ]
    }
   ],
   "source": [
    "#@interact(keep=fixed([1,3,7]), n=widgets.IntSlider(min=50, max=300, step=10, value=100))\n",
    "keep = [1, 7]\n",
    "n = 50\n",
    "\n",
    "keep.sort()\n",
    "(x_train_origin, y_train_origin), (x_test_origin, y_test_origin)= \\\n",
    "    keras.datasets.mnist.load_data(path='all_mnist.npz')\n",
    "\n",
    "(x, y), (x_test, y_test) = sig.pretraitement(x_train_origin, y_train_origin, \n",
    "                                             x_test_origin, y_test_origin, \n",
    "                                             keep=keep, n=n, verbose=False)\n",
    "\n",
    "layers = [32, 16]\n",
    "model = sig.trained_model(x, y, hidden_layers=layers, verbose=False)\n",
    "\n",
    "loss, acc = model.evaluate(x_test, y_test)\n",
    "if False:\n",
    "    print(\"loss =\", loss, \", accuracy =\",acc)\n",
    "\n",
    "predictions = sig.get_preditions(model, x, keep, verbose=False)\n",
    "labels = [keep[np.argmax(l)] for l in y]\n",
    "\n",
    "hidden_layers = model.get_hidden_layers_outputs(x)\n",
    "\n",
    "    # Standardization \n",
    "    # A noter que sans cette standardisation on a de plus beau score silhouette\n",
    "for i in range(len(hidden_layers)):\n",
    "    hidden_layers[i] = StandardScaler().fit_transform(hidden_layers[i])\n",
    "\n",
    "best_k = sig.get_best_k(hidden_layers, kmax = len(keep),verbose=False)\n",
    "\n",
    "clusters = sig.clustering(hidden_layers, best_k)\n",
    "\n",
    "\n",
    "# Build colorscale\n",
    "colorscale = {\n",
    "    'color': np.zeros(len(x), dtype='uint8'),\n",
    "    'colorscale': ['grey', '#ee1717', '#7201a8', '#17a60d', '#291ae0', '#f418ff', '#e3ae04', \n",
    "                   '#fb5e09', 'black', '#0ed6e1', '#d35400'],\n",
    "    'cmin': 0,\n",
    "    'cmax': 10\n",
    "}\n",
    "\n",
    "\n",
    "traces = sig.umap_plot(x, labels, predictions, hidden_layers, clusters, colorscale)\n",
    "\n",
    "#sankey = sig.sankey(labels, keep, best_k, clusters, predictions)\n",
    "parcats = sig.parcats(labels, keep, best_k, clusters, predictions, colorscale)\n",
    "\n",
    "traces.append(parcats)"
   ]
  },
  {
   "cell_type": "code",
   "execution_count": 9,
   "id": "elder-professional",
   "metadata": {
    "scrolled": true
   },
   "outputs": [
    {
     "data": {
      "application/vnd.jupyter.widget-view+json": {
       "model_id": "ab6dfe6116c24119855707a881c749d7",
       "version_major": 2,
       "version_minor": 0
      },
      "text/plain": [
       "VBox(children=(ToggleButtons(description='Color:', index=1, options=('None', 'Red', 'Purple', 'Green', 'Blue',…"
      ]
     },
     "metadata": {},
     "output_type": "display_data"
    }
   ],
   "source": [
    "fig = make_subplots(rows=3, figure=go.FigureWidget(), specs=[[{'type': 'xy'}],\n",
    "                                                             [{'type': 'xy'}],\n",
    "                                                            [{'type': 'parcats'}]])\n",
    "\n",
    "fig.add_traces(traces, rows=[1, 2, 3], cols=[1, 1, 1])\n",
    "\n",
    "fig.update_layout(height=800,\n",
    "                  dragmode='lasso', hovermode='closest')\n",
    "\n",
    "def image_to_byte_array(image):\n",
    "    imgByteArr = io.BytesIO()\n",
    "    image.save(imgByteArr, format='png')\n",
    "    imgByteArr = imgByteArr.getvalue()\n",
    "    return imgByteArr\n",
    "\n",
    "def to_image(x):\n",
    "    return  image_to_byte_array(\n",
    "                PIL.Image.fromarray(\n",
    "                    (x.reshape((len(x_train_origin[0]) , len(x_train_origin[0][0]))) * 255).astype(np.uint8)\n",
    "                ))\n",
    "\n",
    "image_widget = Image(\n",
    "    value=to_image(x[0]),\n",
    "    layout=Layout(height='100px', width='100px')\n",
    ")\n",
    "\n",
    "# Build color selection widget\n",
    "color_toggle = widgets.ToggleButtons(\n",
    "    options=['None', 'Red', 'Purple', 'Green', 'Blue', 'Pink', \n",
    "             'Yellow', 'Orange','Black' ,'Aqua', 'Brown'],\n",
    "    index=1, description='Color:', disabled=False)\n",
    "\n",
    "# Update color callback\n",
    "def update_color(trace, points, state):\n",
    "    # Compute new color array\n",
    "    new_color = np.array(trace.marker.color)\n",
    "    new_color[points.point_inds] = color_toggle.index\n",
    "    with fig.batch_update():\n",
    "        # Update scatter color\n",
    "        for i in range(len(fig.data)-1):\n",
    "            fig.data[i].marker.color = new_color\n",
    "\n",
    "        # Update parcats colors\n",
    "        fig.data[len(fig.data)-1].line.color = new_color\n",
    "        \n",
    "def print_image(trace, points, state):     \n",
    "    # Image update\n",
    "    if (points.point_inds != []):\n",
    "        image_widget.value = to_image(x[points.point_inds[0]])\n",
    "\n",
    "\n",
    "# Register callback on scatter selection...\n",
    "fig.data[0].on_selection(update_color)\n",
    "fig.data[1].on_selection(update_color)\n",
    "\n",
    "fig.data[0].on_hover(print_image)\n",
    "fig.data[1].on_hover(print_image)\n",
    "\n",
    "# and parcats click\n",
    "#fig.data[2].on_click(update_color)\n",
    "\n",
    "# Display figure\n",
    "widgets.VBox([color_toggle, image_widget, fig])"
   ]
  },
  {
   "cell_type": "code",
   "execution_count": null,
   "id": "noted-optimum",
   "metadata": {},
   "outputs": [],
   "source": []
  },
  {
   "cell_type": "code",
   "execution_count": null,
   "id": "compound-demonstration",
   "metadata": {},
   "outputs": [],
   "source": []
  }
 ],
 "metadata": {
  "kernelspec": {
   "display_name": "Python 3",
   "language": "python",
   "name": "python3"
  },
  "language_info": {
   "codemirror_mode": {
    "name": "ipython",
    "version": 3
   },
   "file_extension": ".py",
   "mimetype": "text/x-python",
   "name": "python",
   "nbconvert_exporter": "python",
   "pygments_lexer": "ipython3",
   "version": "3.8.6"
  }
 },
 "nbformat": 4,
 "nbformat_minor": 5
}
